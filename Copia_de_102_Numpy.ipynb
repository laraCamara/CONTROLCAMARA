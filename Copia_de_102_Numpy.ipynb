{
  "nbformat": 4,
  "nbformat_minor": 0,
  "metadata": {
    "colab": {
      "provenance": [],
      "include_colab_link": true
    },
    "kernelspec": {
      "name": "python3",
      "display_name": "Python 3"
    },
    "language_info": {
      "name": "python"
    }
  },
  "cells": [
    {
      "cell_type": "markdown",
      "metadata": {
        "id": "view-in-github",
        "colab_type": "text"
      },
      "source": [
        "<a href=\"https://colab.research.google.com/github/laraCamara/CONTROLCAMARA/blob/master/Copia_de_102_Numpy.ipynb\" target=\"_parent\"><img src=\"https://colab.research.google.com/assets/colab-badge.svg\" alt=\"Open In Colab\"/></a>"
      ]
    },
    {
      "cell_type": "markdown",
      "source": [
        "# Los módulos básicos para usar Inteligencia Artificial: ```numpy``` y ```pandas```."
      ],
      "metadata": {
        "id": "UP5Rvm9R4cB2"
      }
    },
    {
      "cell_type": "markdown",
      "source": [
        "Como indicamos al final del _cuadernillo_ anterior mencionamos las formas que tenemos de importar módulos en Python.\n",
        "\n",
        "En particular, durante este nuevo _cuadernillo_, haremos uso del módulo de ```numpy```, que nos permite trabajar con vectores."
      ],
      "metadata": {
        "id": "ENXNNpY84cMv"
      }
    },
    {
      "cell_type": "markdown",
      "source": [
        "# Numpy"
      ],
      "metadata": {
        "id": "6oq_GdOd7-C_"
      }
    },
    {
      "cell_type": "markdown",
      "source": [
        "## Instalación"
      ],
      "metadata": {
        "id": "nR9dmNsc8Aki"
      }
    },
    {
      "cell_type": "markdown",
      "source": [
        "Comencemos con ```numpy```.\n",
        "\n",
        "Lo primero que debemos hacer es importar el módulo. Aunque posiblemente ya esté en esta versión de Python (Google Colab instala por nosotros algunos módulos que se utilizan casi siempre), supongamos que no lo tenemos.\n",
        "\n",
        "Vamos a instalar un nuevo módulo. Para ello, debemos comprender que el intérprete que tenemos delante está sobre una máquina Linux, por lo que podemos utilizar todos los comandos que ya conocemos. Por ejemplo, podemos hacer uso del gestor de paquetes ```pip```.\n",
        "\n",
        "Para utilizar cualquier comando, debemos precederlo de este símbolo ```!```."
      ],
      "metadata": {
        "id": "WfkkDSUg74aT"
      }
    },
    {
      "cell_type": "code",
      "execution_count": null,
      "metadata": {
        "colab": {
          "base_uri": "https://localhost:8080/"
        },
        "id": "bLUHEGEE4X14",
        "outputId": "0c2b2490-6dbd-42f1-ad6a-6c7bfab45cfe"
      },
      "outputs": [
        {
          "output_type": "stream",
          "name": "stdout",
          "text": [
            "Requirement already satisfied: numpy in /usr/local/lib/python3.10/dist-packages (1.23.5)\n"
          ]
        }
      ],
      "source": [
        "!pip install numpy"
      ]
    },
    {
      "cell_type": "markdown",
      "source": [
        "Para sorpresa de nadie, ```numpy``` ya estaba instalado (_requisito ya satisfecho_).\n",
        "\n",
        "Veremos en mayor profundidad el uso de ```pip``` cuando necesitemos instalar módulos más grandes y complejos.\n",
        "\n",
        "Por ahora, importaremos ```numpy```."
      ],
      "metadata": {
        "id": "SlUhKoBi5UkE"
      }
    },
    {
      "cell_type": "code",
      "source": [
        "import numpy as np # numpy siempre se importa como np, la comunidad de Python lo entenderá mejor así"
      ],
      "metadata": {
        "id": "jphlO0T95SsY"
      },
      "execution_count": null,
      "outputs": []
    },
    {
      "cell_type": "markdown",
      "source": [
        "Ahora ya disponemos de toda la funcionalidad de ```numpy```.\n",
        "\n",
        "Por ejemplo, podemos utilizar la función ```dir``` para mostrar todas las funciones, clases y submódulos dentro de cualquier cosa, en particular, el módulo ```numpy```."
      ],
      "metadata": {
        "id": "P4-9OAyT51-P"
      }
    },
    {
      "cell_type": "code",
      "source": [
        "dir(np) # recuerda que le hemos dado el álias np"
      ],
      "metadata": {
        "colab": {
          "base_uri": "https://localhost:8080/"
        },
        "id": "YgXDjlKv50Np",
        "outputId": "7f462c7a-3062-455d-b6d8-d821c5324897"
      },
      "execution_count": null,
      "outputs": [
        {
          "output_type": "execute_result",
          "data": {
            "text/plain": [
              "['ALLOW_THREADS',\n",
              " 'AxisError',\n",
              " 'BUFSIZE',\n",
              " 'CLIP',\n",
              " 'ComplexWarning',\n",
              " 'DataSource',\n",
              " 'ERR_CALL',\n",
              " 'ERR_DEFAULT',\n",
              " 'ERR_IGNORE',\n",
              " 'ERR_LOG',\n",
              " 'ERR_PRINT',\n",
              " 'ERR_RAISE',\n",
              " 'ERR_WARN',\n",
              " 'FLOATING_POINT_SUPPORT',\n",
              " 'FPE_DIVIDEBYZERO',\n",
              " 'FPE_INVALID',\n",
              " 'FPE_OVERFLOW',\n",
              " 'FPE_UNDERFLOW',\n",
              " 'False_',\n",
              " 'Inf',\n",
              " 'Infinity',\n",
              " 'MAXDIMS',\n",
              " 'MAY_SHARE_BOUNDS',\n",
              " 'MAY_SHARE_EXACT',\n",
              " 'ModuleDeprecationWarning',\n",
              " 'NAN',\n",
              " 'NINF',\n",
              " 'NZERO',\n",
              " 'NaN',\n",
              " 'PINF',\n",
              " 'PZERO',\n",
              " 'RAISE',\n",
              " 'RankWarning',\n",
              " 'SHIFT_DIVIDEBYZERO',\n",
              " 'SHIFT_INVALID',\n",
              " 'SHIFT_OVERFLOW',\n",
              " 'SHIFT_UNDERFLOW',\n",
              " 'ScalarType',\n",
              " 'Tester',\n",
              " 'TooHardError',\n",
              " 'True_',\n",
              " 'UFUNC_BUFSIZE_DEFAULT',\n",
              " 'UFUNC_PYVALS_NAME',\n",
              " 'VisibleDeprecationWarning',\n",
              " 'WRAP',\n",
              " '_CopyMode',\n",
              " '_NoValue',\n",
              " '_UFUNC_API',\n",
              " '__NUMPY_SETUP__',\n",
              " '__all__',\n",
              " '__builtins__',\n",
              " '__cached__',\n",
              " '__config__',\n",
              " '__deprecated_attrs__',\n",
              " '__dir__',\n",
              " '__doc__',\n",
              " '__expired_functions__',\n",
              " '__file__',\n",
              " '__getattr__',\n",
              " '__git_version__',\n",
              " '__loader__',\n",
              " '__name__',\n",
              " '__package__',\n",
              " '__path__',\n",
              " '__spec__',\n",
              " '__version__',\n",
              " '_add_newdoc_ufunc',\n",
              " '_distributor_init',\n",
              " '_financial_names',\n",
              " '_globals',\n",
              " '_mat',\n",
              " '_pyinstaller_hooks_dir',\n",
              " '_pytesttester',\n",
              " '_version',\n",
              " 'abs',\n",
              " 'absolute',\n",
              " 'add',\n",
              " 'add_docstring',\n",
              " 'add_newdoc',\n",
              " 'add_newdoc_ufunc',\n",
              " 'all',\n",
              " 'allclose',\n",
              " 'alltrue',\n",
              " 'amax',\n",
              " 'amin',\n",
              " 'angle',\n",
              " 'any',\n",
              " 'append',\n",
              " 'apply_along_axis',\n",
              " 'apply_over_axes',\n",
              " 'arange',\n",
              " 'arccos',\n",
              " 'arccosh',\n",
              " 'arcsin',\n",
              " 'arcsinh',\n",
              " 'arctan',\n",
              " 'arctan2',\n",
              " 'arctanh',\n",
              " 'argmax',\n",
              " 'argmin',\n",
              " 'argpartition',\n",
              " 'argsort',\n",
              " 'argwhere',\n",
              " 'around',\n",
              " 'array',\n",
              " 'array2string',\n",
              " 'array_equal',\n",
              " 'array_equiv',\n",
              " 'array_repr',\n",
              " 'array_split',\n",
              " 'array_str',\n",
              " 'asanyarray',\n",
              " 'asarray',\n",
              " 'asarray_chkfinite',\n",
              " 'ascontiguousarray',\n",
              " 'asfarray',\n",
              " 'asfortranarray',\n",
              " 'asmatrix',\n",
              " 'atleast_1d',\n",
              " 'atleast_2d',\n",
              " 'atleast_3d',\n",
              " 'average',\n",
              " 'bartlett',\n",
              " 'base_repr',\n",
              " 'binary_repr',\n",
              " 'bincount',\n",
              " 'bitwise_and',\n",
              " 'bitwise_not',\n",
              " 'bitwise_or',\n",
              " 'bitwise_xor',\n",
              " 'blackman',\n",
              " 'block',\n",
              " 'bmat',\n",
              " 'bool8',\n",
              " 'bool_',\n",
              " 'broadcast',\n",
              " 'broadcast_arrays',\n",
              " 'broadcast_shapes',\n",
              " 'broadcast_to',\n",
              " 'busday_count',\n",
              " 'busday_offset',\n",
              " 'busdaycalendar',\n",
              " 'byte',\n",
              " 'byte_bounds',\n",
              " 'bytes0',\n",
              " 'bytes_',\n",
              " 'c_',\n",
              " 'can_cast',\n",
              " 'cast',\n",
              " 'cbrt',\n",
              " 'cdouble',\n",
              " 'ceil',\n",
              " 'cfloat',\n",
              " 'char',\n",
              " 'character',\n",
              " 'chararray',\n",
              " 'choose',\n",
              " 'clip',\n",
              " 'clongdouble',\n",
              " 'clongfloat',\n",
              " 'column_stack',\n",
              " 'common_type',\n",
              " 'compare_chararrays',\n",
              " 'compat',\n",
              " 'complex128',\n",
              " 'complex256',\n",
              " 'complex64',\n",
              " 'complex_',\n",
              " 'complexfloating',\n",
              " 'compress',\n",
              " 'concatenate',\n",
              " 'conj',\n",
              " 'conjugate',\n",
              " 'convolve',\n",
              " 'copy',\n",
              " 'copysign',\n",
              " 'copyto',\n",
              " 'core',\n",
              " 'corrcoef',\n",
              " 'correlate',\n",
              " 'cos',\n",
              " 'cosh',\n",
              " 'count_nonzero',\n",
              " 'cov',\n",
              " 'cross',\n",
              " 'csingle',\n",
              " 'ctypeslib',\n",
              " 'cumprod',\n",
              " 'cumproduct',\n",
              " 'cumsum',\n",
              " 'datetime64',\n",
              " 'datetime_as_string',\n",
              " 'datetime_data',\n",
              " 'deg2rad',\n",
              " 'degrees',\n",
              " 'delete',\n",
              " 'deprecate',\n",
              " 'deprecate_with_doc',\n",
              " 'diag',\n",
              " 'diag_indices',\n",
              " 'diag_indices_from',\n",
              " 'diagflat',\n",
              " 'diagonal',\n",
              " 'diff',\n",
              " 'digitize',\n",
              " 'disp',\n",
              " 'divide',\n",
              " 'divmod',\n",
              " 'dot',\n",
              " 'double',\n",
              " 'dsplit',\n",
              " 'dstack',\n",
              " 'dtype',\n",
              " 'e',\n",
              " 'ediff1d',\n",
              " 'einsum',\n",
              " 'einsum_path',\n",
              " 'emath',\n",
              " 'empty',\n",
              " 'empty_like',\n",
              " 'equal',\n",
              " 'errstate',\n",
              " 'euler_gamma',\n",
              " 'exp',\n",
              " 'exp2',\n",
              " 'expand_dims',\n",
              " 'expm1',\n",
              " 'extract',\n",
              " 'eye',\n",
              " 'fabs',\n",
              " 'fastCopyAndTranspose',\n",
              " 'fft',\n",
              " 'fill_diagonal',\n",
              " 'find_common_type',\n",
              " 'finfo',\n",
              " 'fix',\n",
              " 'flatiter',\n",
              " 'flatnonzero',\n",
              " 'flexible',\n",
              " 'flip',\n",
              " 'fliplr',\n",
              " 'flipud',\n",
              " 'float128',\n",
              " 'float16',\n",
              " 'float32',\n",
              " 'float64',\n",
              " 'float_',\n",
              " 'float_power',\n",
              " 'floating',\n",
              " 'floor',\n",
              " 'floor_divide',\n",
              " 'fmax',\n",
              " 'fmin',\n",
              " 'fmod',\n",
              " 'format_float_positional',\n",
              " 'format_float_scientific',\n",
              " 'format_parser',\n",
              " 'frexp',\n",
              " 'from_dlpack',\n",
              " 'frombuffer',\n",
              " 'fromfile',\n",
              " 'fromfunction',\n",
              " 'fromiter',\n",
              " 'frompyfunc',\n",
              " 'fromregex',\n",
              " 'fromstring',\n",
              " 'full',\n",
              " 'full_like',\n",
              " 'gcd',\n",
              " 'generic',\n",
              " 'genfromtxt',\n",
              " 'geomspace',\n",
              " 'get_array_wrap',\n",
              " 'get_include',\n",
              " 'get_printoptions',\n",
              " 'getbufsize',\n",
              " 'geterr',\n",
              " 'geterrcall',\n",
              " 'geterrobj',\n",
              " 'gradient',\n",
              " 'greater',\n",
              " 'greater_equal',\n",
              " 'half',\n",
              " 'hamming',\n",
              " 'hanning',\n",
              " 'heaviside',\n",
              " 'histogram',\n",
              " 'histogram2d',\n",
              " 'histogram_bin_edges',\n",
              " 'histogramdd',\n",
              " 'hsplit',\n",
              " 'hstack',\n",
              " 'hypot',\n",
              " 'i0',\n",
              " 'identity',\n",
              " 'iinfo',\n",
              " 'imag',\n",
              " 'in1d',\n",
              " 'index_exp',\n",
              " 'indices',\n",
              " 'inexact',\n",
              " 'inf',\n",
              " 'info',\n",
              " 'infty',\n",
              " 'inner',\n",
              " 'insert',\n",
              " 'int0',\n",
              " 'int16',\n",
              " 'int32',\n",
              " 'int64',\n",
              " 'int8',\n",
              " 'int_',\n",
              " 'intc',\n",
              " 'integer',\n",
              " 'interp',\n",
              " 'intersect1d',\n",
              " 'intp',\n",
              " 'invert',\n",
              " 'is_busday',\n",
              " 'isclose',\n",
              " 'iscomplex',\n",
              " 'iscomplexobj',\n",
              " 'isfinite',\n",
              " 'isfortran',\n",
              " 'isin',\n",
              " 'isinf',\n",
              " 'isnan',\n",
              " 'isnat',\n",
              " 'isneginf',\n",
              " 'isposinf',\n",
              " 'isreal',\n",
              " 'isrealobj',\n",
              " 'isscalar',\n",
              " 'issctype',\n",
              " 'issubclass_',\n",
              " 'issubdtype',\n",
              " 'issubsctype',\n",
              " 'iterable',\n",
              " 'ix_',\n",
              " 'kaiser',\n",
              " 'kernel_version',\n",
              " 'kron',\n",
              " 'lcm',\n",
              " 'ldexp',\n",
              " 'left_shift',\n",
              " 'less',\n",
              " 'less_equal',\n",
              " 'lexsort',\n",
              " 'lib',\n",
              " 'linalg',\n",
              " 'linspace',\n",
              " 'little_endian',\n",
              " 'load',\n",
              " 'loadtxt',\n",
              " 'log',\n",
              " 'log10',\n",
              " 'log1p',\n",
              " 'log2',\n",
              " 'logaddexp',\n",
              " 'logaddexp2',\n",
              " 'logical_and',\n",
              " 'logical_not',\n",
              " 'logical_or',\n",
              " 'logical_xor',\n",
              " 'logspace',\n",
              " 'longcomplex',\n",
              " 'longdouble',\n",
              " 'longfloat',\n",
              " 'longlong',\n",
              " 'lookfor',\n",
              " 'ma',\n",
              " 'mask_indices',\n",
              " 'mat',\n",
              " 'math',\n",
              " 'matmul',\n",
              " 'matrix',\n",
              " 'matrixlib',\n",
              " 'max',\n",
              " 'maximum',\n",
              " 'maximum_sctype',\n",
              " 'may_share_memory',\n",
              " 'mean',\n",
              " 'median',\n",
              " 'memmap',\n",
              " 'meshgrid',\n",
              " 'mgrid',\n",
              " 'min',\n",
              " 'min_scalar_type',\n",
              " 'minimum',\n",
              " 'mintypecode',\n",
              " 'mod',\n",
              " 'modf',\n",
              " 'moveaxis',\n",
              " 'msort',\n",
              " 'multiply',\n",
              " 'nan',\n",
              " 'nan_to_num',\n",
              " 'nanargmax',\n",
              " 'nanargmin',\n",
              " 'nancumprod',\n",
              " 'nancumsum',\n",
              " 'nanmax',\n",
              " 'nanmean',\n",
              " 'nanmedian',\n",
              " 'nanmin',\n",
              " 'nanpercentile',\n",
              " 'nanprod',\n",
              " 'nanquantile',\n",
              " 'nanstd',\n",
              " 'nansum',\n",
              " 'nanvar',\n",
              " 'nbytes',\n",
              " 'ndarray',\n",
              " 'ndenumerate',\n",
              " 'ndim',\n",
              " 'ndindex',\n",
              " 'nditer',\n",
              " 'negative',\n",
              " 'nested_iters',\n",
              " 'newaxis',\n",
              " 'nextafter',\n",
              " 'nonzero',\n",
              " 'not_equal',\n",
              " 'numarray',\n",
              " 'number',\n",
              " 'obj2sctype',\n",
              " 'object0',\n",
              " 'object_',\n",
              " 'ogrid',\n",
              " 'oldnumeric',\n",
              " 'ones',\n",
              " 'ones_like',\n",
              " 'os',\n",
              " 'outer',\n",
              " 'packbits',\n",
              " 'pad',\n",
              " 'partition',\n",
              " 'percentile',\n",
              " 'pi',\n",
              " 'piecewise',\n",
              " 'place',\n",
              " 'poly',\n",
              " 'poly1d',\n",
              " 'polyadd',\n",
              " 'polyder',\n",
              " 'polydiv',\n",
              " 'polyfit',\n",
              " 'polyint',\n",
              " 'polymul',\n",
              " 'polynomial',\n",
              " 'polysub',\n",
              " 'polyval',\n",
              " 'positive',\n",
              " 'power',\n",
              " 'printoptions',\n",
              " 'prod',\n",
              " 'product',\n",
              " 'promote_types',\n",
              " 'ptp',\n",
              " 'put',\n",
              " 'put_along_axis',\n",
              " 'putmask',\n",
              " 'quantile',\n",
              " 'r_',\n",
              " 'rad2deg',\n",
              " 'radians',\n",
              " 'random',\n",
              " 'ravel',\n",
              " 'ravel_multi_index',\n",
              " 'real',\n",
              " 'real_if_close',\n",
              " 'rec',\n",
              " 'recarray',\n",
              " 'recfromcsv',\n",
              " 'recfromtxt',\n",
              " 'reciprocal',\n",
              " 'record',\n",
              " 'remainder',\n",
              " 'repeat',\n",
              " 'require',\n",
              " 'reshape',\n",
              " 'resize',\n",
              " 'result_type',\n",
              " 'right_shift',\n",
              " 'rint',\n",
              " 'roll',\n",
              " 'rollaxis',\n",
              " 'roots',\n",
              " 'rot90',\n",
              " 'round',\n",
              " 'round_',\n",
              " 'row_stack',\n",
              " 's_',\n",
              " 'safe_eval',\n",
              " 'save',\n",
              " 'savetxt',\n",
              " 'savez',\n",
              " 'savez_compressed',\n",
              " 'sctype2char',\n",
              " 'sctypeDict',\n",
              " 'sctypes',\n",
              " 'searchsorted',\n",
              " 'select',\n",
              " 'set_numeric_ops',\n",
              " 'set_printoptions',\n",
              " 'set_string_function',\n",
              " 'setbufsize',\n",
              " 'setdiff1d',\n",
              " 'seterr',\n",
              " 'seterrcall',\n",
              " 'seterrobj',\n",
              " 'setxor1d',\n",
              " 'shape',\n",
              " 'shares_memory',\n",
              " 'short',\n",
              " 'show_config',\n",
              " 'sign',\n",
              " 'signbit',\n",
              " 'signedinteger',\n",
              " 'sin',\n",
              " 'sinc',\n",
              " 'single',\n",
              " 'singlecomplex',\n",
              " 'sinh',\n",
              " 'size',\n",
              " 'sometrue',\n",
              " 'sort',\n",
              " 'sort_complex',\n",
              " 'source',\n",
              " 'spacing',\n",
              " 'split',\n",
              " 'sqrt',\n",
              " 'square',\n",
              " 'squeeze',\n",
              " 'stack',\n",
              " 'std',\n",
              " 'str0',\n",
              " 'str_',\n",
              " 'string_',\n",
              " 'subtract',\n",
              " 'sum',\n",
              " 'swapaxes',\n",
              " 'sys',\n",
              " 'take',\n",
              " 'take_along_axis',\n",
              " 'tan',\n",
              " 'tanh',\n",
              " 'tensordot',\n",
              " 'test',\n",
              " 'testing',\n",
              " 'tile',\n",
              " 'timedelta64',\n",
              " 'trace',\n",
              " 'tracemalloc_domain',\n",
              " 'transpose',\n",
              " 'trapz',\n",
              " 'tri',\n",
              " 'tril',\n",
              " 'tril_indices',\n",
              " 'tril_indices_from',\n",
              " 'trim_zeros',\n",
              " 'triu',\n",
              " 'triu_indices',\n",
              " 'triu_indices_from',\n",
              " 'true_divide',\n",
              " 'trunc',\n",
              " 'typecodes',\n",
              " 'typename',\n",
              " 'ubyte',\n",
              " 'ufunc',\n",
              " 'uint',\n",
              " 'uint0',\n",
              " 'uint16',\n",
              " 'uint32',\n",
              " 'uint64',\n",
              " 'uint8',\n",
              " 'uintc',\n",
              " 'uintp',\n",
              " 'ulonglong',\n",
              " 'unicode_',\n",
              " 'union1d',\n",
              " 'unique',\n",
              " 'unpackbits',\n",
              " 'unravel_index',\n",
              " 'unsignedinteger',\n",
              " 'unwrap',\n",
              " 'use_hugepage',\n",
              " 'ushort',\n",
              " 'vander',\n",
              " 'var',\n",
              " 'vdot',\n",
              " 'vectorize',\n",
              " 'version',\n",
              " 'void',\n",
              " 'void0',\n",
              " 'vsplit',\n",
              " 'vstack',\n",
              " 'warnings',\n",
              " 'where',\n",
              " 'who',\n",
              " 'zeros',\n",
              " 'zeros_like']"
            ]
          },
          "metadata": {},
          "execution_count": 3
        }
      ]
    },
    {
      "cell_type": "markdown",
      "source": [
        "Como puedes ver, hay muchísimas funciones. Todas ellas tienen funcionalidad que puede llegar a servirte en un futuro, pero obviamente no tienes por qué aprendertelas todas de memoria. Lo normal es que te las vayas aprendiendo sobre la marcha (cuando las vayas utilizando)."
      ],
      "metadata": {
        "id": "rNYPtue36F9z"
      }
    },
    {
      "cell_type": "markdown",
      "source": [
        "## Los ```array```"
      ],
      "metadata": {
        "id": "vduoHsZL8GvL"
      }
    },
    {
      "cell_type": "markdown",
      "source": [
        "La componente más básica de ```numpy``` (de hecho, el motivo por el que fue creado) son los vectores, ```array``` en inglés. Es importante tener en cuenta que estos vectores son multidimensionales.\n",
        "\n",
        "Y es que un ```array``` puede tener las dimensiones que nosotros queramos: una, dos (matriz), tres (cubo), cuatro (hipercubo)...\n",
        "\n",
        "Para crear un ```array``` podemos utilizar varias funciones, en particular vamos a ver tres: ```np.array```, que recibe un iterable para crear un ```array```; ```np.ones_like```, que nos permite crear un ```array``` con las mismas dimensiones que otro pero rellenado con unos (también existe su homólogo ```zeros_like```) y ```np.random.random```, que nos permite crear un ```array``` rellenado con información aleatoria."
      ],
      "metadata": {
        "id": "eHFLjqXE8Jov"
      }
    },
    {
      "cell_type": "code",
      "source": [
        "n = np.array(range(10))\n",
        "n"
      ],
      "metadata": {
        "colab": {
          "base_uri": "https://localhost:8080/"
        },
        "id": "B9IUWKTz6DLy",
        "outputId": "49581832-ce87-43c9-8a41-9dcc3f92c910"
      },
      "execution_count": null,
      "outputs": [
        {
          "output_type": "execute_result",
          "data": {
            "text/plain": [
              "array([0, 1, 2, 3, 4, 5, 6, 7, 8, 9])"
            ]
          },
          "metadata": {},
          "execution_count": 6
        }
      ]
    },
    {
      "cell_type": "code",
      "source": [
        "n2 = np.ones_like(n)\n",
        "n2"
      ],
      "metadata": {
        "colab": {
          "base_uri": "https://localhost:8080/"
        },
        "id": "tL9tpmh26-0a",
        "outputId": "8dc26a21-9ef3-4129-d9e4-08936d7ad562"
      },
      "execution_count": null,
      "outputs": [
        {
          "output_type": "execute_result",
          "data": {
            "text/plain": [
              "array([1, 1, 1, 1, 1, 1, 1, 1, 1, 1])"
            ]
          },
          "metadata": {},
          "execution_count": 8
        }
      ]
    },
    {
      "cell_type": "code",
      "source": [
        "n3 = np.random.random(10)\n",
        "n3"
      ],
      "metadata": {
        "colab": {
          "base_uri": "https://localhost:8080/"
        },
        "id": "pttP2oxw7UwU",
        "outputId": "2aefb17d-3e80-41d9-a017-1e60da8b69f6"
      },
      "execution_count": null,
      "outputs": [
        {
          "output_type": "execute_result",
          "data": {
            "text/plain": [
              "array([0.39644389, 0.07668272, 0.69473629, 0.87780748, 0.63343499,\n",
              "       0.58189669, 0.45409235, 0.65809048, 0.61405979, 0.49091797])"
            ]
          },
          "metadata": {},
          "execution_count": 12
        }
      ]
    },
    {
      "cell_type": "markdown",
      "source": [
        "Hay muchas otras formas de crear un ```array```, posiblemente las acabes viendo en otros lugares. Quédate con la que más te guste, pero no te olvides de las demás porque podrían solucionarte la vida en otros problemas."
      ],
      "metadata": {
        "id": "gJkzG9SA7kMs"
      }
    },
    {
      "cell_type": "markdown",
      "source": [
        "## ```Slices``` sobre los ```array```"
      ],
      "metadata": {
        "id": "fHSl5dHf7yEd"
      }
    },
    {
      "cell_type": "markdown",
      "source": [
        "Una vez creado nuestro ```array```, podemos trasladar todo lo que ya sabemos sobre las listas a este nuevo objeto. En particular (y casi lo más interesante), podemos utilizar los ```slices``` para recorrer cada una de las dimensiones de un ```array```. Por ejemplo:"
      ],
      "metadata": {
        "id": "wVJY7oOB72Xl"
      }
    },
    {
      "cell_type": "code",
      "source": [
        "n = np.array(range(10))\n",
        "n[:5]"
      ],
      "metadata": {
        "colab": {
          "base_uri": "https://localhost:8080/"
        },
        "id": "_48Exe567X-v",
        "outputId": "c98e1b78-6069-45ec-831b-d88bec16c47f"
      },
      "execution_count": null,
      "outputs": [
        {
          "output_type": "execute_result",
          "data": {
            "text/plain": [
              "array([0, 1, 2, 3, 4])"
            ]
          },
          "metadata": {},
          "execution_count": 13
        }
      ]
    },
    {
      "cell_type": "markdown",
      "source": [
        "Podría ser que el ```array``` fuese multidimensional, como el siguiente ejemplo."
      ],
      "metadata": {
        "id": "jVRbUjcK8aau"
      }
    },
    {
      "cell_type": "code",
      "source": [
        "n2 = np.array([range(10), range(10, 20)])\n",
        "n2"
      ],
      "metadata": {
        "colab": {
          "base_uri": "https://localhost:8080/"
        },
        "id": "kjjTjpam8YLo",
        "outputId": "eceb7d63-8f95-435d-ebc1-31d09ced486c"
      },
      "execution_count": null,
      "outputs": [
        {
          "output_type": "execute_result",
          "data": {
            "text/plain": [
              "array([[ 0,  1,  2,  3,  4,  5,  6,  7,  8,  9],\n",
              "       [10, 11, 12, 13, 14, 15, 16, 17, 18, 19]])"
            ]
          },
          "metadata": {},
          "execution_count": 15
        }
      ]
    },
    {
      "cell_type": "markdown",
      "source": [
        "Para recorrer este ```array```, necesitaremos dos ```slices```, uno para cada coordenada.\n",
        "\n",
        "Si te acuerdas, cuando vimos los ```slices``` sobre las listas, vimos que estaban muy limitados cuando teníamos listas de listas. Esta limitación no existe en ```numpy```, y realmente podemos hacer consultas muy sutiles sobre sus ```array```.\n",
        "\n",
        "Por ejemplo, si quisiésemos coger la submatriz que va desde n2\\_00 hasta n2\\_22, podemos usar los siguientes ```slices```."
      ],
      "metadata": {
        "id": "uL8M5oW08jGu"
      }
    },
    {
      "cell_type": "code",
      "source": [
        "n2[:2, :2]"
      ],
      "metadata": {
        "colab": {
          "base_uri": "https://localhost:8080/"
        },
        "id": "5TEYLmmz8hE3",
        "outputId": "f3cbc055-8cff-4518-9c76-382099453e09"
      },
      "execution_count": null,
      "outputs": [
        {
          "output_type": "execute_result",
          "data": {
            "text/plain": [
              "array([[ 0,  1],\n",
              "       [10, 11]])"
            ]
          },
          "metadata": {},
          "execution_count": 16
        }
      ]
    },
    {
      "cell_type": "markdown",
      "source": [
        "Como puedes ver, los ```slices``` se indican en el mismo corchete (**NO** como en las listas), y en cada uno de ellos podemos indicar cualquier cosa que nos permita el ```slice```. En este caso, hemos recorrido esas dimensiones desde el primer elemento hasta el sefgundo (recuerda: siempre sin llegar hasta él).\n",
        "\n",
        "Esta notación es muy sencilla de utilizar y realmente importante a la hora de trabajar con grandes ```array``` de información, quizá de más de dos dimensiones, como pueden ser las imágenes.\n",
        "\n",
        "Cabe destacar que, si queremos recorrer una dimensión entera, podemos utilizar un ```slice``` vacío (recuerda: ```:```)."
      ],
      "metadata": {
        "id": "TnhudPtF9CKx"
      }
    },
    {
      "cell_type": "code",
      "source": [
        "n2[:, :2]"
      ],
      "metadata": {
        "colab": {
          "base_uri": "https://localhost:8080/"
        },
        "id": "JGoW1wtm8_kr",
        "outputId": "b7813c14-fcb8-4bf3-fe1c-6ec9a3b5c46c"
      },
      "execution_count": null,
      "outputs": [
        {
          "output_type": "execute_result",
          "data": {
            "text/plain": [
              "array([[ 0,  1],\n",
              "       [10, 11]])"
            ]
          },
          "metadata": {},
          "execution_count": 17
        }
      ]
    },
    {
      "cell_type": "markdown",
      "source": [
        "En estos casos, el corte lo representarán los demás ```slices```."
      ],
      "metadata": {
        "id": "iBB77MZ69hP2"
      }
    },
    {
      "cell_type": "markdown",
      "source": [
        "## Operaciones básicas entre varios ```array```\n",
        "\n"
      ],
      "metadata": {
        "id": "vea69n_c9qHD"
      }
    },
    {
      "cell_type": "markdown",
      "source": [
        "Como vimos en la programación orientada a objetos, no es raro que una clase tan importante como ```array``` redefina la forma que tiene de trabajar con varios de su misma clase. Por ejemplo, podemos ver que existen las operaciones básicas sobre los ```array```.\n",
        "\n",
        "En particular, cualquier operación entre ```array``` está definida elemento a elemento. Podemos, por tanto, hacer una operación entre un ```array``` y un número."
      ],
      "metadata": {
        "id": "or0b8CYj95fl"
      }
    },
    {
      "cell_type": "code",
      "source": [
        "n2 * 2 # multiplico por dos TODAS las entradas del array"
      ],
      "metadata": {
        "colab": {
          "base_uri": "https://localhost:8080/"
        },
        "id": "L0rG5goH9fTa",
        "outputId": "bc9f499f-e377-4a05-f7a4-a08cd070fd6e"
      },
      "execution_count": null,
      "outputs": [
        {
          "output_type": "execute_result",
          "data": {
            "text/plain": [
              "array([[ 0,  2,  4,  6,  8, 10, 12, 14, 16, 18],\n",
              "       [20, 22, 24, 26, 28, 30, 32, 34, 36, 38]])"
            ]
          },
          "metadata": {},
          "execution_count": 21
        }
      ]
    },
    {
      "cell_type": "markdown",
      "source": [
        "También están definidas las operaciones entre ```array```, es decir: operaciones entre dos o más ```array```.\n",
        "\n",
        "Como estas operaciones se ejecutan elemento a elemento, es muy importante que todos los ```array``` involucrados tengan el mismo tamaño.\n",
        "\n",
        "El tamaño de un ```array``` será siempre información relevante, podemos encontrar esto en el atributo ```shape``` de los ```array```."
      ],
      "metadata": {
        "id": "D6bHwIEg-lbK"
      }
    },
    {
      "cell_type": "code",
      "source": [
        "n2.shape"
      ],
      "metadata": {
        "colab": {
          "base_uri": "https://localhost:8080/"
        },
        "id": "gXqauKfP-b3K",
        "outputId": "0822590d-2abc-499b-e0cb-67928d6d37d8"
      },
      "execution_count": null,
      "outputs": [
        {
          "output_type": "execute_result",
          "data": {
            "text/plain": [
              "(2, 10)"
            ]
          },
          "metadata": {},
          "execution_count": 22
        }
      ]
    },
    {
      "cell_type": "markdown",
      "source": [
        "Por ejemplo, esto nos indica que ```n2``` es un ```array``` con dimensiones 2 (eje y) y 10 (eje x).\n",
        "\n",
        "Fíjate, ahora, que ```numpy``` trabaja con los ejes invertidos: primero las ```y``` y después las ```x```)."
      ],
      "metadata": {
        "id": "MhSHDqf8-_km"
      }
    },
    {
      "cell_type": "code",
      "source": [
        "n3 = np.zeros_like(n2)\n",
        "n2 * n3"
      ],
      "metadata": {
        "colab": {
          "base_uri": "https://localhost:8080/"
        },
        "id": "KhH3QLIj--Oh",
        "outputId": "f13eda23-1a0f-4ced-8cb6-bd1eb2a822fc"
      },
      "execution_count": null,
      "outputs": [
        {
          "output_type": "execute_result",
          "data": {
            "text/plain": [
              "array([[0, 0, 0, 0, 0, 0, 0, 0, 0, 0],\n",
              "       [0, 0, 0, 0, 0, 0, 0, 0, 0, 0]])"
            ]
          },
          "metadata": {},
          "execution_count": 23
        }
      ]
    },
    {
      "cell_type": "markdown",
      "source": [
        "Como es **extremadamente común** querer trabajar con ```array``` que no tengan el mismo tamaño, ```numpy``` ha definido el concepto de **extensión** para un ```array```.\n",
        "\n",
        "```numpy``` intentará ejecutar la operación que nosotros le pidamos **alargando** los ```array``` más pequeños para que coincidan con el grande.\n",
        "\n",
        "Veamos un ejemplo sencillo que ya hemos visto antes: un vector por un escalar.\n",
        "\n",
        "Cuando hacíamos ```n2``` (dos dimensiones) multiplicado por 2 (cero dimensiones --un número suelto no tiene dimensiones), los pasos que seguía ```numpy``` eran los siguientes:"
      ],
      "metadata": {
        "id": "7gZnD1W-_TVx"
      }
    },
    {
      "cell_type": "code",
      "source": [
        "n3 = np.array([2]) # convierte el número en un array numpy de una dimensión\n",
        "n3, n3.shape"
      ],
      "metadata": {
        "colab": {
          "base_uri": "https://localhost:8080/"
        },
        "id": "uK5x4xC7_SEi",
        "outputId": "406a486e-a297-4694-a395-20641b652585"
      },
      "execution_count": null,
      "outputs": [
        {
          "output_type": "execute_result",
          "data": {
            "text/plain": [
              "(array([2]), (1,))"
            ]
          },
          "metadata": {},
          "execution_count": 47
        }
      ]
    },
    {
      "cell_type": "markdown",
      "source": [
        "Después, **extiende** el ```array``` hasta tener el mismo tamaño que el otro, comprimiendo todas las dimensiones en una sola. En nuestro ejemplo, genera un ```array``` de una sola dimensión con 20 elementos (el original tenía 2 dimensiones, una con 10 elementos y otra con 2 --fíjate, es 20 = 10 * 2)."
      ],
      "metadata": {
        "id": "8do9NLozAhj2"
      }
    },
    {
      "cell_type": "code",
      "source": [
        "n3 = np.repeat(n3, (np.prod(n2.shape))) # np.prod devuelve el producto de todos los elementos de un iterable\n",
        "n3"
      ],
      "metadata": {
        "colab": {
          "base_uri": "https://localhost:8080/"
        },
        "id": "UfFdQbLc_4bS",
        "outputId": "737f0724-d534-4f25-8198-cf70e2aa21b4"
      },
      "execution_count": null,
      "outputs": [
        {
          "output_type": "execute_result",
          "data": {
            "text/plain": [
              "array([2, 2, 2, 2, 2, 2, 2, 2, 2, 2, 2, 2, 2, 2, 2, 2, 2, 2, 2, 2])"
            ]
          },
          "metadata": {},
          "execution_count": 49
        }
      ]
    },
    {
      "cell_type": "markdown",
      "source": [
        "Finalmente, modifica la estructura interna del ```array```."
      ],
      "metadata": {
        "id": "agLJpKAjBuHO"
      }
    },
    {
      "cell_type": "code",
      "source": [
        "n3 = n3.reshape(n2.shape)"
      ],
      "metadata": {
        "id": "3-YcLtl8CASw"
      },
      "execution_count": null,
      "outputs": []
    },
    {
      "cell_type": "markdown",
      "source": [
        "Y, ahora, cuando los dos vectores son iguales, puede operar entre ellos."
      ],
      "metadata": {
        "id": "MkGo1PicC-Yb"
      }
    },
    {
      "cell_type": "code",
      "source": [
        "n2 * n3"
      ],
      "metadata": {
        "colab": {
          "base_uri": "https://localhost:8080/"
        },
        "id": "3ga8-GzyCX8n",
        "outputId": "0670740a-9e0c-4f08-e515-cdc23351602e"
      },
      "execution_count": null,
      "outputs": [
        {
          "output_type": "execute_result",
          "data": {
            "text/plain": [
              "array([[ 0,  2,  4,  6,  8, 10, 12, 14, 16, 18],\n",
              "       [20, 22, 24, 26, 28, 30, 32, 34, 36, 38]])"
            ]
          },
          "metadata": {},
          "execution_count": 52
        }
      ]
    },
    {
      "cell_type": "markdown",
      "source": [
        "Pero, ¿qué sucede si no es posible alargar las dimensiones de un ```array``` para poder operar con otro? Obtenemos una de las excepciones más comunes al trabajar con estas librerías:"
      ],
      "metadata": {
        "id": "FY0v0-gtDLi4"
      }
    },
    {
      "cell_type": "code",
      "source": [
        "n = np.array(range(3))\n",
        "n2 = np.array(range(4))\n",
        "# n + n2"
      ],
      "metadata": {
        "id": "sG-G1kyWDCkf"
      },
      "execution_count": null,
      "outputs": []
    },
    {
      "cell_type": "markdown",
      "source": [
        "![image.png](data:image/png;base64,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)"
      ],
      "metadata": {
        "id": "RuyHXiUBDgCo"
      }
    },
    {
      "cell_type": "markdown",
      "source": [
        "Cambiando un poco de tercio, otra de las operaciones básicas entre ```array``` es la **trasposición**, que nos permite permutar las dimensiones de un array. Por ejemplo:"
      ],
      "metadata": {
        "id": "d42-uFGED-5q"
      }
    },
    {
      "cell_type": "code",
      "source": [
        "n = np.ones((3, 2))\n",
        "n"
      ],
      "metadata": {
        "colab": {
          "base_uri": "https://localhost:8080/"
        },
        "id": "t4PAMyxsDaEV",
        "outputId": "26e0098e-7e13-482e-e939-6bac3ec11131"
      },
      "execution_count": null,
      "outputs": [
        {
          "output_type": "execute_result",
          "data": {
            "text/plain": [
              "array([[1., 1.],\n",
              "       [1., 1.],\n",
              "       [1., 1.]])"
            ]
          },
          "metadata": {},
          "execution_count": 60
        }
      ]
    },
    {
      "cell_type": "code",
      "source": [
        "n.transpose()"
      ],
      "metadata": {
        "colab": {
          "base_uri": "https://localhost:8080/"
        },
        "id": "TKVoJXzmDtrw",
        "outputId": "d669ee97-bcb8-447b-c25b-a429ac3ec15f"
      },
      "execution_count": null,
      "outputs": [
        {
          "output_type": "execute_result",
          "data": {
            "text/plain": [
              "array([[1., 1., 1.],\n",
              "       [1., 1., 1.]])"
            ]
          },
          "metadata": {},
          "execution_count": 61
        }
      ]
    },
    {
      "cell_type": "markdown",
      "source": [
        "De hecho, es una operación tan común que su resultado está siempre almacenado en el atributo ```T```."
      ],
      "metadata": {
        "id": "18uRYuKVEURq"
      }
    },
    {
      "cell_type": "code",
      "source": [
        "n.T"
      ],
      "metadata": {
        "colab": {
          "base_uri": "https://localhost:8080/"
        },
        "id": "g-_svq5_ETK2",
        "outputId": "707db697-fed4-4c92-dddf-522b0b0047ba"
      },
      "execution_count": null,
      "outputs": [
        {
          "output_type": "execute_result",
          "data": {
            "text/plain": [
              "array([[1., 1., 1.],\n",
              "       [1., 1., 1.]])"
            ]
          },
          "metadata": {},
          "execution_count": 62
        }
      ]
    },
    {
      "cell_type": "markdown",
      "source": [
        "Obviamente, la **transpuesta** de una **transpuesta** es el propio elemento:"
      ],
      "metadata": {
        "id": "e47bWCHkEb-f"
      }
    },
    {
      "cell_type": "code",
      "source": [
        "n.T.T"
      ],
      "metadata": {
        "colab": {
          "base_uri": "https://localhost:8080/"
        },
        "id": "xhVlik8DEZMq",
        "outputId": "89ba1901-fde8-4952-d1bb-96f4b642cc51"
      },
      "execution_count": null,
      "outputs": [
        {
          "output_type": "execute_result",
          "data": {
            "text/plain": [
              "array([[1., 1.],\n",
              "       [1., 1.],\n",
              "       [1., 1.]])"
            ]
          },
          "metadata": {},
          "execution_count": 63
        }
      ]
    },
    {
      "cell_type": "markdown",
      "source": [
        "Por otra parte, también podemos modificar partes del ```array``` con una simple asignación, por ejemplo:"
      ],
      "metadata": {
        "id": "iDZQOYbaEbZw"
      }
    },
    {
      "cell_type": "code",
      "source": [
        "n[0, :] = 0 # la primera fila es 0 ahora\n",
        "n"
      ],
      "metadata": {
        "colab": {
          "base_uri": "https://localhost:8080/"
        },
        "id": "9ZNclTpyEpoW",
        "outputId": "52dd3a0e-7ce1-48c2-af46-201f901ba158"
      },
      "execution_count": null,
      "outputs": [
        {
          "output_type": "execute_result",
          "data": {
            "text/plain": [
              "array([[0., 0.],\n",
              "       [1., 1.],\n",
              "       [1., 1.]])"
            ]
          },
          "metadata": {},
          "execution_count": 66
        }
      ]
    },
    {
      "cell_type": "markdown",
      "source": [
        "O extraer partes de ese ```array```."
      ],
      "metadata": {
        "id": "wLBjkGXlE9gP"
      }
    },
    {
      "cell_type": "code",
      "source": [
        "_n = n[1:, :]\n",
        "_n"
      ],
      "metadata": {
        "colab": {
          "base_uri": "https://localhost:8080/"
        },
        "id": "LbgakNhxErkR",
        "outputId": "65bfac76-2c2f-4788-b806-969c0b24897b"
      },
      "execution_count": null,
      "outputs": [
        {
          "output_type": "execute_result",
          "data": {
            "text/plain": [
              "array([[1., 1.],\n",
              "       [1., 1.]])"
            ]
          },
          "metadata": {},
          "execution_count": 68
        }
      ]
    },
    {
      "cell_type": "markdown",
      "source": [
        "**CUIDADO**, porque si ahora modificamos la parte extraída..."
      ],
      "metadata": {
        "id": "jHnQu-I2FDn5"
      }
    },
    {
      "cell_type": "code",
      "source": [
        "_n[:] = 0\n",
        "_n"
      ],
      "metadata": {
        "colab": {
          "base_uri": "https://localhost:8080/"
        },
        "id": "wukqmgRSFBGu",
        "outputId": "8d86d40d-77c7-4580-de22-6fa207c21420"
      },
      "execution_count": null,
      "outputs": [
        {
          "output_type": "execute_result",
          "data": {
            "text/plain": [
              "array([[0., 0.],\n",
              "       [0., 0.]])"
            ]
          },
          "metadata": {},
          "execution_count": 69
        }
      ]
    },
    {
      "cell_type": "code",
      "source": [
        "n"
      ],
      "metadata": {
        "colab": {
          "base_uri": "https://localhost:8080/"
        },
        "id": "lk_vMKdyFMgU",
        "outputId": "05eac7c6-c1db-42cb-af25-fcc4d230b6c2"
      },
      "execution_count": null,
      "outputs": [
        {
          "output_type": "execute_result",
          "data": {
            "text/plain": [
              "array([[0., 0.],\n",
              "       [0., 0.],\n",
              "       [0., 0.]])"
            ]
          },
          "metadata": {},
          "execution_count": 70
        }
      ]
    },
    {
      "cell_type": "markdown",
      "source": [
        "También se modifica esa zona del ```array``` original. Esto es provocado por la forma que tiene ```numpy``` de almacenar esta información en memoria.\n",
        "\n",
        "Si quieres trabajar con una zona sin modificar la original, tendrás que duplicar esa zona."
      ],
      "metadata": {
        "id": "fdCKHguxFOe2"
      }
    },
    {
      "cell_type": "code",
      "source": [
        "_n = n[1:, :].copy()\n",
        "_n[:] = 1\n",
        "_n"
      ],
      "metadata": {
        "colab": {
          "base_uri": "https://localhost:8080/"
        },
        "id": "aF-ylJXlFNZH",
        "outputId": "67023db6-288f-4428-c86e-97dc70ff1086"
      },
      "execution_count": null,
      "outputs": [
        {
          "output_type": "execute_result",
          "data": {
            "text/plain": [
              "array([[1., 1.],\n",
              "       [1., 1.]])"
            ]
          },
          "metadata": {},
          "execution_count": 71
        }
      ]
    },
    {
      "cell_type": "code",
      "source": [
        "n"
      ],
      "metadata": {
        "colab": {
          "base_uri": "https://localhost:8080/"
        },
        "id": "VUtu309nFmun",
        "outputId": "f349f7e0-a818-412e-a3e4-815c80192ea0"
      },
      "execution_count": null,
      "outputs": [
        {
          "output_type": "execute_result",
          "data": {
            "text/plain": [
              "array([[0., 0.],\n",
              "       [0., 0.],\n",
              "       [0., 0.]])"
            ]
          },
          "metadata": {},
          "execution_count": 72
        }
      ]
    },
    {
      "cell_type": "markdown",
      "source": [
        "Fíjate también que no hacemos ```_n = 1```, porque esto cambiaría la propia referencia del ```array``` y perderíamos el ```array``` completo (lo estaríamos sustituyendo por el número uno). Necesitamos indicar que queremos cambiar todo el contenido ```_n[:]``` por otro valor.\n",
        "\n",
        "Por cierto, estos valores tienen que tener el mismo tipo que el resto de elementos del ```array```."
      ],
      "metadata": {
        "id": "VKDKV_NqFpGy"
      }
    },
    {
      "cell_type": "code",
      "source": [
        "# _n[:] = \"hola\""
      ],
      "metadata": {
        "id": "pRwfIuYNFm74"
      },
      "execution_count": null,
      "outputs": []
    },
    {
      "cell_type": "markdown",
      "source": [
        "![image.png](data:image/png;base64,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)"
      ],
      "metadata": {
        "id": "WzG0UDIRGEDI"
      }
    },
    {
      "cell_type": "markdown",
      "source": [
        "Y es que, aunque en Python no existen los tipos, ```numpy``` trabaja con el lenguaje ```C```, donde sí existen, y necesita que se respeten.\n",
        "\n",
        "Cambiar el tipo de elementos de un ```array``` es una operación muy común que puede llevarse a cabo con la función ```astype```."
      ],
      "metadata": {
        "id": "M6JWC8fhGJ9U"
      }
    },
    {
      "cell_type": "code",
      "source": [
        "_n"
      ],
      "metadata": {
        "colab": {
          "base_uri": "https://localhost:8080/"
        },
        "id": "rcI74OxlF-Iv",
        "outputId": "7dc0f787-7a95-4f39-ea4e-294502c78536"
      },
      "execution_count": null,
      "outputs": [
        {
          "output_type": "execute_result",
          "data": {
            "text/plain": [
              "array([[1., 1.],\n",
              "       [1., 1.]])"
            ]
          },
          "metadata": {},
          "execution_count": 77
        }
      ]
    },
    {
      "cell_type": "code",
      "source": [
        "_n.astype(int)"
      ],
      "metadata": {
        "colab": {
          "base_uri": "https://localhost:8080/"
        },
        "id": "mvupVrE7GZ43",
        "outputId": "8b5039bf-afbb-449b-cc87-ccdc3aeb1624"
      },
      "execution_count": null,
      "outputs": [
        {
          "output_type": "execute_result",
          "data": {
            "text/plain": [
              "array([[1, 1],\n",
              "       [1, 1]])"
            ]
          },
          "metadata": {},
          "execution_count": 78
        }
      ]
    },
    {
      "cell_type": "markdown",
      "source": [
        "Fíjate en cómo han desaparecido los _puntitos_ de los unos, que indicaban que eran reales, no enteros.\n",
        "\n",
        "En general, usaremos ```array``` de enteros y de reales para cualquier tarea de Inteligencia Artificial, incluso aunque representen cadenas de caracteres (porque generalmente traduciremos estas cadenas a números).\n",
        "\n",
        "Otra función muy común y básica es obtener la posición del elemento (o el elemento en sí mismo) más grande o más pequeño del ```array```, para ello, usaremos la función ```argmax```."
      ],
      "metadata": {
        "id": "Ahpst14pGcUR"
      }
    },
    {
      "cell_type": "code",
      "source": [
        "_n.argmax() # devuelve 0, que es la posición del elemento más grande"
      ],
      "metadata": {
        "colab": {
          "base_uri": "https://localhost:8080/"
        },
        "id": "UlXeqCJgGbMH",
        "outputId": "4a0c14ef-583a-4426-bcee-a7a6b97dbdec"
      },
      "execution_count": null,
      "outputs": [
        {
          "output_type": "execute_result",
          "data": {
            "text/plain": [
              "0"
            ]
          },
          "metadata": {},
          "execution_count": 81
        }
      ]
    },
    {
      "cell_type": "code",
      "source": [
        "n = np.array(range(10))\n",
        "n.argmax()"
      ],
      "metadata": {
        "colab": {
          "base_uri": "https://localhost:8080/"
        },
        "id": "DgqrE_GgHYa2",
        "outputId": "57f959d0-e80f-4865-dc2e-e2634c697e92"
      },
      "execution_count": null,
      "outputs": [
        {
          "output_type": "execute_result",
          "data": {
            "text/plain": [
              "9"
            ]
          },
          "metadata": {},
          "execution_count": 84
        }
      ]
    },
    {
      "cell_type": "code",
      "source": [
        "n2 = np.random.random((3, 3)) # como son valores aleatorios, este resultado puede cambiar cada vez que esta celda sea ejecutada\n",
        "print(n2)\n",
        "max_index = n2.argmax()\n",
        "max_index"
      ],
      "metadata": {
        "colab": {
          "base_uri": "https://localhost:8080/"
        },
        "id": "cqHQ5t-yHe6S",
        "outputId": "cfd25edc-f2f0-40b8-e65f-7053e973d469"
      },
      "execution_count": null,
      "outputs": [
        {
          "output_type": "stream",
          "name": "stdout",
          "text": [
            "[[0.42764793 0.51944571 0.11893936]\n",
            " [0.43691883 0.23675741 0.35183514]\n",
            " [0.05338197 0.2401261  0.79205728]]\n"
          ]
        },
        {
          "output_type": "execute_result",
          "data": {
            "text/plain": [
              "8"
            ]
          },
          "metadata": {},
          "execution_count": 90
        }
      ]
    },
    {
      "cell_type": "markdown",
      "source": [
        "Fíjate que el valor de ```argmax``` no respeta la estructura del vector, así que para obtener el valor, debemos **aplanar** el ```array```."
      ],
      "metadata": {
        "id": "l8mfUyqZH5Ta"
      }
    },
    {
      "cell_type": "code",
      "source": [
        "print(n2.flatten())\n",
        "n2.flatten()[max_index]"
      ],
      "metadata": {
        "colab": {
          "base_uri": "https://localhost:8080/"
        },
        "id": "ppymkX4AHnRw",
        "outputId": "7fe0e375-8416-4792-bc99-255fb183bdc8"
      },
      "execution_count": null,
      "outputs": [
        {
          "output_type": "stream",
          "name": "stdout",
          "text": [
            "[0.42764793 0.51944571 0.11893936 0.43691883 0.23675741 0.35183514\n",
            " 0.05338197 0.2401261  0.79205728]\n"
          ]
        },
        {
          "output_type": "execute_result",
          "data": {
            "text/plain": [
              "0.7920572815507788"
            ]
          },
          "metadata": {},
          "execution_count": 93
        }
      ]
    },
    {
      "cell_type": "markdown",
      "source": [
        "Otra forma común de usar este tipo de funciones es discriminando por dimensiones. Es decir: no nos interesa el valor máximo de todo el ```array```, sino el valor máximo por cada dimensión dentro del ```array```.\n",
        "\n",
        "Esto se puede indicar en los parámetros de la función ```argmax```."
      ],
      "metadata": {
        "id": "5sw9sEPYIMSY"
      }
    },
    {
      "cell_type": "code",
      "source": [
        "n2.argmax(0) # valores máximos de la dimensión 0"
      ],
      "metadata": {
        "colab": {
          "base_uri": "https://localhost:8080/"
        },
        "id": "8G3YafNTHpTl",
        "outputId": "48204705-03d3-43a6-fc1f-bb035853057e"
      },
      "execution_count": null,
      "outputs": [
        {
          "output_type": "execute_result",
          "data": {
            "text/plain": [
              "array([1, 0, 2])"
            ]
          },
          "metadata": {},
          "execution_count": 94
        }
      ]
    },
    {
      "cell_type": "markdown",
      "source": [
        "Claramente, esto devolverá un ```array``` de posiciones en las que se encuentren los valores máximos."
      ],
      "metadata": {
        "id": "OO0wawHLIa0N"
      }
    },
    {
      "cell_type": "markdown",
      "source": [
        "## Concatenación y división de ```array```"
      ],
      "metadata": {
        "id": "2FIYW07UInL2"
      }
    },
    {
      "cell_type": "markdown",
      "source": [
        "Otra operación típica en ```numpy``` es la necesidad de concatenar varios ```array```. Para ello, podemos hacer uso de dos funciones llamadas ```stack```.\n",
        "\n",
        "Realmente, estas funciones tienen un pronombre (```h``` o ```v```) dependiendo de _hacia donde_ se quiera concatenar el array.\n",
        "\n",
        "```h``` se usará para concatenar el ```array``` de forma horizontal (hacia el eje de las x --segundo eje--) y ```v``` se usará para concatenar el ```array``` hacia el eje de las y (primer eje, de forma vertical)."
      ],
      "metadata": {
        "id": "-i-vC9SrIqb8"
      }
    },
    {
      "cell_type": "code",
      "source": [
        "n1 = np.array(range(10))\n",
        "n2 = np.random.random(10)\n",
        "n1, n2"
      ],
      "metadata": {
        "colab": {
          "base_uri": "https://localhost:8080/"
        },
        "id": "jv8ZCvWrIY-C",
        "outputId": "e8fc5a72-ffcf-4617-9b0b-0442c4b8e9ca"
      },
      "execution_count": null,
      "outputs": [
        {
          "output_type": "execute_result",
          "data": {
            "text/plain": [
              "(array([0, 1, 2, 3, 4, 5, 6, 7, 8, 9]),\n",
              " array([0.85625124, 0.07533621, 0.10513001, 0.04609493, 0.11498547,\n",
              "        0.70924573, 0.67292375, 0.2003996 , 0.22051964, 0.7088726 ]))"
            ]
          },
          "metadata": {},
          "execution_count": 95
        }
      ]
    },
    {
      "cell_type": "code",
      "source": [
        "n3 = np.vstack([n1, n2]) # se le pasan en un iterable\n",
        "n3, n3.shape"
      ],
      "metadata": {
        "colab": {
          "base_uri": "https://localhost:8080/"
        },
        "id": "Szf_NRlXJJsG",
        "outputId": "1b851488-11f8-4136-cb9a-36d5eae9e3f3"
      },
      "execution_count": null,
      "outputs": [
        {
          "output_type": "execute_result",
          "data": {
            "text/plain": [
              "(array([[0.        , 1.        , 2.        , 3.        , 4.        ,\n",
              "         5.        , 6.        , 7.        , 8.        , 9.        ],\n",
              "        [0.85625124, 0.07533621, 0.10513001, 0.04609493, 0.11498547,\n",
              "         0.70924573, 0.67292375, 0.2003996 , 0.22051964, 0.7088726 ]]),\n",
              " (2, 10))"
            ]
          },
          "metadata": {},
          "execution_count": 99
        }
      ]
    },
    {
      "cell_type": "code",
      "source": [
        "n3 = np.hstack([n1, n2])\n",
        "n3, n3.shape"
      ],
      "metadata": {
        "colab": {
          "base_uri": "https://localhost:8080/"
        },
        "id": "V5-sNf8PJQLU",
        "outputId": "cbbbbfe3-1098-4e7f-8472-524b13d40f48"
      },
      "execution_count": null,
      "outputs": [
        {
          "output_type": "execute_result",
          "data": {
            "text/plain": [
              "(array([0.        , 1.        , 2.        , 3.        , 4.        ,\n",
              "        5.        , 6.        , 7.        , 8.        , 9.        ,\n",
              "        0.85625124, 0.07533621, 0.10513001, 0.04609493, 0.11498547,\n",
              "        0.70924573, 0.67292375, 0.2003996 , 0.22051964, 0.7088726 ]),\n",
              " (20,))"
            ]
          },
          "metadata": {},
          "execution_count": 100
        }
      ]
    },
    {
      "cell_type": "markdown",
      "source": [
        "A la hora de concatenar dos ```array``` es fundamental que éstos compartan la misma dimensión en el eje en el que se quieran concatenar.\n",
        "\n",
        "Por ejemplo, no podemos concatenar dos ```array``` de dimensiones (10, ) y (2, 2), de ninguna de las formas."
      ],
      "metadata": {
        "id": "6Tw7S3MoJgAA"
      }
    },
    {
      "cell_type": "code",
      "source": [
        "n1 = np.array(range(10))\n",
        "n2 = np.random.random((2, 2))\n",
        "n1, n2"
      ],
      "metadata": {
        "colab": {
          "base_uri": "https://localhost:8080/"
        },
        "id": "bxc1EvgpJdif",
        "outputId": "ae704669-5323-49e3-e1b4-93e2385fda89"
      },
      "execution_count": null,
      "outputs": [
        {
          "output_type": "execute_result",
          "data": {
            "text/plain": [
              "(array([0, 1, 2, 3, 4, 5, 6, 7, 8, 9]),\n",
              " array([[0.95283734, 0.50619708],\n",
              "        [0.41610463, 0.21460939]]))"
            ]
          },
          "metadata": {},
          "execution_count": 101
        }
      ]
    },
    {
      "cell_type": "code",
      "source": [
        "# np.vstack([n1, n2])"
      ],
      "metadata": {
        "id": "-h2aOSu1Jzg5"
      },
      "execution_count": null,
      "outputs": []
    },
    {
      "cell_type": "markdown",
      "source": [
        "![image.png](data:image/png;base64,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)"
      ],
      "metadata": {
        "id": "-0xWCfatJ5xf"
      }
    },
    {
      "cell_type": "code",
      "source": [
        "# np.hstack([n1, n2])"
      ],
      "metadata": {
        "id": "RA_VoKb5J1e6"
      },
      "execution_count": null,
      "outputs": []
    },
    {
      "cell_type": "markdown",
      "source": [
        "![image.png](data:image/png;base64,iVBORw0KGgoAAAANSUhEUgAABV8AAAAcCAYAAAB21891AAAAAXNSR0IArs4c6QAAAARnQU1BAACxjwv8YQUAAAAJcEhZcwAAFiUAABYlAUlSJPAAAABhaVRYdFNuaXBNZXRhZGF0YQAAAAAAeyJjbGlwUG9pbnRzIjpbeyJ4IjowLCJ5IjowfSx7IngiOjEzNzUsInkiOjB9LHsieCI6MTM3NSwieSI6Mjl9LHsieCI6MCwieSI6Mjl9XX3vNSE0AAATlElEQVR4Xu2dz4sd15XHj+Yf6MXQRgtJpJuHYRZaTGNoSSTw7CSk8WaI/PwgNgyRpqWF0SqI1qPj0cKROm3FzEp4ITWaIeAOemobshk6xLF7EVoSkXsgWgRMIw+SQIqaWegveHN/Vt1761bVvfXq/dT3A0V3/Xh17z3n3FO37o9Th3oMAgAAAAAAAAAAAAAAAFAr/6D+AgAAAAAAAAAAAAAAAKgRdL4CAAAAAAAAAAAAAADAAEDnKwAAAAAAAAAAAAAAAAwAdL4CAAAAAAAAAAAAAADAAEDnKwAAAAAAAACAV4vnXTo7v0Z7ajeYB2s0f7ZLB2oXAADABDBinz/Yztd7V+mTQ4eSrXtPHQdDYI/W5udpXm/rWRM72Dqbnp8/S93n6kStyHyc3Rpe82RvXZZp7YE6AEDtDN+uQb1I/1fh4TtqRKNB+2229dUQOKDuWZ8d6+fHZMhnOnz+JPkUaTe+dgUYL3Q7ry67Eveb0A6nifX5EeTpp247GCj6GTcUO2N+91SH6No5WlBHgnnjHK1ThxbH0A/WX0/h8yeFuut6/bY0PKQs4PPHnlfM53s6X5/Tn9qH6JNf3VX7Jnepe+gQ3fxdYC/diV/SxV6Pbbt0TB0aBC9+947VyYvOXs4CrT56RI/YtnVeHXKYbd0S5x/trlNTHauGfGlEZ6dJXqcGGA+gHzCJ6EbDfem7+XarTbPqLAACPjrf9wsHfOQomeQX3kGhXyb1Ng1tzol6QZ46uI9r0cb5LbrVqvIUnaX2rS1avtGaEv3B548S+Hw/0+MjZf1Kn2GDmvQG8hkPn+/pfD1Mx396mujyV/RQHUm49xU9ptM0/4PD6sA4cYV+Ijp60619Qp0CrxQLHdkpsfqGOgAAANPAg23aoGW6UKnREIMevFuNHxkeAfD5APjRg+zVXjTGB/4CvrhCtL6rBp26y7TRnuAOWDXT5xItMY8+eCbKDg636RbX8aAHFh/cpM5Ok9Z/3s9TboHOXWvSzsrNqZ5dByaHafH5w/aRg2ZvfZE6r2/J5xfb7l8j6pwa3Kxc+HwPY+LzvWEHXvvBOzRDH9LfnJmjD//4IdG779DxI+oAAAAAAAAAAAyEPbq5skPNax9TW8/9eGNVrOra+HQSZ4odUHd1m5Z2+YtxQx0Dw4Xp4NMNovMXUpuqyGzrAi3TBl3HjFEAamL6fKSYJNBJO/1mv79ETeY3trFqeEiMj8/3x3w98hbNv0v0+I9m6IG79LfLRDM/fYteU0fo6SbdtJb6X83Oli1CxIR9h/70VO1zxDHnPm467U16oU6FIcMl8DAEVogCM7SCSEPm5eGv0rTcEAvmucw9QtLRiGWB833Ez5FL/Uc6fT2JPdhiJsgawW0jP5mlE0/s6faZcrvliR8NspekeeShl2Im+ZabOXMiWfah9ZO5l8ynPd3cDLugy7FInR2inZVF4z7xZdKxDPWWl65VdkO2SXmSfPEtK5v8dPgUfXYso091Pzct4x5x5ZXprD1I82n/n15j24485k7/d8uT5l/fsx79lNq1Y2tWGsrG3Jk7Uo52XtzyuL8JIUQ/+XbA5cbs5oEuj/O/YU9uOq5uykhsNrcOltlBiC0pmg06mpuOpLg88r5FdTCUjM0m91Dl5cfawtNSy7gu1hbs8sh6kGKkxTdvvQ+zg0KbDfDFgkz9sa+xy5LVnSBzD/u6cnuT5PuUeml8j2wdmLYk8ujkTcuS/ZvIw2Mn4fVQ15UwH2nJxSOTQjsIxNYz25z6JdLgxyxdm3kNq6dF6chzeXaRlUsRReloeS2ucOF3aNG4Lkp2lj37fqtl4tR5RyZu/RH5cnDLY9mazod1X2VjoXXo+T7ts9fUpe8bc2LYfVs32N+dffYUjsSSTVanRfqR6DqSbnHPOb508VbfL4CCMv0U2kHEs9L1o5bu5H24DIr9QZncnPMZuXMce2Vb1t4Cni3MavaZqJZ/lD8DyvVd+fa6QEvnuSlGW6LATadSeQLqaT5a7vD55nl5Dj5/JD6/Th/JsWQzCp9fI2X6KbQD+Pxx8PnUy+Hvm6d7v6Ervb+q/d7dK2z/dO/LJ2q/t9u7/e5nvb+rvV7vWe/Ld6n3G+uYhl3Lkrp9V+1qMvdkiGNGuk8+67H2lfXbv35kpyPzyo5Zm5NXffyjXXnIva/a59fc2Hwmjzn5c9NN7qvvGZKO5i9Xe3Nzc725X3+jDsTwonf7zNWe+ctvfs3uNWcf04hzRek8u907M3emd1sVO55veldZWa7+Re1ayHO8rMn5THrymjN3Xqh9VsI7Z3LLU0peebTMjfu66ch9+xohvzO3mdTFXiav/vJzHbnXxcHzYt1T5T89lso20a8oe3pNWp5UHnZ5AtIR+448xTFDP+5+NFJeOh1pzzIPqf2qayxbzspZlNkon59+9RNo11Y+VP6TY2HlcfXl6jiIAP0U24EuL7+Hyrcoq51faW9mOvJ3MXJObNYosy2DMrmZ+VO/VeVIbclIx8ivK+vy8qR2kOSngn4yOtb3tcrI6LOeZctj689EXGvliRNmB5nyuDJRtmXmJU/WQXLM1D2FRxcynfRauW/n12sHGVnUTWpLiT68cnPK6bOJPu1Ekm8b+pyVV4++Su0gBFYWKw/qHuYxkQ47lpZZ5S+pP6lsc+tpaTryHtY1njKXElAeTn02l5fHVCbJOVcm7j7DzZesP9l66yujvI/STUzZHHuW+mb74rin3ueQW9dNP1uqn6J6UQWfXQUSoJ8Unx3oeixlqOsRv8aSiycdcT5JJ98fVJVbRi8ClY553NWPsAmel9ResjbKEL/Lt518OfqJvV7Df2fpROU/ORZSnig7KKJIR/k6zrcLhidvpZTWQZUOO5bKwbUNmTdxTZ4dl6bjq5u+elRCQHk4VW0oS14eU5kk51yZuPsMN18Z+/PJybqP0k3lsvn0EIbMq512xreU6qeoXlQnK8cAAvST4rMDXY/h813y5egn9noT/8xXhht6QIQc+Ogi/TAJOXCS2t330lmwOlZszTz8z/fp5Ue7VvzW42c+o5k7n9NDc8ZsJubr50ZeFew+F//9pPxfze59+Z09/DGz+YzO/UwNtZx4i47RF/R/PJ2nm3TvMtGxX5hlZjK4eyUbHzcgHb5kSsT9MKagh8NHhOxYfAs/Gu+IKM1r99N4fIcb1KAd2lf6O9i6ThvNdfrYiEuip3TXPx2/Seu7qexmv+dbzrBMW0asw4Wfr1NzZ5u+dlQ4aHi8FiuG4Rs5cW/Ob6V2dPhNWmoS7f+vOVbDy5yOIApbMWaLlKbDv+7X3KHtP6f33Ptyg+nU/VJgDfoylwOwclWO4TgkfRXZNR8ZW7Xi18zSm2+bn7Zj9fgDJukb25SM9T3/mrZ3jBk+z7t0/QbT35pxn8NtusCXW37pGyEsolg/IfZm6txaAiqQS0OXu6ZvUrFx/vvrnNHDPFgdNGR3tFHhk4BBtlRU1yPKU1oHCxA6Zjn5wLQVZjtdxzb6xleeahTaQbDNhvjiKnaesvdfHdphz5Zzhu5nWx9n/FmQvQ3RpyQxuirX9SFhfbTgKHGxJXZfl+9ibSUrZpmqX1nMuqx87bf74fW0NB1P3ecxmB37KiW4PMMh+wxLEfWn8Dkc6CN5PDcRo3WNuluXqLNj17dg1MyW6w3+wcGqfsxT1007CdRP/DOtfsr1E0jJs9KXjrddzK5x/YFLX3LzxetjtvVx5pkc8Gx5us9aayXE+vwKs7DD2vnF5anNDkLw6Bg+vwT4/Oo+vxbG0Oc/WBMzVrPv0cXA5zMm3Odzcjtf7dADMuTAsR+rDkWFuwT/t+99oc7UzOVTVjqfHH2fXqpTMcw05tR/nMP0w24v7WhVzMyZ+yepbX246zT9ozfe7R69MDqCQ9Lpl8wU+TZfZjjBOEstdCiD8cHsVBsS6kWjTCbNxlH1H4d3zLsBttnD1TQ/9qCxXlxK05GdhElwadXAspYA8nuqD2Do+0Qtl6kR3piVgcx1XrJLTIaFu4QhszxENLTTuDHygefGo9kxyiI3sdwyhhD9BNpbGVb4Ebb5liyNN3ZdDylPeR0so0kN77Nln/brsl21dNefTt3UYLPMQ60+kl8VTe7jXZJUwusNb4M/ZrnQyH2K+0I5MdRhB+6yNTdUhoKHEFH/crjO3I83FNfT8nTEoDBrq9wUvvNAxA9rvv2m177yCSzPyDmg/W9dmfkJ8vnsGbR1foM6K/yjWeaLewBHGsxzbVDr1D5dyHxAxGnf9E2Zfrjd3Kd1MtqswUtp6yRcP7Vg+mG+nWJtFXUqjLrklqPv2JdgYVP5VPL5jg8Kou9215DtoBT4/Czw+dE+f6gM2efzZfJtPoHJGGgPAj7fYlJ9PiO/81XPZH34Hb249xU9piv0T8bsUx7T9A+X7dmm/7pZ/8xXAZ9JaqQjN8/M1pGxQK8NMy9ixMT46ivf+CypSaa5Tvd1WYyt79Gd2hhWp4WGPQyYoyPmnFN5bHlGxPslMB3VSchnTh78edvTQcgQnbrqHqqjb5QdsDov0pkOvwOWD5C0bvCReS1XnhfX9Zsjxnu0zWdAZuLR8BG99B7JFjtrvlA/9dnbclf/3thGNuJdBbuuj7Y8NXYsZGZmD5KabFZ0wOrfq47YKh2wHmIbsCP1KTkdyONPv3bAY321aON8+oXgR49YY76oBV2J0HRknC8xi0usUlimC5EvT8MpTx3MUuP1sEGKEB8pnoffsnZet8HqTly8RD07y50lxFfg0Pkl61h/hOpHduIk5/nL5dA7YMP1UwuWTPQWG5NxgHKLfQkOeB7G+PwnPJhgtJ+uo901ZDsoBT7fBj6/ks8fGkP2+ZU7Xjnw+RYT6fMlBZ2vKvTAnc/p9//BQw68RcfVcS9PN+n3sTNfj8zRjF7Wz+Ef2zrJ0jI4/mO+rP+U+IjVSBEzgb+g//mF+bGvu9Rl+Z3Z/Ldi2fgQAYLna3qRZA9wVplHh5xqXnVppPji306HLo0qeHUhzDGvmrMRZVlT58dk7x2pVk6yxmUKe+u+dOrHn47sJNz49Cxd4h3/5hIAH96lU/0iZZrOAuMPzfIRZPlFSZf69VPK8y6TXTazcmR9m77e8ixnEstfdqizWvOLXYB+4u1NNVLbg25kVbODcty6PqTyeHUsfXrskqRiXD9dl9wcBmWzSh8xiBArN1rWINCBWgIX9wJl4/cpDD2Lqa7GJWsntPgyTu1vxci90XhUDfkMaqZgf2Fg+vSRA7IDqT+1M0Dy0hFL725cp7PMV1AN9TMvHbFsLnYJXM2I5ZlG6BP+Mm3PcAr0kXrCAF+OrGZDtaLqiBqkXLmUvgi5dWNAlNubG05oeJTrpx58frR/KshNTQJome9Nql1lh+0JIe69JdfnC/IGzuOp0s6vzw7g8+Hzy2xpWD5/dAzM56v2WrWOVwl8PmMKfH5h56vucHx5Jxty4LWfXaRj9CH9IQkF8B2d4PFPDdKwBKfoMdt/fFLt66//H3mP/mXzdHqcJfGTJ5/RjDwrOfFLusjum1yjt7bZCcox8qK2ejtsefiAZ/TP9D79NknjFL00Y8QOCxWDM50afZ0aXfZwUKcFvJKLc2rJRzJ9XDtM/uKtfi+mkqf3i/+C3yy11/jDyZiiHuNkeWyY3XUi6wubfIvp9KizPKyiJ3lYpO237xujtm5ZW0Rd/yjmQmdLLFdJwynElEe/bKQyud7YGsBoaXg6spOQSdYz65U/APTv5daiffaAqXvmsi1TqZstp0Mm87VCZg+Nbna0rj/9lKPjFie2xJdMemeo88YMs9eVDc/DhI8aqtHCJJ9yi3koluunHntb6DySjSwrrSp1sJgQOyhDxgQqquvDKo9Px1I/VRtofng6TG6J71qk/Q94+dRpjrEEUjToEhnHzPKsx2bNvOhNzKJI9BPg8/lsbyfcxuJKw4rzG0KoT0nipzG5yWWKMaiBPfM52CaWVyMdFesqKQ8/z56dmWrqXse2Kjbbn4+sww7YPURc7LRtsbh/IbqulxORDpPtBeavdyp14EekI15YzXZeXP1JbVZ25iS2EDHgz2eBmP6P59VdZVXmI8WzR7xwprGhU7sKtyeeF2tJYHufzFj29RCiHz7gnpZTXMN9SuRqCFc/Sb2PaDuH6KcOO/D5UbFFdaYEyK30vcUTikb44iqr5LSur3ufbcE+n8PjgLLW3lJ0Huppd4XYQSjw+eq0CXy+OisZls+vw0eWE6KfOnw+a69+ykvhtPHEFvcchM+fZJ8vOcS/uqX+B+CVR44ixb+cvxpwR8o7m8cpHAQAAIwP8hnCwwLV3TEExgXeSG/RVoUwGgCA8UGt/ni9n7os28X1D5aCcQI+H4BpYDx8fvHMVwAAEHCH1RJxcdDxCgAAPuSXgKm5RG+i43Uq4Z3rIpY3XsIBmHBmk9Ug1VazpO1idLxOL/D5AEwL4+Hz0fkKAChALxvod6QIAACmF7lkSTbKJusDcyAEvSQNK2MAmCYWaFWEPbvJWruRPLhJHTJD4YBpAj4fgGlk9D4fYQcAAAAAAAAAAAAAAABgAGDmKwAAAAAAAAAAAAAAAAwAdL4CAAAAAAAAAAAAAADAAEDnKwAAAAAAAAAAAAAAAAwAdL4CAAAAAAAAAAAAAADAAEDnKwAAAAAAAAAAAAAAAAwAdL4CAAAAAAAAAAAAAADAAEDnKwAAAAAAAAAAAAAAANQO0f8DB0PEhKqFjNoAAAAASUVORK5CYII=)"
      ],
      "metadata": {
        "id": "_bwpQ3C3KA44"
      }
    },
    {
      "cell_type": "markdown",
      "source": [
        "Sin embargo, si tienen la misma dimensión en el eje en el que se van a concatenar, pueden variar en cualquier otra dimensión.\n",
        "\n",
        "Por ejemplo, podemos concatenar dos ```array``` de dimensiones (10, ) y (5, ) de forma horizontal, pero no de forma vertical."
      ],
      "metadata": {
        "id": "kyfRv7L0KBb1"
      }
    },
    {
      "cell_type": "code",
      "source": [
        "n1 = np.array(range(10))\n",
        "n2 = np.array(range(5))\n",
        "n1, n2"
      ],
      "metadata": {
        "colab": {
          "base_uri": "https://localhost:8080/"
        },
        "id": "dLG2UooXJ8iQ",
        "outputId": "aae4c64d-13a1-47d5-a0db-1852ca741000"
      },
      "execution_count": null,
      "outputs": [
        {
          "output_type": "execute_result",
          "data": {
            "text/plain": [
              "(array([0, 1, 2, 3, 4, 5, 6, 7, 8, 9]), array([0, 1, 2, 3, 4]))"
            ]
          },
          "metadata": {},
          "execution_count": 106
        }
      ]
    },
    {
      "cell_type": "code",
      "source": [
        "# np.vstack([n1, n2])"
      ],
      "metadata": {
        "id": "z12bnKT8KRvN"
      },
      "execution_count": null,
      "outputs": []
    },
    {
      "cell_type": "markdown",
      "source": [
        "![image.png](data:image/png;base64,iVBORw0KGgoAAAANSUhEUgAABjQAAAAoCAYAAABZ2RNIAAAAAXNSR0IArs4c6QAAAARnQU1BAACxjwv8YQUAAAAJcEhZcwAAFiUAABYlAUlSJPAAAABhaVRYdFNuaXBNZXRhZGF0YQAAAAAAeyJjbGlwUG9pbnRzIjpbeyJ4IjowLCJ5IjowfSx7IngiOjE1ODksInkiOjB9LHsieCI6MTU4OSwieSI6NDF9LHsieCI6MCwieSI6NDF9XX3zWajoAAAYZ0lEQVR4Xu3dzYsex53A8Z/2H9BhkdHBNpEYDHvwYYVBtkhg7GyI8GWJPR6IDUuklX0wOgUjDRPHB8dWxk7Yk/BBFloTsILHk0AuRiGOPYcgWUTWQnwImEFebIMViT34L5itt+6uqq7urn6efp7pGX0/8CA9/TzT9V5d/VL17NtWBAAAAAAAAAAAYMT+yf0LAAAAAAAAAAAwWtzQAAAAAAAAAAAAo8cNDQAAAAAAAAAAMHrc0AAAAAAAAAAAAKPHDQ0AAAAAAAAAADB63NAAAAAAAAAAAACjxw0NAAAAAAAAAAAwetzQAAAAAAAAAAAAo8cNDQAAAAAAAAAAMHrc0AAAAAAAAAAAAKPHDQ0AAAAAAAAAADB63NAAAAAAAAAAAACjxw0NAAAAAAAAAAAwevO/ofHJ6/LrffvK1/onbjvm4KacO3xYDhevtZtue+Xuxsnq88MnZf22+2BQNh4nN+6697N3c82m6dwNtwEjZetGvZyKuntO/W/8dlt9K+JbvMYWb9sv7Y6yR7u91hdzbBmj+Y8xdl73+G4+7sr6yZ0Mv6+x5NuEbpxT8U4cG2+vy0mdnpPrqkTGbneN72brXuy7dqdhj/2239yd5b7b+nxnV/WR42TOzQbOP873domh20/TWGY3MHGf1TXT2dlL56+ZNzRuy5+X98mvf3HNvfddk/V9++Tt32aW4qM/k5e2t9XrqjzoNs3Cnd8+Hdw44QaKdkRWb92SW+q18YLbFDmwdMl8fuvqmiy6bZOxg3Iu8vh284AVe5UePC5dOCUbrm/Qr9VH3IdzNIuB8d43pj6FPn+3G08b5FiZ0l4+3eO73WcefcpezDdMbC4XOTlW7hyOLSnhQ02778Lcbmcv4jfVS9tflOWz68+TaIM7iXPttPY2iJkoxlvRa5KxUeYNjYPy8I+eEnnlI/nMbSl98pF8KU/J4e8ddBvG5DX5obl5Ur2WH3Uf4Z5yZGXnLtRiCMVFh1X1v/HbPfXtrnz8waYsvvn8rshX7H57rS/m2AJgdA4uyyU9Zrq0LAfcpvEaw/jOXmQ7vCpynBtbyLBXjv36Zob/UNP1N0VWjt0DNzXG0Ee6C3pn5biccptC+mbGklx8YcOUza1b12VNVuQoF6Sx03bVGKNFZxvcu8ZxDFuUtas2HsVrkvhkLzl13/eelv3ysvw9muHw2Z9eFnnmaXn4frcBAAAAAICRu7txVq48ed1cnFlw24A97/a6nL8gcmq9upl4YOkNWVvclJV3WPRntu7K+uoVOX71llxaSvc6dzfOy0U5JRsrZenI8rk1WdxckbeZ4QVMqbsNYnfI/w2N+5+Qw8+IfPknf9mpa/L3V0T2/+gJuc9tka8vy9vBMk+v12d1tDG/sfG0/Plr914z26L9xOEsX5Y77qM8dqksvQRVsDyVv6yWCcPG5bNfVGHFy2v5n9X2kRNOwazBdniKdSijaYk7MW20nD60pA7CIheXvfjUnij4yj4RVXxeS3ecnv5r6xVTyOwrkR/Fmn3RtCd/ulM5Pa8on9q+bDzDaWp2m91PkY6jsrIpsnnmqLef/mkKpwY3hxuk3cvbarqhn7/1vGkOxz3JVitPt7+e9TcMx9abigur+DwOU5eJ2nazSGv0/yBnovQEU9oy6oEW1if9Csuvs75pQT2K92HTq/M6iG8tr+vpSX2nURmHRJ0M9hPlv3oF9c3kl02nH5+wTrYr/u7oGR2RFTnq9qFfcf6HeVfP37h8+sTDV8vbqE63fp5Zl7SucGr1rfy8R58SxSNVvt31ze8r9MvL+3L/7X1+VtuI4xp9z+xD77OjHnRrSU9Z5xNhq+8W5ZiVnlo4/eqkCUOVeVk20f8NkxdR+EUddG+1ML76VX1e7DOrDTbRYaqymaQvrvKkR71O5G09rl1jjG5xvgXlV9TDYL8uXn6aa/U6TovWnJ7ByifxfZu+SdpQu8WFB8JyDuqATWvYFuw2E7/MPiVXc33LF+8jKPOivUXlXCubor5Er37xierJcjhiqn0e1/nsdhrXx0R/or8fpKlej9r6HfVp2D6byraWb/4+inoT7atnW9fL7V5amvFzpr3q9ezPj7T2tlHkbVSOXlzKehDEp14PmsNx5VZLv9tfz3JsDqeI3/TnYWGdTvSdmf1BuB8br1icnmofeeOUTl9vyaackuPeE7H65p6Jy+dbUZl0C+KbaM/t9U2pHSt7pMUThxPGJWo7iToWlk31CuMS7ad3Gzwgy5cuyXLLAidfbamCeOG4N3NNlfvqiiozka3/7Vc6tTT56c6ss3H5mDFJtp5tsOPY0tw2eqjVtzAeJgydT8H3/O/YNOmwg/yN61RLOPbvmtKXyJc2LeEU+TXVONLoaj9FnnQdk6P91MYy9Tob9BdF/Qj26/aZ6HvSuttgL1+H+R/na2sbdNr7rjy1cKJ6FH6eOIbV6pF7RfFtLZ952+7hH5ef2v6VvLb9N/d++9pr6v1T2x9+5d5vX91+75l3t//h3m1vf7P94TOy/atgW0F9VwX/3jX3tlDbp2K2eeF+9e72hehv//ZqGI6Nq9oWvKK4FttfvWo3xft17/V3Llz+xm6L4heHW+632GdOOIW/vr596NCh7UO//NRt6OPO9nsnXt/2//LTX6p9HQq3FcxnbeF88972iUMntt9zye7v0+3XVVpe/6t7G7Cf6bSWn9fCs9858f4d916l8P0Tjenp1JSeIs+9/cbh2Pfhd0z+nXhP5bp5V4trOv26jOLv9aPjEuzTxb/aVuVtWb4m7dV3qvRU+RGmJyMc8z7KT7OtX/nE4abzzTLxDr6rFOWn0+rSab4TlXctnChPyv201INe6Wutb+F2E7dyv7aO6LhU9aShLcR5MZG2Ouni4vcTLt/K7xd57m9LpDFHW5psWahwvM9Nvnlxq5VXIt+6FfnfXM5NdbaMS05dyghH7yeIe5z3Rlv5KXE9V8L4F/Hw9xHnm/5OGM+wzhaa226gqW0k4mrzrfpuYz1oqDdpeekJ9uvKNJm2pvSYcPrWv1CRXrOPol7pemb+7+Jr/h+F73+uxe8bmPB65aXHj58rS7OvKH90GEE+ur8L8zavXgd9U8C1SX+/jeXUzOa/n2+JPsXFxYbj2lOQh+pvgveJ73Smx8otH1N3a/ty4Qbbp6+jdS6cID1xviXy0W0L60FqWz959c1K55vbHpep2kf53aLue3WlVneCeqKl8qBL4m9a2nYyPVnttB5OnB773v2t21bLp5a4xRrrttlH2G5NOOV+XVmoV5m3tbzup17eQ7NxTsevKT1+HnSXTw79N0EcXN2otlVxKetRlLdlPfDiF+dfZziJMu5Tdwrd6dEG7PNq5eK4cOvtpfl9Kl61epio18F3kultZ+JRhuH6bvX+01r82lR9fhX/eh3vLp+2dpEvTFM7k3+JPj+mvxfWmWHaYKW+vyJfy22u/E+8/6nN74x4l1ReB/su9+W2ZdTZVP3rk9eV9jZow7X1sPhGXE45baObyvMg7lX9D8IN8sV9p4yLLTfznYY+sjucVNnbbUOnR5uszNLS7afKkzL+qTyJ02zqYEv9S/1NsN90evMl9p+rqf34celqg8ogZRPlYysTh8QxLKb3mapHXeXTxeWBzTv36tOvefJnaCjxslNmualXX5Lvl8tNPSbL689WszWK394Y2Gf//Zx8++rV4PcwHj7xrux//3fymT+zo/YbGr/z4uqo/bz088fs/90slG+/CG9V7b/8jTz/Y3f77tEn5EH5vfyfDufry/LJKyIP/tRPs8qDa6/Vf28kIxx5ZNWuH1ZOLexD32UM15898m/jXg1u8c3r1TppBxdkQTZly5WfmWa5uCZveE9MHVg6LafkolyZ5C58K71+mzfd9jupaWd6fdHqO0d+oqd8XpGP47uaM6afIgvWlnukYc0/vd5mUY8OPi7HF+OnOXSaq7vSpq5sbslX9m13OI88b6YkX/lLtc+bH17s91sMt/VUZxWPc9Ouv6j28ZMi1MT+UuEcXJbTL4hc/NC/26zzpKseTFP/7sr6WxdV2ZwOngY4srJRr9eq/KqnBR+QhdQv9M+6/t14W1Y2/bxVVL698eaibH7wcfDEgG7LZXxNXana8nBUG/TW6nxAZ0r5BNlNefvMZjBtXuWsPJ+Ia6sizV49CJi6pGLyol/HjsjqumodF654T0B01KWucDR1PAieGHXtuI+b76zIpqpLfltO9l2t9W0+xxYTV9XnP+/FtVj6wO9nkvWgl7z0HFmxaxWf3ViXc8u6b/OOVz30qn9Jp+R0WTYq7ROND7RZHDtjfn+h/p/o27OPYS2KunK9Iy/axhjdMvsUvY6wav8Xl8/JunmyNayf+m9Wg/cH5PEnwzqbm57pqHr/YtRP3f5Yrqj4VvVrQP4YJJVvczJ1fRuqz689CX3E/FbD5lYx6uqWGhdPpr2d5o+/c/ri+YyZ6m19d5vH+dGeOp9Qhji2DKetP0gdWyKZ5y1DjVPs085HZevFW2bZtQfc5l4S40i/nuSWT3heNqEBz4/0U8hLn4ftbb7XKFSN0U9tH9uS07f00jgTlE7W+URbnXXjlOh8YnYSx5bifC/7nL5L99jMUnEpr/+478Szl1r7yK5wEuOjG1dM/fLPh7rlpmc+2o7J3WOZocbf85RoP95xMPucfpC+a8B+SLW3k8tb0ThxoGsuuvy83864dXVNFi8sJWeudOl1QyNcdsouN/XgD9xFeidefuk3z/7efTKwV44F4fz6gefkW/dRH/sXDrn/aQfl++vb1c0LZ/8h//1jshz8uPhT8s/J3w+5KXe8E+eccKZVm2KkBje7WjQlrr4c0U6bxUXbDrpjycgTvdxDRV/A04Mgv4tXBxe/+pmbaV7H1BmOvTiyeeZte0LvBhjHv9vjMGJO8KN4zMymrBzz06N/BM99lEvnkTlwVvuYZIprWDaVPtOH9YmB/eG+Ii6JKYODaCgf/yCtLHzHL3c1qFIHpvkMekPBEg7q1W86dKGrTi7KQrLP35KtXmXQFU40HbdhSYJOenDg7+eYOilxH+Wa27HloYXkQLTPRb8ceelRfdy5NZEzK+YHGcP+M4fud90POBbhTDB1eBAD9V2DyDyGdWqoK0PL6lNU/m68cFFWzkhwQlOIp5An9zGP9JgLhxflvJsWbi9Q+MtZzFh03JiLQerbAH3+/QtqL/5J5k25osYgTeOBFLP8yJzq/SDj7xGNmfacIcpnL51PaEMdW2bttuo3GvsUX855y3TjFHvRTdWltxbkejxuX1yY7MZGk87y0ecOG3LKH7NOcGFr0PMjFeezZxbSF0lnfo3igCw8pII5c1TOL1wP25TS59gx/fnEXdn6vG+YszTAOb2SNTaL2oGuX/EPYXf1kV3hmJthqj7Z30WxN/IXn3y8Xuc6ZKVnBHLHMkOMv8ejuw0O0ncNer5nl7hbWE8vy5VVPn0ctA/Nhg8L5el3Q6OYcfHZF3Lnk4/kS3lN/sWbJaF/I+KPr4SzIv7j8vAzNAw948ELx74SMzB2zBG5b55xuXFOVSTdmL07XapC72qLa2aAVabHvXbiQmlazoB0SKozPLYi8qYe2BT5oZ9UG1pmOObpGnuCfvcvV2QzeoqukznB73sReFL6znmRFu/V94lYc6Lm/tYdMIa6MBjeFOhmBlUuLvYAOKubGglDn+gM5NS6Kxv/NbenNYa8OafXHlUnR/qpnzIt12Vtkodtgn0Urx5rho7g2DLoSVR2emw/uLCu8v3zpQnXBrUnNjYcd3NjJ29qeOkdsu/KN69j2HBy+pTiCc7r6wuqH66vVbt0QT/hV/39dT1g3xH2iT37BJW+oK6Oi/4MvFmb+3Fj1vWtf59fnQAuyZaKV58LkOGsxBkbavw9ojHTnjJ1+eyx84m5pWcA2bMFc85bbLonHqeY8zB1nAtmoN2Vjz/YnOiCarPc8rEPRJWfT/i07jDnRzrO+geDGy6SzuEahZ31Fs2iNDMr+9zwG+J8wt1cGfjhoslNf04/r7FZXjh2xqaZYTLhzNlxjTXb5Y5lph1/j0d+Gxyk7xpo3HVz7ahcebJ51t8srrmYm10TnCv0vKHhlp16/3fyh//Sy009IQ+77UlfX5Y/9J2hcf8h2V8s6aTpHwR/TIXlefgHekmnY+aHtneUmbHye/mfn/o/SH5N1lV891/+z/a8SUn+wM2k1IF4eSefTbHTTSedOnrgu8dlcVNPo92RSz8d7B3LasBt01od6FXeJ5/UcAOCAZdduLk29BMhaelw7PSyi2+dlLP6AmHfCyNuUF9NM2/KtymZaX2bsrI68IXE3tPZ3cWkM2eDg5PJWzUw7je1NGTai/v/YNwJ5pLfH5mnlTajk59h2CfFJp1q6QaDy1MOZoo0N110TtYl29f2Wh6hK5yE8ocaA+19iln6QZ0QDnvhuunYMl2fn4qrTfOMlsQppdJTDT5XHymegDw6ZT7OaPq3uSDhXRzR44iuY39D3zVdG5xM+tiSV69n+wN0mX1KcYNMT8dWJxH6SbHWdu36UF9ueoYon+JJwLMnz6v63XTRUNd/fdF9oJvkteNG7phpuj4lpfeYaaA+v1iuwz/xm+xpaq/8c9r6BGY2/h7RmGlyQ7SNcZ4f9W4bE0qHM+X5RMIkx5b5iMtf16noad2s85YBxinFUj3ecW4+466c+maPwdOa7PzI5u3Wm28kj5HzukZRLGNVnYepeAXXHyaTPp9oZy5Ce09O6wvJkz2RPWUbnNU5fWJsNhMN4ZjlgC+cl5OqfKXncntJDeHsxDg/1j2WmdH4e0Ry2uAg13Z6j7us4kZRelmwga65xFR56plWk1xj6n1Do7iI/+379eWm7vvxS/KgvCx/LJeB+kIe1b8n4amWpDomX6r3Xz7m3v9CL2Ol3P+s/Pvlp6rtKogffvWu7LefWo/+TF5S+y2/U7yW/RsLmhcX9xr2JoheOuob+Vd5Tn5ThnFMvvV/c2Ne3Bqk1TSl87KwrjpH97GhOww3LchMzdNPPpj3RYUsBurqdUwvS1Ltr/+FAzu4MmuhuTB7Lbeh11W7agdn5d+bV5/GM2R6VCdZxsHesayeBIjTuiSin5ZJ9EJm7V81CKqmqfZJj1ufzsuT8wsbkz213So/HHtxROXsRIOrI7IalLGqs1ejfFMH5GKKshk4lXnX52RSPyWt9usv/eJefQb+unP3/7Z4wrK6c91d3+rTCVVb1E8W9LyjHU8r1eE1TQmcXGL6twlnRrOkzGDE78P6lc+RlVt2MFPE1b36tXWd5kRdKU8mUnWp/5O2WeGY9e6rvD+6dVqlz33sae1T9FMa7umMMgz96tMX5xxbjLY+P6MvTsT1qJ7qH02zn1pnevTFVX1x4VT1exVuGqyOm41vzrFF76cIw75MeoaeMeTFzYSzLLKh1yF1H2vdfZczZRvsln9s6azXifHBsHHVcWjvU0y+qpOwRe+iRxVvG9/ygkTx93odbFXPA7npaSufzvFdwZWBOpw2XzS0FxzUAVdW3gn/upv72+C4oZ9y9Y8buWOmtj4lR0Z968y3Yfp8Uy/8dBSvXn3xajh+0MvERG09vx60GGT8ndHvZIzvhhozdYrzrXGsOU3bKExZrwcpn713PjHIsaXTEOeVuk/x+wP72xXh+C7V79iX7fNzxil54uPcTMZdOeXj9QfFy7T1Hk/da53nRxl9ZHGx0Y+veRVj9IH6yCqu9uZOGV7ZH8TnYarMH9roubqAqkuZ5xNtdF8c1BO1Dz1mn8R0bbCrbeTJGpsNIDscVadOq/Hd5oQ3E7PDmXacP8QYI2MsM8T4O0d3GxxCXhsc4trOENeqypthQRvVrypfB7nm4tUl89Lnr7cmu8a0T/8yuPs/gATdOcxmgLcX2CcrZVYXuQEAwGDMmOaD4+0XhfXFJXWyo5cI6TuTADF9Apm6EGXHT/1viGNH0TZmhPMJAPcufUF7SfresALQf4YGABj6JL2Y7uw2AQCAcbrhTdF3m1LMEkkywQ/zIt+NK+aJwHv6tyB2IdrGLHA+AeDepR80Mb+Bwc0MoDdmaAAdmKERs09RmdUO9ZrQHHwBABgtO47ZVP/TP6bZMoVdTwFf1kd3dWLNmGc47ql+XQKVjrLAuNA2ZoDzCQD3LjMrQy/dxHEFmBg3NAAAAAAAAAAAwOix5BQAAAAAAAAAABg9bmgAAAAAAAAAAIDR44YGAAAAAAAAAAAYPW5oAAAAAAAAAACA0eOGBgAAAAAAAAAAGD1uaAAAAAAAAAAAgNHjhgYAAAAAAAAAABg9bmgAAAAAAAAAAIDR44YGAAAAAAAAAAAYPW5oAAAAAAAAAACA0eOGBgAAAAAAAAAAGDmR/wdkn5GrLsOFegAAAABJRU5ErkJggg==)"
      ],
      "metadata": {
        "id": "xW5ZRN-AKX5I"
      }
    },
    {
      "cell_type": "code",
      "source": [
        "np.hstack([n1, n2])"
      ],
      "metadata": {
        "colab": {
          "base_uri": "https://localhost:8080/"
        },
        "id": "WLmIwbwNKTvQ",
        "outputId": "f9687555-b84f-456b-c0dc-b64f633d77a6"
      },
      "execution_count": null,
      "outputs": [
        {
          "output_type": "execute_result",
          "data": {
            "text/plain": [
              "array([0, 1, 2, 3, 4, 5, 6, 7, 8, 9, 0, 1, 2, 3, 4])"
            ]
          },
          "metadata": {},
          "execution_count": 109
        }
      ]
    },
    {
      "cell_type": "markdown",
      "source": [
        "Por otra parte, podemos hacer uso de funciones parecidas a las dos anteriores, pero que nos permiten dividir un ```array``` en dos partes iguales. Estas funciones son ```vsplit``` y ```hsplit```."
      ],
      "metadata": {
        "id": "g8ZrD8owKeN_"
      }
    },
    {
      "cell_type": "code",
      "source": [
        "np.hsplit(n1, 2) # divide n1 en dos trozos"
      ],
      "metadata": {
        "colab": {
          "base_uri": "https://localhost:8080/"
        },
        "id": "HI7pAHlfKZ1-",
        "outputId": "7051364e-4ac7-4cd8-a8a5-d615dca20a9f"
      },
      "execution_count": null,
      "outputs": [
        {
          "output_type": "execute_result",
          "data": {
            "text/plain": [
              "[array([0, 1, 2, 3, 4]), array([5, 6, 7, 8, 9])]"
            ]
          },
          "metadata": {},
          "execution_count": 114
        }
      ]
    },
    {
      "cell_type": "code",
      "source": [
        "np.hsplit(n1, 5) # divide n1 en cinco trozos"
      ],
      "metadata": {
        "colab": {
          "base_uri": "https://localhost:8080/"
        },
        "id": "-fX-JzYkKsYd",
        "outputId": "30499804-4e51-4446-a930-21faf2abccc5"
      },
      "execution_count": null,
      "outputs": [
        {
          "output_type": "execute_result",
          "data": {
            "text/plain": [
              "[array([0, 1]), array([2, 3]), array([4, 5]), array([6, 7]), array([8, 9])]"
            ]
          },
          "metadata": {},
          "execution_count": 117
        }
      ]
    },
    {
      "cell_type": "markdown",
      "source": [
        "Las divisiones deben de ser iguales.\n",
        "\n",
        "Si el ```array``` tiene más de dos dimensiones, esta separación se sigue haciendo a lo largo de las dimensiones cero y uno."
      ],
      "metadata": {
        "id": "yTiDxwbYLHbY"
      }
    },
    {
      "cell_type": "markdown",
      "source": [
        "## Máscaras booleanas"
      ],
      "metadata": {
        "id": "7EDDFGHvLUbE"
      }
    },
    {
      "cell_type": "markdown",
      "source": [
        "Hasta ahora, hemos visto distintos ```array``` en los que almacenábamos enteros o reales. Otros valores almacenables son los booleanos."
      ],
      "metadata": {
        "id": "wzs5Ig3gLXMZ"
      }
    },
    {
      "cell_type": "code",
      "source": [
        "n1 = np.random.random(10)\n",
        "n1 > 0.5"
      ],
      "metadata": {
        "colab": {
          "base_uri": "https://localhost:8080/"
        },
        "id": "ZmKZPcPSLDd3",
        "outputId": "ee22832d-e64f-4cab-cc87-078a1a541ace"
      },
      "execution_count": null,
      "outputs": [
        {
          "output_type": "execute_result",
          "data": {
            "text/plain": [
              "array([ True, False, False, False, False,  True, False, False,  True,\n",
              "        True])"
            ]
          },
          "metadata": {},
          "execution_count": 121
        }
      ]
    },
    {
      "cell_type": "markdown",
      "source": [
        "Estos vectores son especialmente interesantes a la hora de recorrer un ```array```, y es que podemos **enmascarar** un ```array``` para modificar solo los valores en donde la máscara sea ```True```.\n",
        "\n",
        "En el ejemplo anterior hemos tomado como ```True``` todos los valores mayores que ```0.5```, ahora vamos a modificar por 1 todos esos valores."
      ],
      "metadata": {
        "id": "v3dP3qBmLqsD"
      }
    },
    {
      "cell_type": "code",
      "source": [
        "mask = n1 > 0.5\n",
        "n1[mask] = 1\n",
        "n1"
      ],
      "metadata": {
        "colab": {
          "base_uri": "https://localhost:8080/"
        },
        "id": "mFAIhfXvLjJR",
        "outputId": "5a414113-458c-4c1b-9d9e-4208fccc8fa1"
      },
      "execution_count": null,
      "outputs": [
        {
          "output_type": "execute_result",
          "data": {
            "text/plain": [
              "array([1.        , 0.12509583, 0.26240759, 0.42070683, 0.11223935,\n",
              "       1.        , 0.16527295, 0.13330283, 1.        , 1.        ])"
            ]
          },
          "metadata": {},
          "execution_count": 122
        }
      ]
    },
    {
      "cell_type": "markdown",
      "source": [
        "Esta forma de trabajar con ```array``` es muy utilizada, así que debes conocerla."
      ],
      "metadata": {
        "id": "CTU-hkK1MD3S"
      }
    },
    {
      "cell_type": "markdown",
      "source": [
        "## ```Matplotlib``` como representación de ```array```"
      ],
      "metadata": {
        "id": "-7nXWriTMlj6"
      }
    },
    {
      "cell_type": "markdown",
      "source": [
        "Para finalizar este _cuadernillo_, vamos a ver el uso de un nuevo paquete llamado ```matplotlib```."
      ],
      "metadata": {
        "id": "IxeqR9OLMsnq"
      }
    },
    {
      "cell_type": "code",
      "source": [
        "import matplotlib.pyplot as plt"
      ],
      "metadata": {
        "id": "o20xaeFyMCdH"
      },
      "execution_count": null,
      "outputs": []
    },
    {
      "cell_type": "markdown",
      "source": [
        "Dado un vector cualquiera, podemos representarlo de forma gráfica. Por ejemplo:"
      ],
      "metadata": {
        "id": "T9XZWVaiNJxk"
      }
    },
    {
      "cell_type": "code",
      "source": [
        "n1 = np.array(range(10))"
      ],
      "metadata": {
        "id": "b8eEZo4hNGTg"
      },
      "execution_count": null,
      "outputs": []
    },
    {
      "cell_type": "code",
      "source": [
        "plt.plot(n1); # pongo el \";\" para que no nos muestre la clase"
      ],
      "metadata": {
        "colab": {
          "base_uri": "https://localhost:8080/",
          "height": 430
        },
        "id": "6cRgs4DINPjd",
        "outputId": "b61d4612-0f5e-466d-d778-d6e851f498c9"
      },
      "execution_count": null,
      "outputs": [
        {
          "output_type": "display_data",
          "data": {
            "text/plain": [
              "<Figure size 640x480 with 1 Axes>"
            ],
            "image/png": "[encoded data removed]"
          },
          "metadata": {}
        }
      ]
    },
    {
      "cell_type": "markdown",
      "source": [
        "Con este módulo, ```matplotlib.pyplot``` puede añadir nombres a los gráficos, mostrar varios gráficos, varias ```series``` (líneas), modificar sus colores... En definitiva, puedes hacer casi lo que quieras. No entra dentro de nuestra programación, pero te aconsejo que estudies un poco por tu cuenta este módulo, seguro que te resulta interesante para un futuro (si eres de esos que quiere poner sus resultados de una forma más bonita).\n",
        "\n",
        "Obviamente, podemos representar cualquier tipo de valor, no solo enteros. Por ejemplo, podemos representar la función seno."
      ],
      "metadata": {
        "id": "P3SOpoInNfPi"
      }
    },
    {
      "cell_type": "code",
      "source": [
        "import math"
      ],
      "metadata": {
        "id": "FPDrecPgNX47"
      },
      "execution_count": null,
      "outputs": []
    },
    {
      "cell_type": "code",
      "source": [
        "n1 = np.array(range(10))\n",
        "n1"
      ],
      "metadata": {
        "colab": {
          "base_uri": "https://localhost:8080/"
        },
        "id": "TAzFS2OkN39b",
        "outputId": "1f9b4720-3d6e-4e6b-a5ee-3fa079da0f34"
      },
      "execution_count": null,
      "outputs": [
        {
          "output_type": "execute_result",
          "data": {
            "text/plain": [
              "array([0, 1, 2, 3, 4, 5, 6, 7, 8, 9])"
            ]
          },
          "metadata": {},
          "execution_count": 138
        }
      ]
    },
    {
      "cell_type": "code",
      "source": [
        "n1 = np.sin(n1)\n",
        "n1"
      ],
      "metadata": {
        "colab": {
          "base_uri": "https://localhost:8080/"
        },
        "id": "ATuCWyQ3N_2w",
        "outputId": "437cecb3-50e1-4f87-ab97-5c2ca6c63ae5"
      },
      "execution_count": null,
      "outputs": [
        {
          "output_type": "execute_result",
          "data": {
            "text/plain": [
              "array([ 0.        ,  0.84147098,  0.90929743,  0.14112001, -0.7568025 ,\n",
              "       -0.95892427, -0.2794155 ,  0.6569866 ,  0.98935825,  0.41211849])"
            ]
          },
          "metadata": {},
          "execution_count": 139
        }
      ]
    },
    {
      "cell_type": "code",
      "source": [
        "plt.plot(n1);"
      ],
      "metadata": {
        "colab": {
          "base_uri": "https://localhost:8080/",
          "height": 430
        },
        "id": "ITKPlFuSOCVd",
        "outputId": "76bdd40e-e60a-47fb-f73f-1ca394a003d5"
      },
      "execution_count": null,
      "outputs": [
        {
          "output_type": "display_data",
          "data": {
            "text/plain": [
              "<Figure size 640x480 with 1 Axes>"
            ],
            "image/png": "[encoded data removed]"
          },
          "metadata": {}
        }
      ]
    },
    {
      "cell_type": "markdown",
      "source": [
        "Si hubiésemos añadido más valores, quedaría más bonita."
      ],
      "metadata": {
        "id": "oFQUa3KNOS5U"
      }
    },
    {
      "cell_type": "code",
      "source": [
        "n1 = np.array(np.arange(0, 10, 0.1))\n",
        "n1"
      ],
      "metadata": {
        "colab": {
          "base_uri": "https://localhost:8080/"
        },
        "id": "3JprbybXOPJv",
        "outputId": "ef927c0e-6d2a-4474-c435-0f4ceafb9443"
      },
      "execution_count": null,
      "outputs": [
        {
          "output_type": "execute_result",
          "data": {
            "text/plain": [
              "array([0. , 0.1, 0.2, 0.3, 0.4, 0.5, 0.6, 0.7, 0.8, 0.9, 1. , 1.1, 1.2,\n",
              "       1.3, 1.4, 1.5, 1.6, 1.7, 1.8, 1.9, 2. , 2.1, 2.2, 2.3, 2.4, 2.5,\n",
              "       2.6, 2.7, 2.8, 2.9, 3. , 3.1, 3.2, 3.3, 3.4, 3.5, 3.6, 3.7, 3.8,\n",
              "       3.9, 4. , 4.1, 4.2, 4.3, 4.4, 4.5, 4.6, 4.7, 4.8, 4.9, 5. , 5.1,\n",
              "       5.2, 5.3, 5.4, 5.5, 5.6, 5.7, 5.8, 5.9, 6. , 6.1, 6.2, 6.3, 6.4,\n",
              "       6.5, 6.6, 6.7, 6.8, 6.9, 7. , 7.1, 7.2, 7.3, 7.4, 7.5, 7.6, 7.7,\n",
              "       7.8, 7.9, 8. , 8.1, 8.2, 8.3, 8.4, 8.5, 8.6, 8.7, 8.8, 8.9, 9. ,\n",
              "       9.1, 9.2, 9.3, 9.4, 9.5, 9.6, 9.7, 9.8, 9.9])"
            ]
          },
          "metadata": {},
          "execution_count": 142
        }
      ]
    },
    {
      "cell_type": "code",
      "source": [
        "plt.plot(np.sin(n1));"
      ],
      "metadata": {
        "colab": {
          "base_uri": "https://localhost:8080/",
          "height": 430
        },
        "id": "fFuNnv5kOZWe",
        "outputId": "7b2b010c-14e1-4a64-b2bf-c5bd941de3dd"
      },
      "execution_count": null,
      "outputs": [
        {
          "output_type": "display_data",
          "data": {
            "text/plain": [
              "<Figure size 640x480 with 1 Axes>"
            ],
            "image/png": "[encoded data removed]"
          },
          "metadata": {}
        }
      ]
    },
    {
      "cell_type": "markdown",
      "source": [
        "### Representación de imágenes"
      ],
      "metadata": {
        "id": "_U5dXxQOOox1"
      }
    },
    {
      "cell_type": "markdown",
      "source": [
        "Como una imagen no deja de ser un conjunto de números enteros a lo largo de dos (escala de grises) o tres (a color) dimensiones, podemos representar también imágenes haciendo uso de ```numpy``` y ver los resultados con ```matplotlib```.\n",
        "\n",
        "Por ejemplo, podemos cargar una imagen. Vamos a descargarla desde Google Images."
      ],
      "metadata": {
        "id": "L8pdajqyOsA3"
      }
    },
    {
      "cell_type": "code",
      "source": [
        "!wget https://fpdrioja.es/wp-content/uploads/2021/02/FPD_header.png"
      ],
      "metadata": {
        "colab": {
          "base_uri": "https://localhost:8080/"
        },
        "id": "A6uaEpZBOdn2",
        "outputId": "14fc8961-668f-439e-d76f-91829fe2777b"
      },
      "execution_count": null,
      "outputs": [
        {
          "output_type": "stream",
          "name": "stdout",
          "text": [
            "--2023-10-26 09:07:55--  https://fpdrioja.es/wp-content/uploads/2021/02/FPD_header.png\n",
            "Resolving fpdrioja.es (fpdrioja.es)... 217.76.150.103\n",
            "Connecting to fpdrioja.es (fpdrioja.es)|217.76.150.103|:443... connected.\n",
            "HTTP request sent, awaiting response... 200 OK\n",
            "Length: 22705 (22K) [image/png]\n",
            "Saving to: ‘FPD_header.png’\n",
            "\n",
            "FPD_header.png      100%[===================>]  22.17K  --.-KB/s    in 0.1s    \n",
            "\n",
            "2023-10-26 09:07:56 (186 KB/s) - ‘FPD_header.png’ saved [22705/22705]\n",
            "\n"
          ]
        }
      ]
    },
    {
      "cell_type": "markdown",
      "source": [
        "Ahora, podemos cargarla como un ```array``` con la ayuda del módulo ```cv2```.\n",
        "\n",
        "Veremos en mayor profundidad este módulo a lo largo del curso, dado que será fundamental para trabajar con imágenes."
      ],
      "metadata": {
        "id": "Ra_xHGPcPgfg"
      }
    },
    {
      "cell_type": "code",
      "source": [
        "import cv2\n",
        "\n",
        "image = cv2.imread(\"FPD_header.png\")\n",
        "plt.imshow(image);"
      ],
      "metadata": {
        "colab": {
          "base_uri": "https://localhost:8080/",
          "height": 138
        },
        "id": "FXVN134ePBVY",
        "outputId": "6d75e79b-aae7-48a9-b76e-6cf8fb490901"
      },
      "execution_count": null,
      "outputs": [
        {
          "output_type": "display_data",
          "data": {
            "text/plain": [
              "<Figure size 640x480 with 1 Axes>"
            ],
            "image/png": "[encoded data removed]"
          },
          "metadata": {}
        }
      ]
    },
    {
      "cell_type": "markdown",
      "source": [
        "Como ves, la imagen se ve distinta a lo que estamos acostumbrados. Esto es porque ```cv2``` guarda la información en un sistema ```BGR``` en vez de ```RGB```. Vamos a modificar esto y volver a mostrar la imagen."
      ],
      "metadata": {
        "id": "SsNm4y0QRK99"
      }
    },
    {
      "cell_type": "code",
      "source": [
        "image = cv2.imread(\"FPD_header.png\")\n",
        "image = cv2.cvtColor(image, cv2.COLOR_BGR2RGB)\n",
        "plt.imshow(image);"
      ],
      "metadata": {
        "colab": {
          "base_uri": "https://localhost:8080/",
          "height": 138
        },
        "id": "cAM6oqNxQfdM",
        "outputId": "1b4da5d7-fb2d-49d7-e6bd-851031099f3f"
      },
      "execution_count": null,
      "outputs": [
        {
          "output_type": "display_data",
          "data": {
            "text/plain": [
              "<Figure size 640x480 with 1 Axes>"
            ],
            "image/png": "[encoded data removed]"
          },
          "metadata": {}
        }
      ]
    },
    {
      "cell_type": "markdown",
      "source": [
        "Finalmente, una vez cargada la imagen, nada nos impide trabajar con ella como si fuese un ```array```.\n",
        "\n",
        "Por ejemplo, vamos a obtener tres ```array```: uno para el logo, otro para las inciales y otro para el texto.\n",
        "\n",
        "Antes de nada, recuerda las dimensiones que usaba ```numpy```:"
      ],
      "metadata": {
        "id": "NCt4uuhAR1Kj"
      }
    },
    {
      "cell_type": "code",
      "source": [
        "image.shape # y - x - z (color)"
      ],
      "metadata": {
        "colab": {
          "base_uri": "https://localhost:8080/"
        },
        "id": "oPGqbXmBRt0d",
        "outputId": "216ea08d-0196-4f23-cd05-57d68e4f2f5b"
      },
      "execution_count": null,
      "outputs": [
        {
          "output_type": "execute_result",
          "data": {
            "text/plain": [
              "(200, 1367, 3)"
            ]
          },
          "metadata": {},
          "execution_count": 160
        }
      ]
    },
    {
      "cell_type": "code",
      "source": [
        "logo = image[:, :225, :] # todo en vertical, hasta el 225 en horizontal y todo el color\n",
        "letters = image[:, 225:700, :]\n",
        "more_letters = image[:, 700:, :]"
      ],
      "metadata": {
        "id": "kE1A2c8cSJoV"
      },
      "execution_count": null,
      "outputs": []
    },
    {
      "cell_type": "code",
      "source": [
        "plt.imshow(logo);"
      ],
      "metadata": {
        "colab": {
          "base_uri": "https://localhost:8080/",
          "height": 434
        },
        "id": "5SfAM-EoSdu8",
        "outputId": "b2d53834-d603-4d3b-c671-a4bcee976155"
      },
      "execution_count": null,
      "outputs": [
        {
          "output_type": "display_data",
          "data": {
            "text/plain": [
              "<Figure size 640x480 with 1 Axes>"
            ],
            "image/png": "[encoded data removed]"
          },
          "metadata": {}
        }
      ]
    },
    {
      "cell_type": "code",
      "source": [
        "plt.imshow(letters);"
      ],
      "metadata": {
        "colab": {
          "base_uri": "https://localhost:8080/",
          "height": 292
        },
        "id": "P-CNK_P7SfJw",
        "outputId": "21ae26de-bcdc-4017-fe92-e04b6f1ccb62"
      },
      "execution_count": null,
      "outputs": [
        {
          "output_type": "execute_result",
          "data": {
            "text/plain": [
              "<matplotlib.image.AxesImage at 0x7fbdfb127c10>"
            ]
          },
          "metadata": {},
          "execution_count": 163
        },
        {
          "output_type": "display_data",
          "data": {
            "text/plain": [
              "<Figure size 640x480 with 1 Axes>"
            ],
            "image/png": "[encoded data removed]"
          },
          "metadata": {}
        }
      ]
    },
    {
      "cell_type": "code",
      "source": [
        "plt.imshow(more_letters);"
      ],
      "metadata": {
        "colab": {
          "base_uri": "https://localhost:8080/",
          "height": 214
        },
        "id": "iP5xJV5cSgKN",
        "outputId": "c56a3fd6-b89a-4040-94fc-9cd38094d24a"
      },
      "execution_count": null,
      "outputs": [
        {
          "output_type": "display_data",
          "data": {
            "text/plain": [
              "<Figure size 640x480 with 1 Axes>"
            ],
            "image/png": "[encoded data removed]"
          },
          "metadata": {}
        }
      ]
    },
    {
      "cell_type": "markdown",
      "source": [
        "Ahora podríamos, por ejemplo, guardar estos fragmentos."
      ],
      "metadata": {
        "id": "ODPP1niGSlPY"
      }
    },
    {
      "cell_type": "code",
      "source": [
        "plt.imsave(\"logo.png\", logo)\n",
        "plt.imsave(\"letters.png\", letters)\n",
        "plt.imsave(\"more_letters.png\", more_letters)"
      ],
      "metadata": {
        "id": "go8En4hmSjHo"
      },
      "execution_count": null,
      "outputs": []
    },
    {
      "cell_type": "markdown",
      "source": [
        "Y desde Google Colab puedes descargar estos archivos.\n",
        "\n",
        "Como ya hemos dicho, las opciones con ```matplotlib``` son muchísimas, y así es también con ```cv2``` (de hecho, veremos cómo trabajar con escalas de grises, _thresholds_ y demás).\n",
        "\n",
        "Puedes investigar tanto como quieras. Cuanto más sepas sobre estas librerías, mejores resultados podrás mostrar a tus usuarios."
      ],
      "metadata": {
        "id": "sWcLvlyCS0jJ"
      }
    },
    {
      "cell_type": "markdown",
      "source": [
        "# Resumen"
      ],
      "metadata": {
        "id": "UZRu4HIwTKMk"
      }
    },
    {
      "cell_type": "markdown",
      "source": [
        "A lo largo de este _cuadernillo_ hemos visto cómo se puede trabajar con ```numpy```, sus operaciones más básicas e, incluso, la sinergia que tiene con ```imágenes```.\n",
        "\n",
        "Asegurate de revisar todo lo utilizado y hacer tus propias pruebas para ir interiorizando los conceptos.\n",
        "\n",
        "Durante el siguiente _cuadernillo_ veremos ```pandas```, un módulo que nos va a permitir trabajar con datos en formato de tabla. De hecho, durante ese _cuadernillo_, realizaremos nuestro primer Análisis Exploratorio de Datos (AED), fundamental para los algoritmos básicos de Inteligencia Artificial."
      ],
      "metadata": {
        "id": "b7GA15_TTMLg"
      }
    }
  ]
}