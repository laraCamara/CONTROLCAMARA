{
  "nbformat": 4,
  "nbformat_minor": 0,
  "metadata": {
    "colab": {
      "provenance": [],
      "include_colab_link": true
    },
    "kernelspec": {
      "name": "python3",
      "display_name": "Python 3"
    },
    "language_info": {
      "name": "python"
    }
  },
  "cells": [
    {
      "cell_type": "markdown",
      "metadata": {
        "id": "view-in-github",
        "colab_type": "text"
      },
      "source": [
        "<a href=\"https://colab.research.google.com/github/laraCamara/CONTROLCAMARA/blob/master/101_Java2Python.ipynb\" target=\"_parent\"><img src=\"https://colab.research.google.com/assets/colab-badge.svg\" alt=\"Open In Colab\"/></a>"
      ]
    },
    {
      "cell_type": "markdown",
      "source": [
        "# Desde Java hasta Python"
      ],
      "metadata": {
        "id": "JkUw568vSJow"
      }
    },
    {
      "cell_type": "markdown",
      "source": [
        "Pudiera parecer que el paso de Java a Python es largo y tedioso (realmente son dos lenguajes que tienen bastantes diferencias).\n",
        "\n",
        "Sin embargo, Python es tan poéticamente hermoso que facilita este traspaso. En realidad, vas a poder aplicar todo lo que ya sabes de Java a este nuevo lenguaje (los conceptos, quiero decir: declaración de variables, estructuras de control, subrutinas, programación orientada a objetos).\n",
        "\n",
        "Durante este cuaderno (sí, ahora explicamos qué es esto de _los cuadernos_), vamos a ver los conceptos más básicos.\n",
        "\n",
        "Ten en cuenta que no vamos a explicarlos, sino a ver la relación entre Java y Python. Si no te acuerdas de qué eran estos conceptos (por ejemplo: recurrencia, polimorfismo...) entonces deberías repasarlos lo antes posible."
      ],
      "metadata": {
        "id": "BanbB3-MSNna"
      }
    },
    {
      "cell_type": "markdown",
      "source": [
        "# Los _cuadernillos_ de Google Colab"
      ],
      "metadata": {
        "id": "y0DXqq57SxbG"
      }
    },
    {
      "cell_type": "markdown",
      "source": [
        "Una de las herramientas más potentes para trabajar con Python son los _cuadernillos_. En local, Jupyter; en la nube, Google Colab.\n",
        "\n",
        "Un _cuadernillo_ está compuesto por celdas, que pueden ser de dos tipos: las que has visto hasta ahora (de texto, formateado con RMarkDown) y las de código, como la siguiente."
      ],
      "metadata": {
        "id": "N5Voy4WmS1RC"
      }
    },
    {
      "cell_type": "code",
      "execution_count": null,
      "metadata": {
        "colab": {
          "base_uri": "https://localhost:8080/"
        },
        "id": "o4f_4A_TSDMF",
        "outputId": "83ec8c6e-8610-4ca2-e8bd-f76fe9b7e626"
      },
      "outputs": [
        {
          "output_type": "execute_result",
          "data": {
            "text/plain": [
              "4"
            ]
          },
          "metadata": {},
          "execution_count": 8
        }
      ],
      "source": [
        "2 + 2"
      ]
    },
    {
      "cell_type": "markdown",
      "source": [
        "Las celdas de código pueden **ejecutarse**, esto es: se creará un entorno virtual temporal en Google Colab en el que se lanzará un núcleo (_kernel_, que raro suena en español) en el que se instalará todo lo necesario para poder trabajar y, después, se trabajará sobre dicho _kernel_.\n",
        "\n",
        "Piensa en este _kernel_ como lo **esencial** para trabajar y que, como todo núcleo, tendrás que defender de los ataques enemigos (en este caso, el enemigo eres tú creando bucles infinitos o saturando la memoria asignada). #FreeTheKernels.\n",
        "\n",
        "En resumen: intenta no saturar tu _kernel_ o tu _session_ (la máquina virtual), se caerá y perderás todo lo que tengas en ejecución y no hayas guardado.\n",
        "\n",
        "Volviendo al tema de las celdas (como has visto en la anterior), hemos usado el intérprete como si fuese una calculadora: simplemente ha resuelto la complicada operación de ```2+2```.\n",
        "\n",
        "El resultado es devuelto y expuesto en la **salida de las celdas de código**, que por defecto es debajo de la celda (esto podría ser modificado, por ejemplo, a un fichero)."
      ],
      "metadata": {
        "id": "gcqfnYB-TG-M"
      }
    },
    {
      "cell_type": "code",
      "source": [
        "60 / 10"
      ],
      "metadata": {
        "colab": {
          "base_uri": "https://localhost:8080/"
        },
        "id": "enVKNHN3SJPt",
        "outputId": "540ab0c7-5884-4ec7-84e0-d03491836b86"
      },
      "execution_count": null,
      "outputs": [
        {
          "output_type": "execute_result",
          "data": {
            "text/plain": [
              "6.0"
            ]
          },
          "metadata": {},
          "execution_count": 2
        }
      ]
    },
    {
      "cell_type": "markdown",
      "source": [
        "Para ejecutar las celdas puedes pulsar sobre el botón de la izquierda, o (teniendo la celda seleccionada) pulsar sobre ```SHIFT``` + ```ENTER``` (esto creará una nueva celda debajo) o sobre ```CONTROL``` + ```ENTER``` (que no creará una nueva celda).\n",
        "\n",
        "También puedes ejecutar **TODAS** las celdas anteriores o las del cuadernillo, pulsando arriba en _Entorno de ejecución_ --> _Ejecutar todas_."
      ],
      "metadata": {
        "id": "VEWc1nUHUDxF"
      }
    },
    {
      "cell_type": "markdown",
      "source": [
        "# La operación más sencilla: declaración y asignación de variables"
      ],
      "metadata": {
        "id": "D8WWyoI3UmPW"
      }
    },
    {
      "cell_type": "markdown",
      "source": [
        "Además de usar el intérprete como una calculadora, podemos almacenar sus resultados en variables (llamadas **variables de entorno**).\n",
        "\n",
        "Todas las variables son guardadas en un diccionario llamado globals, al que puedes acceder poniendo ```globals()```."
      ],
      "metadata": {
        "id": "KDby8ZNGUpYp"
      }
    },
    {
      "cell_type": "code",
      "source": [
        "globals()"
      ],
      "metadata": {
        "colab": {
          "base_uri": "https://localhost:8080/"
        },
        "id": "PAYKRqf4UPVH",
        "outputId": "aecaabe7-0f91-4d12-bf73-3f5cfad745d6"
      },
      "execution_count": null,
      "outputs": [
        {
          "output_type": "execute_result",
          "data": {
            "text/plain": [
              "{'__name__': '__main__',\n",
              " '__doc__': 'Automatically created module for IPython interactive environment',\n",
              " '__package__': None,\n",
              " '__loader__': None,\n",
              " '__spec__': None,\n",
              " '__builtin__': <module 'builtins' (built-in)>,\n",
              " '__builtins__': <module 'builtins' (built-in)>,\n",
              " '_ih': ['', '2+2', '60 / 10', 'globals()'],\n",
              " '_oh': {1: 4, 2: 6.0},\n",
              " '_dh': ['/content'],\n",
              " 'In': ['', '2+2', '60 / 10', 'globals()'],\n",
              " 'Out': {1: 4, 2: 6.0},\n",
              " 'get_ipython': <bound method InteractiveShell.get_ipython of <google.colab._shell.Shell object at 0x79e1a41a9e40>>,\n",
              " 'exit': <IPython.core.autocall.ZMQExitAutocall at 0x79e1a41aa3e0>,\n",
              " 'quit': <IPython.core.autocall.ZMQExitAutocall at 0x79e1a41aa3e0>,\n",
              " '_': 6.0,\n",
              " '__': 4,\n",
              " '___': '',\n",
              " '_i': '60 / 10',\n",
              " '_ii': '2+2',\n",
              " '_iii': '',\n",
              " '_i1': '2+2',\n",
              " '_1': 4,\n",
              " '_i2': '60 / 10',\n",
              " '_2': 6.0,\n",
              " '_i3': 'globals()'}"
            ]
          },
          "metadata": {},
          "execution_count": 3
        }
      ]
    },
    {
      "cell_type": "markdown",
      "source": [
        "Como ves, las propias celdas de código que hemos creado forman parte de las varaibles de entorno.\n",
        "\n",
        "Vamos a ejecutar una operación y la vamos a guardar en una variable."
      ],
      "metadata": {
        "id": "N_y4pUwwU6lx"
      }
    },
    {
      "cell_type": "code",
      "source": [
        "a = 2 + 2"
      ],
      "metadata": {
        "id": "_gPsb-KvURM3"
      },
      "execution_count": null,
      "outputs": []
    },
    {
      "cell_type": "markdown",
      "source": [
        "Ahora, en ```a```, disponemos del resultado de haber ejecutado 2+2. Como has podido ver, ya no aparece el resultado en la _salida estándar_. Eso sucede porque lo hemos guardado en una variable y esta operación (_asignación_) devuelve un valor nulo (que en Python se llaman _None_).\n",
        "\n",
        "Para poder ver el valor de la variable, puedes ejecutar una celda que contenga únicamente la mención de la variable."
      ],
      "metadata": {
        "id": "PEqZgwbTVDud"
      }
    },
    {
      "cell_type": "code",
      "source": [
        "a"
      ],
      "metadata": {
        "colab": {
          "base_uri": "https://localhost:8080/",
          "height": 35
        },
        "id": "qNgZkjiSVClj",
        "outputId": "dbd35261-4c5b-4c96-872c-25a632bf6a33"
      },
      "execution_count": null,
      "outputs": [
        {
          "output_type": "execute_result",
          "data": {
            "text/plain": [
              "'Hola'"
            ],
            "application/vnd.google.colaboratory.intrinsic+json": {
              "type": "string"
            }
          },
          "metadata": {},
          "execution_count": 13
        }
      ]
    },
    {
      "cell_type": "markdown",
      "source": [
        "Un concepto que puede llegar a sorprenderte bastante es el de **tipado dinámico**. Java crea las variables de un solo tipo. Esto es: si tú creas una variable ```number``` de tipo ```int```, no vas a poder almacenar en ella una cadena de caracteres. En Python esto no es así. El tipo de las variables es determinado en tiempo de ejecución, por lo que puedes guardar cualquier cosa dentro de cualquier variable sin indicarlo explícitamente."
      ],
      "metadata": {
        "id": "pMMgStlPWpVJ"
      }
    },
    {
      "cell_type": "code",
      "source": [
        "print(a)\n",
        "a = \"Hola\"\n",
        "a"
      ],
      "metadata": {
        "colab": {
          "base_uri": "https://localhost:8080/",
          "height": 52
        },
        "id": "vjt_8KIeWeEG",
        "outputId": "999a27a2-d8f1-496f-d2c0-2ba3e34f0b7e"
      },
      "execution_count": null,
      "outputs": [
        {
          "output_type": "stream",
          "name": "stdout",
          "text": [
            "4\n"
          ]
        },
        {
          "output_type": "execute_result",
          "data": {
            "text/plain": [
              "'Hola'"
            ],
            "application/vnd.google.colaboratory.intrinsic+json": {
              "type": "string"
            }
          },
          "metadata": {},
          "execution_count": 12
        }
      ]
    },
    {
      "cell_type": "markdown",
      "source": [
        "Al principio de la celda anterior, el tipo de ```a``` era ```int```, pero al finalizar ha sido ```str```.\n",
        "\n",
        "Por cierto, como has visto, cada línea de código empieza en una nueva línea, sin utilizar ```;```. Para Python, cada línea es una **instrucción** diferente.\n",
        "\n",
        "Además, hemos usado la función ```print```, que nos permite mostrar algo por la salida estándar.\n",
        "\n",
        "Cuando decimos que una variable en Python puede almacenar cualquier cosa, es **cualquier cosa**, incluso funciones. Esto puede ser algo difícil de ver, pero nos facilitará el uso de la programación funcional al máximo."
      ],
      "metadata": {
        "id": "FoLjGsoKXCII"
      }
    },
    {
      "cell_type": "code",
      "source": [
        "a = print\n",
        "a(\"Hola\")"
      ],
      "metadata": {
        "colab": {
          "base_uri": "https://localhost:8080/"
        },
        "id": "_ClLbQs4XBAi",
        "outputId": "c6cb3c12-d852-43c7-d39e-8c20324ac975"
      },
      "execution_count": null,
      "outputs": [
        {
          "output_type": "stream",
          "name": "stdout",
          "text": [
            "Hola\n"
          ]
        }
      ]
    },
    {
      "cell_type": "markdown",
      "source": [
        "Ahora ```a``` es un **álias** para la función ```print```.\n",
        "\n",
        "Si esto del **tipado dinámico** te resulta caótico, no te preocupes. Python te permite tipar las variables si quieres, esta es la forma de hacerlo."
      ],
      "metadata": {
        "id": "IGzsdorBXrR_"
      }
    },
    {
      "cell_type": "code",
      "source": [
        "a: int = 5"
      ],
      "metadata": {
        "id": "aILIqsQQXn4A"
      },
      "execution_count": null,
      "outputs": []
    },
    {
      "cell_type": "markdown",
      "source": [
        "En la celda anterior, declaramos la variable ```a```, de tipo entero, y le asignamos el valor 5.\n",
        "\n",
        "Desgraciadamente, nadie te asegurará que siga siendo un entero, pero te puede dar una ligera idea de qué valor tiene en tu código.\n",
        "\n",
        "Una vez más, el desarrollo rápido es más importante que la coherencia y, aquí en Python, se ha potenciado lo primero ante todo. El hecho de que sea bonito y reutilizable es tu responsabilidad como programador."
      ],
      "metadata": {
        "id": "0ZBXY3sfX_hm"
      }
    },
    {
      "cell_type": "code",
      "source": [
        "a = print\n",
        "a(\"He cambiado\")"
      ],
      "metadata": {
        "colab": {
          "base_uri": "https://localhost:8080/"
        },
        "id": "ggQC4OlZX-rL",
        "outputId": "f84ac3e4-d537-440e-9acc-aa02a0d3081f"
      },
      "execution_count": null,
      "outputs": [
        {
          "output_type": "stream",
          "name": "stdout",
          "text": [
            "He cambiado\n"
          ]
        }
      ]
    },
    {
      "cell_type": "markdown",
      "source": [
        "# Las estructuras de control condicionales"
      ],
      "metadata": {
        "id": "B0hpraIcYXaA"
      }
    },
    {
      "cell_type": "markdown",
      "source": [
        "## Operadores lógicos"
      ],
      "metadata": {
        "id": "K1oNgZbzax6K"
      }
    },
    {
      "cell_type": "markdown",
      "source": [
        "Continuamos nuestro viaje a través de las condiciones. En Python, al igual que en Java, tenemos varios operadores lógicos que nos permitirán ejecutar (o no) ciertos fragmentos de código.\n",
        "\n",
        "Por ejemplo:\n",
        "- ! -> not\n",
        "- && -> and\n",
        "- || -> or\n",
        "\n",
        "Los valores devueltos por estos operadores son, casi siempre, booleanos."
      ],
      "metadata": {
        "id": "oVEzWEpoYanf"
      }
    },
    {
      "cell_type": "code",
      "source": [
        "1 != 2"
      ],
      "metadata": {
        "colab": {
          "base_uri": "https://localhost:8080/"
        },
        "id": "XlDp3lkYYJxV",
        "outputId": "327af36c-cd80-4d98-dedf-199adb958f68"
      },
      "execution_count": null,
      "outputs": [
        {
          "output_type": "execute_result",
          "data": {
            "text/plain": [
              "True"
            ]
          },
          "metadata": {},
          "execution_count": 18
        }
      ]
    },
    {
      "cell_type": "code",
      "source": [
        "2 == 2 and 3 < 5"
      ],
      "metadata": {
        "colab": {
          "base_uri": "https://localhost:8080/"
        },
        "id": "aD_p3WCOYwFh",
        "outputId": "fdf79abe-ad50-4062-b2db-2edd57c323c1"
      },
      "execution_count": null,
      "outputs": [
        {
          "output_type": "execute_result",
          "data": {
            "text/plain": [
              "True"
            ]
          },
          "metadata": {},
          "execution_count": 19
        }
      ]
    },
    {
      "cell_type": "code",
      "source": [
        "2 != 1 or 3 == 4"
      ],
      "metadata": {
        "colab": {
          "base_uri": "https://localhost:8080/"
        },
        "id": "PkjkremJYxgL",
        "outputId": "4f631ad0-f870-4fb5-fac8-44143e1746ee"
      },
      "execution_count": null,
      "outputs": [
        {
          "output_type": "execute_result",
          "data": {
            "text/plain": [
              "True"
            ]
          },
          "metadata": {},
          "execution_count": 20
        }
      ]
    },
    {
      "cell_type": "markdown",
      "source": [
        "> Serán casi siempre booleanos\n",
        "\n",
        "¡Qué bonita forma de sembrar el caos! Y es que estos operadores no trabajan en una lógica booleana, sino en la lógica booleana ampliada, contemplando tres posibles valores: verdadero, falso y desconocido (_None_).\n",
        "\n",
        "Por ejemplo, lo contrario de verdadero es falso; lo contrario de falso es verdadero; y lo contrario de desconocido es verdadero."
      ],
      "metadata": {
        "id": "I_1NYqPFZBAK"
      }
    },
    {
      "cell_type": "code",
      "source": [
        " print(not True)\n",
        " print(not False)\n",
        " not None"
      ],
      "metadata": {
        "colab": {
          "base_uri": "https://localhost:8080/"
        },
        "id": "OfexlKjvY0F8",
        "outputId": "8a6a76f7-ef9c-4cf2-c812-e8494c923d1f"
      },
      "execution_count": null,
      "outputs": [
        {
          "output_type": "stream",
          "name": "stdout",
          "text": [
            "False\n",
            "True\n"
          ]
        },
        {
          "output_type": "execute_result",
          "data": {
            "text/plain": [
              "True"
            ]
          },
          "metadata": {},
          "execution_count": 13
        }
      ]
    },
    {
      "cell_type": "markdown",
      "source": [
        "Sin embargo, algo desconocido y algo cierto es... desconocido (necesitaríamos conocer este valor para asegurar que es cierto).\n",
        "\n",
        "Fíjate que la salida estándar no muestra nada cuando se devuelve _None_."
      ],
      "metadata": {
        "id": "vvSB7SqjZjMT"
      }
    },
    {
      "cell_type": "code",
      "source": [
        "True and None"
      ],
      "metadata": {
        "id": "A79-vRSJY5_2"
      },
      "execution_count": null,
      "outputs": []
    },
    {
      "cell_type": "markdown",
      "source": [
        "Así que algo desconocido y algo falso será falso, porque ya tenemos suficiente información."
      ],
      "metadata": {
        "id": "onDTEpKHZv0I"
      }
    },
    {
      "cell_type": "code",
      "source": [
        "False and None"
      ],
      "metadata": {
        "colab": {
          "base_uri": "https://localhost:8080/"
        },
        "id": "MnF84pkkZp04",
        "outputId": "caf5a230-1fe3-4607-8e11-f85c86cdeedf"
      },
      "execution_count": null,
      "outputs": [
        {
          "output_type": "execute_result",
          "data": {
            "text/plain": [
              "False"
            ]
          },
          "metadata": {},
          "execution_count": 22
        }
      ]
    },
    {
      "cell_type": "markdown",
      "source": [
        "O no..."
      ],
      "metadata": {
        "id": "F2D3HukaaAno"
      }
    },
    {
      "cell_type": "code",
      "source": [
        "print(None and False)\n",
        "print(True or None)\n",
        "None or False"
      ],
      "metadata": {
        "colab": {
          "base_uri": "https://localhost:8080/"
        },
        "id": "DbdxnTFlZ6pU",
        "outputId": "2a013fbc-cea1-48b9-da89-6c5865eae2bd"
      },
      "execution_count": null,
      "outputs": [
        {
          "output_type": "stream",
          "name": "stdout",
          "text": [
            "None\n",
            "True\n"
          ]
        },
        {
          "output_type": "execute_result",
          "data": {
            "text/plain": [
              "False"
            ]
          },
          "metadata": {},
          "execution_count": 23
        }
      ]
    },
    {
      "cell_type": "markdown",
      "source": [
        "En definitiva:\n",
        "> No hagas operaciones con valores desconocidos o desconocerás la respuesta."
      ],
      "metadata": {
        "id": "PUt3iOvWamzz"
      }
    },
    {
      "cell_type": "markdown",
      "source": [
        "## Valores _truly_ y _falsy_"
      ],
      "metadata": {
        "id": "LcLE1IaFa1aG"
      }
    },
    {
      "cell_type": "markdown",
      "source": [
        "Los valores _truly_ y _fasly_ es otro concepto muy importante que debemos explicar (no existe en Java).\n",
        "\n",
        "Existen valores que son universalmente entendidos como ciertos:\n",
        "* Cualquier número distinto de cero.\n",
        "* Una lista **NO** vacía.\n",
        "\n",
        "Y otros que son universalmente entendidos como falsos:\n",
        "* El número cero.\n",
        "* Una lista vacía."
      ],
      "metadata": {
        "id": "L5XGdvlFa5I6"
      }
    },
    {
      "cell_type": "code",
      "source": [
        "print(not 0)\n",
        "print(not 2)"
      ],
      "metadata": {
        "colab": {
          "base_uri": "https://localhost:8080/"
        },
        "id": "vTQasHjjaB9O",
        "outputId": "89200c2e-f0e5-4f88-9599-5103b425b4bc"
      },
      "execution_count": null,
      "outputs": [
        {
          "output_type": "stream",
          "name": "stdout",
          "text": [
            "True\n",
            "False\n"
          ]
        }
      ]
    },
    {
      "cell_type": "code",
      "source": [
        "print(bool(1012301))\n",
        "bool([])"
      ],
      "metadata": {
        "colab": {
          "base_uri": "https://localhost:8080/"
        },
        "id": "2khUJjmEbIWw",
        "outputId": "ae5750f8-e291-4291-a9c4-5a84badef642"
      },
      "execution_count": null,
      "outputs": [
        {
          "output_type": "stream",
          "name": "stdout",
          "text": [
            "True\n"
          ]
        },
        {
          "output_type": "execute_result",
          "data": {
            "text/plain": [
              "False"
            ]
          },
          "metadata": {},
          "execution_count": 18
        }
      ]
    },
    {
      "cell_type": "markdown",
      "source": [
        "Fíjate en cómo hemos declarado la lista: sin librerías, sin palabrería, simplemente corchetes.\n",
        "\n",
        "Python tiene algunos tipos básicos que Java no tiene, como las listas ([]), los conjuntos ({}) y los diccionarios ({a: b}, quizá los conoces como HashTables). Puedes declararlos en cualquier momento con esa notación.\n",
        "\n",
        "Dentro de estos tipos puedes guardar **lo que quieras**, donde, de nuevo, **lo que quieras** puede ser **lo que quieras**, incluso una función, una clase o un módulo entero."
      ],
      "metadata": {
        "id": "jkj_r4ujbSMT"
      }
    },
    {
      "cell_type": "markdown",
      "source": [
        "## Bloques condicionales"
      ],
      "metadata": {
        "id": "1BH1rs_sboPP"
      }
    },
    {
      "cell_type": "markdown",
      "source": [
        "Habiendo explicado todo lo anterior, podemos adentrarnos en los bloques condicionales.\n",
        "\n",
        "Lo primero y más importante es conocer que la sintaxis utilizada es ```if```, después se añade la condición y se finaliza la cabecera del bloque usando ```:```.\n",
        "\n",
        "Las siguientes líneas de código (que como ya sabes irán hacia abajo con saltos de línea) que necesiten ejecutarse solo si se cumple el ```if```, deberán estar indentadas un nivel, así:"
      ],
      "metadata": {
        "id": "RBXYT00Xbs_r"
      }
    },
    {
      "cell_type": "code",
      "source": [
        "if 5 < 7:\n",
        "  print(\"5 es menor que 7\")"
      ],
      "metadata": {
        "colab": {
          "base_uri": "https://localhost:8080/"
        },
        "id": "aN7XJHE1bNlE",
        "outputId": "f2b3a4d8-93e4-4a06-c821-eab652d9b4ab"
      },
      "execution_count": null,
      "outputs": [
        {
          "output_type": "stream",
          "name": "stdout",
          "text": [
            "5 es menor que 7\n"
          ]
        }
      ]
    },
    {
      "cell_type": "markdown",
      "source": [
        "Fíjate en la limpieza: sin paréntesis, sin corchetes..."
      ],
      "metadata": {
        "id": "_RuXaEfKcGgl"
      }
    },
    {
      "cell_type": "code",
      "source": [
        "if 5 > 7:\n",
        "  print(\"Nunca me voy a ejecutar\")"
      ],
      "metadata": {
        "id": "Qpx8oBIucFCd"
      },
      "execution_count": null,
      "outputs": []
    },
    {
      "cell_type": "markdown",
      "source": [
        "Puedes crear una lista y ver si está vacía:"
      ],
      "metadata": {
        "id": "qIKVK9LncOVp"
      }
    },
    {
      "cell_type": "code",
      "source": [
        "l = []\n",
        "\n",
        "if l:\n",
        "  print(\"La lista NO está vacía\")\n",
        "else:\n",
        "  print(\"La lista está vacía\")"
      ],
      "metadata": {
        "colab": {
          "base_uri": "https://localhost:8080/"
        },
        "id": "6N228R5ecMd9",
        "outputId": "29bf3676-d159-4a34-9b2a-82ab91b2eb0c"
      },
      "execution_count": null,
      "outputs": [
        {
          "output_type": "stream",
          "name": "stdout",
          "text": [
            "La lista está vacía\n"
          ]
        }
      ]
    },
    {
      "cell_type": "markdown",
      "source": [
        "Hemos usado ya el bloque hermano de ```if```, llamado ```else``` (como en Java, vaya). También podríamos haber usado un operador ternario."
      ],
      "metadata": {
        "id": "kHxpKDIlcX6Z"
      }
    },
    {
      "cell_type": "code",
      "source": [
        "print(\"La lista NO está vacía\") if [1] else print(\"La lista está vacía\")"
      ],
      "metadata": {
        "colab": {
          "base_uri": "https://localhost:8080/"
        },
        "id": "NWqzn1AucW4K",
        "outputId": "9e4a01d6-ae07-48b2-fbf6-1a0e6b2d4100"
      },
      "execution_count": null,
      "outputs": [
        {
          "output_type": "stream",
          "name": "stdout",
          "text": [
            "La lista NO está vacía\n"
          ]
        }
      ]
    },
    {
      "cell_type": "markdown",
      "source": [
        "¿Mucha información hasta ahora? No te preocupes, el operador ternario es útil pero no indispensable.\n",
        "\n",
        "```py\n",
        "take_a_break()\n",
        "```"
      ],
      "metadata": {
        "id": "VClrdlGgcyrK"
      }
    },
    {
      "cell_type": "markdown",
      "source": [
        "Antes de pasar a otro tema, debemos hacer mención al hermano bastardo de las operaciones lógicas, inexistente en Java, que es el operador ```elif```, este operador nos permite anidar de forma cómoda varias condiciones dentro de un mismo ```if```."
      ],
      "metadata": {
        "id": "f2UYQEInc_Vy"
      }
    },
    {
      "cell_type": "code",
      "source": [
        "if 0 > 5:\n",
        "  print(\"Nop\")\n",
        "elif 0 < -5:\n",
        "  print(\"Tampoco\")\n",
        "else:\n",
        "  print(\"Me he cansado\")"
      ],
      "metadata": {
        "colab": {
          "base_uri": "https://localhost:8080/"
        },
        "id": "Q0yqj0oTcnUZ",
        "outputId": "79fff1e7-08a3-4111-f878-1a091ecfcc20"
      },
      "execution_count": null,
      "outputs": [
        {
          "output_type": "stream",
          "name": "stdout",
          "text": [
            "Me he cansado\n"
          ]
        }
      ]
    },
    {
      "cell_type": "markdown",
      "source": [
        "Así podremos incluir cientos de líneas ```if - else``` sin indentar en exceso."
      ],
      "metadata": {
        "id": "OXNh13gddVpz"
      }
    },
    {
      "cell_type": "markdown",
      "source": [
        "# Estructuras de control: while"
      ],
      "metadata": {
        "id": "pVsdfh_pdeiv"
      }
    },
    {
      "cell_type": "markdown",
      "source": [
        "Si bien es cierto que **casi nunca se usa esta estructura de control**, debemos explicarla para seguir adelante.\n",
        "\n",
        "El ya conocido bloque ```while``` también existe en Python y se usa igual que en Java."
      ],
      "metadata": {
        "id": "uQRCwmAGeDiy"
      }
    },
    {
      "cell_type": "code",
      "source": [
        "index = 0\n",
        "while index < 6:\n",
        "  print(index)\n",
        "  index += 1"
      ],
      "metadata": {
        "colab": {
          "base_uri": "https://localhost:8080/"
        },
        "id": "brJF2eqOdTGo",
        "outputId": "be3d6d14-22c3-4cb5-f4f7-493ffd729c47"
      },
      "execution_count": null,
      "outputs": [
        {
          "output_type": "stream",
          "name": "stdout",
          "text": [
            "0\n",
            "1\n",
            "2\n",
            "3\n",
            "4\n",
            "5\n"
          ]
        }
      ]
    },
    {
      "cell_type": "markdown",
      "source": [
        "# Estructuras de control: for"
      ],
      "metadata": {
        "id": "3d3xPtA6fDpY"
      }
    },
    {
      "cell_type": "markdown",
      "source": [
        "No existe, olvídate de esa nomenclatura tan horrible y hazte un favor a ti mismo."
      ],
      "metadata": {
        "id": "Xj9e7nnTfIHw"
      }
    },
    {
      "cell_type": "markdown",
      "source": [
        "# Estructuras de control: For Each"
      ],
      "metadata": {
        "id": "wMdybvRzfMgU"
      }
    },
    {
      "cell_type": "markdown",
      "source": [
        "Lo que sí existe es el ```for each``` (que se escribirá for), que recorre todos los elementos de un iterable y realiza una acción para cada uno de ellos. Por ejemplo, para los elementos de una lista, podríamos mostrar sus cuadrados por pantalla."
      ],
      "metadata": {
        "id": "B0hiFwTGfO6y"
      }
    },
    {
      "cell_type": "code",
      "source": [
        "for element in [0, 1, 2, 3, 4, 5]:\n",
        "  print(element ** 2)"
      ],
      "metadata": {
        "colab": {
          "base_uri": "https://localhost:8080/"
        },
        "id": "hNFOjJh1eRZ3",
        "outputId": "9eaa9e43-2b17-4701-d807-24c02a2d334c"
      },
      "execution_count": null,
      "outputs": [
        {
          "output_type": "stream",
          "name": "stdout",
          "text": [
            "0\n",
            "1\n",
            "4\n",
            "9\n",
            "16\n",
            "25\n"
          ]
        }
      ]
    },
    {
      "cell_type": "markdown",
      "source": [
        "Como ves, el operador ** es el operador potencia (sí, otra cosita nueva).\n",
        "\n",
        "Hemos mostrado todos los cuadrados... pero definir así una lista puede ser horriblemente tedioso. Para ello, tenemos los rangos (que también son iterables). Por ejemplo:"
      ],
      "metadata": {
        "id": "JxpZ5DbsfdH2"
      }
    },
    {
      "cell_type": "code",
      "source": [
        "for element in range(10):\n",
        "  print(element ** 2)"
      ],
      "metadata": {
        "colab": {
          "base_uri": "https://localhost:8080/"
        },
        "id": "ILoRGcuvfcIY",
        "outputId": "0638fa4e-bed5-46cf-b098-eb3c440bb2f4"
      },
      "execution_count": null,
      "outputs": [
        {
          "output_type": "stream",
          "name": "stdout",
          "text": [
            "0\n",
            "1\n",
            "4\n",
            "9\n",
            "16\n",
            "25\n",
            "36\n",
            "49\n",
            "64\n",
            "81\n"
          ]
        }
      ]
    },
    {
      "cell_type": "markdown",
      "source": [
        "Tienes que tener cuidado porque los rangos declaran rangos (#Redundancia) no cerrados en el extremo derecho, es decir, no se incluye el último valor (en la lista anterior no hemos hecho 10 ** 2).\n",
        "\n",
        "Dentro de los ```for each``` tenemos una gama muy amplia de objetos que pueden modificar su comportamiento. Por ejemplo, podemos iterar sobre dos objetos a la vez:"
      ],
      "metadata": {
        "id": "4mecVGj2fuaM"
      }
    },
    {
      "cell_type": "code",
      "source": [
        "for index, element in enumerate(range(10)):\n",
        "  print(index, element ** 2)"
      ],
      "metadata": {
        "colab": {
          "base_uri": "https://localhost:8080/"
        },
        "id": "ystI3fYffrv6",
        "outputId": "9ba6745a-c4e3-497a-8408-f6209af03dea"
      },
      "execution_count": null,
      "outputs": [
        {
          "output_type": "stream",
          "name": "stdout",
          "text": [
            "0 0\n",
            "1 1\n",
            "2 4\n",
            "3 9\n",
            "4 16\n",
            "5 25\n",
            "6 36\n",
            "7 49\n",
            "8 64\n",
            "9 81\n"
          ]
        }
      ]
    },
    {
      "cell_type": "markdown",
      "source": [
        "```range(10)``` genera un iterable con los valores del 0 al 9 (incluidos), y ```enumerate``` genera un mapa de los enteros (0, 1, ...) a cada elemento del iterable que se le pasa como parámetro. Es una forma elegante de utilizar un índice para un problema resoluble con ```for each```.\n",
        "\n",
        "Ten especial cuidado porque lo que hemos visto antes no son dos ```anidados```, sino un ```for``` con dos iteradores, mira la diferencia abajo.\n",
        "\n",
        "Además, haremos uso de la función ```zip```, que permite agrupar los elementos del mismo índice de distintos iterables en uno solo."
      ],
      "metadata": {
        "id": "SMiu6R9dgKsi"
      }
    },
    {
      "cell_type": "code",
      "source": [
        "r1 = range(0, 5)\n",
        "r2 = range(5, 10)\n",
        "\n",
        "for e1, e2 in zip(r1, r2):\n",
        "  print(e1, e2)"
      ],
      "metadata": {
        "colab": {
          "base_uri": "https://localhost:8080/"
        },
        "id": "53XfEd7agHz8",
        "outputId": "d7cf44c1-56f5-448f-f7fd-9e6881ac3285"
      },
      "execution_count": null,
      "outputs": [
        {
          "output_type": "stream",
          "name": "stdout",
          "text": [
            "0 5\n",
            "1 6\n",
            "2 7\n",
            "3 8\n",
            "4 9\n"
          ]
        }
      ]
    },
    {
      "cell_type": "code",
      "source": [
        "for e1 in r1:\n",
        "  for e2 in r2:\n",
        "    print(e1, e2)"
      ],
      "metadata": {
        "colab": {
          "base_uri": "https://localhost:8080/"
        },
        "id": "5o72uTjKhPYT",
        "outputId": "bba959b4-ac0e-432f-9696-e2cb50770c85"
      },
      "execution_count": null,
      "outputs": [
        {
          "output_type": "stream",
          "name": "stdout",
          "text": [
            "0 5\n",
            "0 6\n",
            "0 7\n",
            "0 8\n",
            "0 9\n",
            "1 5\n",
            "1 6\n",
            "1 7\n",
            "1 8\n",
            "1 9\n",
            "2 5\n",
            "2 6\n",
            "2 7\n",
            "2 8\n",
            "2 9\n",
            "3 5\n",
            "3 6\n",
            "3 7\n",
            "3 8\n",
            "3 9\n",
            "4 5\n",
            "4 6\n",
            "4 7\n",
            "4 8\n",
            "4 9\n"
          ]
        }
      ]
    },
    {
      "cell_type": "markdown",
      "source": [
        "# Elementos quizá no tan primitivos"
      ],
      "metadata": {
        "id": "wCOzsvC3IPu4"
      }
    },
    {
      "cell_type": "markdown",
      "source": [
        "## Listas por compresión"
      ],
      "metadata": {
        "id": "hchXzm0_hq2x"
      }
    },
    {
      "cell_type": "markdown",
      "source": [
        "Habiendo visto las listas y los ```for``` (ya sé que son ```for each```, pero a partir de ahora los llamaremos así por simplificar), debemos explicar el funcionamiento de las listas por compresión.\n",
        "\n",
        "Hemos visto ya una forma de definir una lista (con los corchetes). Otra forma sería con el contructor ```list```, que recibe un iterable como parámetro de entrada."
      ],
      "metadata": {
        "id": "vLuPsfo2hvyJ"
      }
    },
    {
      "cell_type": "code",
      "source": [
        "list(range(10))"
      ],
      "metadata": {
        "colab": {
          "base_uri": "https://localhost:8080/"
        },
        "id": "ZWElUma1hXBl",
        "outputId": "4925bc12-dff8-4024-8534-9c84c608b215"
      },
      "execution_count": null,
      "outputs": [
        {
          "output_type": "execute_result",
          "data": {
            "text/plain": [
              "[0, 1, 2, 3, 4, 5, 6, 7, 8, 9]"
            ]
          },
          "metadata": {},
          "execution_count": 30
        }
      ]
    },
    {
      "cell_type": "markdown",
      "source": [
        "Fíjate que incluso Python nos lo muestra con la notación de los corchetes.\n",
        "\n",
        "Finalmente, podemos crear listas por compresión, como si fuesen conjuntos matemáticos."
      ],
      "metadata": {
        "id": "Cj-zJFkIiAy-"
      }
    },
    {
      "cell_type": "code",
      "source": [
        "l = [element for element in range(10)] ; l"
      ],
      "metadata": {
        "colab": {
          "base_uri": "https://localhost:8080/"
        },
        "id": "uHpBG_jEiAAI",
        "outputId": "854f4d87-0840-4d6d-f721-f4541ba1ee51"
      },
      "execution_count": null,
      "outputs": [
        {
          "output_type": "execute_result",
          "data": {
            "text/plain": [
              "[0, 1, 2, 3, 4, 5, 6, 7, 8, 9]"
            ]
          },
          "metadata": {},
          "execution_count": 31
        }
      ]
    },
    {
      "cell_type": "markdown",
      "source": [
        "Por ejemplo, las sentencias anteriores son equivalentes (además, vemos que podemos poner dos sentencias en la misma fila si las separamos por ```;```).\n",
        "\n",
        "Las listas por compresión nos permiten, además, añadir condiciones a la generación. Por ejemplo, para los números pares:"
      ],
      "metadata": {
        "id": "akUwO5EliL1f"
      }
    },
    {
      "cell_type": "code",
      "source": [
        "l = [element for element in range(10) if element % 2 == 0] ; l"
      ],
      "metadata": {
        "colab": {
          "base_uri": "https://localhost:8080/"
        },
        "id": "4gYSYQiliJ0k",
        "outputId": "312be10b-709a-4e9d-f2c9-73ff91a5f513"
      },
      "execution_count": null,
      "outputs": [
        {
          "output_type": "execute_result",
          "data": {
            "text/plain": [
              "[0, 2, 4, 6, 8]"
            ]
          },
          "metadata": {},
          "execution_count": 32
        }
      ]
    },
    {
      "cell_type": "markdown",
      "source": [
        "Fíjate en la notación para el módulo (solo un porcentaje) y para la condición: se añade un ```if``` después del ```for```.\n",
        "\n",
        "Como hemos rodeado todo con paréntesis, hemos creado una lista. Si lo rodeamos todo con llaves, crearemos un conjunto (que se definía así)."
      ],
      "metadata": {
        "id": "PAhkcqM8icy6"
      }
    },
    {
      "cell_type": "code",
      "source": [
        "c = {element for element in range(10) if element % 2 == 0} ; c"
      ],
      "metadata": {
        "colab": {
          "base_uri": "https://localhost:8080/"
        },
        "id": "smBiKGhQibry",
        "outputId": "d719d79a-3756-41c9-94c7-fecfff5ef22a"
      },
      "execution_count": null,
      "outputs": [
        {
          "output_type": "execute_result",
          "data": {
            "text/plain": [
              "{0, 2, 4, 6, 8}"
            ]
          },
          "metadata": {},
          "execution_count": 33
        }
      ]
    },
    {
      "cell_type": "markdown",
      "source": [
        "De nuevo, Python comprende que es un conjunto. De hecho, podríamos realizar ahora operaciones sobre los conjuntos."
      ],
      "metadata": {
        "id": "skCss-B_iwr2"
      }
    },
    {
      "cell_type": "markdown",
      "source": [
        "## Conjuntos y sus operaciones"
      ],
      "metadata": {
        "id": "_pcNA1jIi1YZ"
      }
    },
    {
      "cell_type": "markdown",
      "source": [
        "Las operaciones sobre conjuntos son las que ya conoces."
      ],
      "metadata": {
        "id": "812kMnrQi4Xo"
      }
    },
    {
      "cell_type": "code",
      "source": [
        "c1 = set(range(5))\n",
        "c2 = set(range(5, 10))\n",
        "c1, c2"
      ],
      "metadata": {
        "colab": {
          "base_uri": "https://localhost:8080/"
        },
        "id": "hkpRuBp1isUX",
        "outputId": "0fd22c23-e392-4267-83d6-c6c5db197bd3"
      },
      "execution_count": null,
      "outputs": [
        {
          "output_type": "execute_result",
          "data": {
            "text/plain": [
              "({0, 1, 2, 3, 4}, {5, 6, 7, 8, 9})"
            ]
          },
          "metadata": {},
          "execution_count": 34
        }
      ]
    },
    {
      "cell_type": "code",
      "source": [
        "print(c1.union(c2))\n",
        "print(c1.intersection(c2))\n",
        "c1.difference(c2)"
      ],
      "metadata": {
        "colab": {
          "base_uri": "https://localhost:8080/"
        },
        "id": "YiQ8vZvTjIRs",
        "outputId": "5e0f4e7c-58c5-4050-a5ee-11d1dae6e92e"
      },
      "execution_count": null,
      "outputs": [
        {
          "output_type": "stream",
          "name": "stdout",
          "text": [
            "{0, 1, 2, 3, 4, 5, 6, 7, 8, 9}\n",
            "set()\n"
          ]
        },
        {
          "output_type": "execute_result",
          "data": {
            "text/plain": [
              "{0, 1, 2, 3, 4}"
            ]
          },
          "metadata": {},
          "execution_count": 35
        }
      ]
    },
    {
      "cell_type": "markdown",
      "source": [
        "Para autocompletar una celda, puedes pulsar sobre ```CONTROL``` + ```ESPACIO```."
      ],
      "metadata": {
        "id": "7-vt8VNJjn29"
      }
    },
    {
      "cell_type": "markdown",
      "source": [
        "## Listas de listas"
      ],
      "metadata": {
        "id": "Wy9BnETkINqw"
      }
    },
    {
      "cell_type": "markdown",
      "source": [
        "Como hemos comentado anteriormente, dentro de una lista podemos incluir cualquier cosa. Esto lo podemos hacer desde su construcción (con los paréntesis) o en tiempo de ejecución con los métodos que tienen predefinidos las listas. En particular, vamos a ver la diferencia entre los métodos ```append``` y ```extend```, que son muy importantes.\n",
        "\n",
        "El primero de ellos nos permite añadir un elemento a una lista, este elemento se incluirá al final de la lista."
      ],
      "metadata": {
        "id": "b4oLPsgUIV7w"
      }
    },
    {
      "cell_type": "code",
      "source": [
        "l = list(range(10))\n",
        "l.append(10)"
      ],
      "metadata": {
        "id": "IKmEUdLBjJ2z"
      },
      "execution_count": null,
      "outputs": []
    },
    {
      "cell_type": "markdown",
      "source": [
        "Como ves, el método ```append``` (o mejor dicho, como **NO** puedes ver) no devuelve nada (devuelve **None**). Cuidado al utilizarlo."
      ],
      "metadata": {
        "id": "rkDJFS4xIrDW"
      }
    },
    {
      "cell_type": "code",
      "source": [
        "l"
      ],
      "metadata": {
        "colab": {
          "base_uri": "https://localhost:8080/"
        },
        "id": "1ALt7bLHIpV7",
        "outputId": "1c30e4c8-a460-4140-ced8-5e521901ee66"
      },
      "execution_count": null,
      "outputs": [
        {
          "output_type": "execute_result",
          "data": {
            "text/plain": [
              "[0, 1, 2, 3, 4, 5, 6, 7, 8, 9, 10]"
            ]
          },
          "metadata": {},
          "execution_count": 37
        }
      ]
    },
    {
      "cell_type": "markdown",
      "source": [
        "Por otra parte, el método ```extend``` permite incluir **TODOS** los valores de un iterable a una lista, uno por uno. Es decir: no añade el iterable al final, sino todos los elementos. Aclaremos esto:"
      ],
      "metadata": {
        "id": "nXUBcM1kI4YU"
      }
    },
    {
      "cell_type": "code",
      "source": [
        "l1 = list(range(10))\n",
        "l2 = list(range(10, 20))\n",
        "l1.append(l2) # añade l2 como el último elemento de l1\n",
        "l1"
      ],
      "metadata": {
        "colab": {
          "base_uri": "https://localhost:8080/"
        },
        "id": "l1Iq2s62I14H",
        "outputId": "996ed31c-8d13-4b56-dfde-ad144283c68b"
      },
      "execution_count": null,
      "outputs": [
        {
          "output_type": "execute_result",
          "data": {
            "text/plain": [
              "[0, 1, 2, 3, 4, 5, 6, 7, 8, 9, [10, 11, 12, 13, 14, 15, 16, 17, 18, 19]]"
            ]
          },
          "metadata": {},
          "execution_count": 38
        }
      ]
    },
    {
      "cell_type": "markdown",
      "source": [
        "Los elementos dentro de una lista no tienen por qué ser del mismo tipo (recuerda: **tipado dinámico**)."
      ],
      "metadata": {
        "id": "_ABC0VrIJKM7"
      }
    },
    {
      "cell_type": "code",
      "source": [
        "l1.extend(l2) # esto añade cada elemento de l2 a l1\n",
        "l1"
      ],
      "metadata": {
        "colab": {
          "base_uri": "https://localhost:8080/"
        },
        "id": "EnNsgZ9mJIW4",
        "outputId": "643ea735-f00a-46ab-ccdc-e0aa01491662"
      },
      "execution_count": null,
      "outputs": [
        {
          "output_type": "execute_result",
          "data": {
            "text/plain": [
              "[0,\n",
              " 1,\n",
              " 2,\n",
              " 3,\n",
              " 4,\n",
              " 5,\n",
              " 6,\n",
              " 7,\n",
              " 8,\n",
              " 9,\n",
              " [10, 11, 12, 13, 14, 15, 16, 17, 18, 19],\n",
              " 10,\n",
              " 11,\n",
              " 12,\n",
              " 13,\n",
              " 14,\n",
              " 15,\n",
              " 16,\n",
              " 17,\n",
              " 18,\n",
              " 19]"
            ]
          },
          "metadata": {},
          "execution_count": 39
        }
      ]
    },
    {
      "cell_type": "markdown",
      "source": [
        "Esta diferencia puede ser vital y la diferencia es muy importante, intenta no olvidarlo."
      ],
      "metadata": {
        "id": "qiMV9tWmJTO_"
      }
    },
    {
      "cell_type": "markdown",
      "source": [
        "## Metodos de los iterables"
      ],
      "metadata": {
        "id": "1zkznjSsJa7_"
      }
    },
    {
      "cell_type": "markdown",
      "source": [
        "Hemos ido viéndo que las listas (en general los iterables) van a ser una parte fundamental de nuestros programas, veamos las operaciones que podemos hacer sobre una lista.\n",
        "\n",
        "Empezaremos con determinar si un elemento está dentro de un iterable o no. Usaremos la palabra clave ```in``` para ver si algo está dentro de otro objeto."
      ],
      "metadata": {
        "id": "U-Uu_Cj8JcqN"
      }
    },
    {
      "cell_type": "code",
      "source": [
        "2 in range(5)"
      ],
      "metadata": {
        "colab": {
          "base_uri": "https://localhost:8080/"
        },
        "id": "129m2n6tJSFl",
        "outputId": "8411caa6-98f7-4518-c904-5c0d903742b0"
      },
      "execution_count": null,
      "outputs": [
        {
          "output_type": "execute_result",
          "data": {
            "text/plain": [
              "True"
            ]
          },
          "metadata": {},
          "execution_count": 40
        }
      ]
    },
    {
      "cell_type": "code",
      "source": [
        "10 in []"
      ],
      "metadata": {
        "colab": {
          "base_uri": "https://localhost:8080/"
        },
        "id": "_kj_PYs0JvD2",
        "outputId": "6caf732d-ef07-4f69-ba69-c1a8a70230c8"
      },
      "execution_count": null,
      "outputs": [
        {
          "output_type": "execute_result",
          "data": {
            "text/plain": [
              "False"
            ]
          },
          "metadata": {},
          "execution_count": 41
        }
      ]
    },
    {
      "cell_type": "markdown",
      "source": [
        "También hemos visto los métodos ```append``` y ```extend``` (solo para listas).\n",
        "\n",
        "También podemos concatenar listas con el símbolo ```+```."
      ],
      "metadata": {
        "id": "6d8tX-vqJ0Ke"
      }
    },
    {
      "cell_type": "code",
      "source": [
        "l1 = [1, 2] ; print(l1)\n",
        "l2 = [3, 4] ; print(l2)\n",
        "l1 + l2"
      ],
      "metadata": {
        "colab": {
          "base_uri": "https://localhost:8080/"
        },
        "id": "7jNd2816JxAw",
        "outputId": "c6ea96cd-95de-4f8a-e147-b2084fe61a9d"
      },
      "execution_count": null,
      "outputs": [
        {
          "output_type": "stream",
          "name": "stdout",
          "text": [
            "[1, 2]\n",
            "[3, 4]\n"
          ]
        },
        {
          "output_type": "execute_result",
          "data": {
            "text/plain": [
              "[1, 2, 3, 4]"
            ]
          },
          "metadata": {},
          "execution_count": 42
        }
      ]
    },
    {
      "cell_type": "markdown",
      "source": [
        "Finalmente, nos falta ver la forma de acceder de forma aleatoria a los elementos de un iterable.\n",
        "\n",
        "Cuando decimos **aleatoria** nos referimos a que es arbitraria (elegida por el usuario) y no secuencial como en el ```for```.\n",
        "\n",
        "En particular, usaremos los objetos ```slice``` (rebanadas), que nos permitirán definir exáctamente qué necesitamos. Veamos los ```slice``` unidimensionales."
      ],
      "metadata": {
        "id": "Vn3bCvk3KNzi"
      }
    },
    {
      "cell_type": "markdown",
      "source": [
        "## ```Slices``` unidimensionales"
      ],
      "metadata": {
        "id": "vo2KkfgzKhtY"
      }
    },
    {
      "cell_type": "markdown",
      "source": [
        "Si el iterable tiene solo una dimensión, podemos acceder a los elementos de éste con su posición exacta."
      ],
      "metadata": {
        "id": "lErVrgjhKmKQ"
      }
    },
    {
      "cell_type": "code",
      "source": [
        "l = list(range(10))\n",
        "l"
      ],
      "metadata": {
        "colab": {
          "base_uri": "https://localhost:8080/"
        },
        "id": "GTBJCmhBJyYU",
        "outputId": "4bcde716-98e8-4bac-f398-9990b1d376f7"
      },
      "execution_count": null,
      "outputs": [
        {
          "output_type": "execute_result",
          "data": {
            "text/plain": [
              "[0, 1, 2, 3, 4, 5, 6, 7, 8, 9]"
            ]
          },
          "metadata": {},
          "execution_count": 34
        }
      ]
    },
    {
      "cell_type": "code",
      "source": [
        "l[0] # como en Java"
      ],
      "metadata": {
        "colab": {
          "base_uri": "https://localhost:8080/"
        },
        "id": "ZgQnlEQYKvTv",
        "outputId": "ec0a1246-22d2-4ca5-8f15-4a860ab191e1"
      },
      "execution_count": null,
      "outputs": [
        {
          "output_type": "execute_result",
          "data": {
            "text/plain": [
              "0"
            ]
          },
          "metadata": {},
          "execution_count": 44
        }
      ]
    },
    {
      "cell_type": "markdown",
      "source": [
        "Pero también podemos acceder a varios elementos a la vez con los símbolos clave ```:```. Este símbolo significará _desde hasta_. Por ejemplo, para ver los elementos _desde_ 2 _hasta_ 4 haremos:"
      ],
      "metadata": {
        "id": "BOhz-BoiKx9d"
      }
    },
    {
      "cell_type": "code",
      "source": [
        "l[2:4]"
      ],
      "metadata": {
        "colab": {
          "base_uri": "https://localhost:8080/"
        },
        "id": "WPvHBoBHKv0I",
        "outputId": "9fe0b074-b3a0-4834-a4f2-5a1dda350c53"
      },
      "execution_count": null,
      "outputs": [
        {
          "output_type": "execute_result",
          "data": {
            "text/plain": [
              "[2, 3]"
            ]
          },
          "metadata": {},
          "execution_count": 45
        }
      ]
    },
    {
      "cell_type": "markdown",
      "source": [
        "Fíjate que el segundo es abierto (no llegamos hasta el 4, sino hasta el anterior).\n",
        "\n",
        "Si no indicamos nada en el _desde_ o en el _hasta_, se recogerán todos los elementos _desde_ el principio o _hasta_ el final, respectivamente."
      ],
      "metadata": {
        "id": "u5DbPZxHLEr9"
      }
    },
    {
      "cell_type": "code",
      "source": [
        "l[:5]"
      ],
      "metadata": {
        "colab": {
          "base_uri": "https://localhost:8080/"
        },
        "id": "6VgOYD6-LA14",
        "outputId": "1a9a2afb-a98b-4345-83cb-3b5a8405f654"
      },
      "execution_count": null,
      "outputs": [
        {
          "output_type": "execute_result",
          "data": {
            "text/plain": [
              "[0, 1, 2, 3, 4]"
            ]
          },
          "metadata": {},
          "execution_count": 46
        }
      ]
    },
    {
      "cell_type": "code",
      "source": [
        "l[5:]"
      ],
      "metadata": {
        "colab": {
          "base_uri": "https://localhost:8080/"
        },
        "id": "0hbO0rMqLP7y",
        "outputId": "c4493a1b-9a88-4a7f-f36b-d5984f7aeb96"
      },
      "execution_count": null,
      "outputs": [
        {
          "output_type": "execute_result",
          "data": {
            "text/plain": [
              "[5, 6, 7, 8, 9]"
            ]
          },
          "metadata": {},
          "execution_count": 47
        }
      ]
    },
    {
      "cell_type": "markdown",
      "source": [
        "Por lo tanto, si no se indica nada excepto ```:```, se recogerá el iterable entero."
      ],
      "metadata": {
        "id": "Mg3OIC_nLRrX"
      }
    },
    {
      "cell_type": "code",
      "source": [
        "l[:]"
      ],
      "metadata": {
        "colab": {
          "base_uri": "https://localhost:8080/"
        },
        "id": "-jMme-RdLQzk",
        "outputId": "d3124e60-b926-4121-caa3-91dcb06df965"
      },
      "execution_count": null,
      "outputs": [
        {
          "output_type": "execute_result",
          "data": {
            "text/plain": [
              "[0, 1, 2, 3, 4, 5, 6, 7, 8, 9]"
            ]
          },
          "metadata": {},
          "execution_count": 48
        }
      ]
    },
    {
      "cell_type": "markdown",
      "source": [
        "De hecho, la celda anterior crea una copia del iterable (por tanto, ya conoces una forma de duplicar listas).\n",
        "\n",
        "Esta notación puede ser especialmente importante en listas de más de una dimensión.\n",
        "\n",
        "Finalmente, podemos usar ```slices``` negativos para referirnos a posición que empiecen desde el final. Por ejemplo:"
      ],
      "metadata": {
        "id": "CWa0KEEKLYgn"
      }
    },
    {
      "cell_type": "code",
      "source": [
        "l[-1] # devuelve el último elemento"
      ],
      "metadata": {
        "colab": {
          "base_uri": "https://localhost:8080/"
        },
        "id": "BAABthlIQYj3",
        "outputId": "5d280622-8907-4dfb-db2c-ab78f4232b0f"
      },
      "execution_count": null,
      "outputs": [
        {
          "output_type": "execute_result",
          "data": {
            "text/plain": [
              "9"
            ]
          },
          "metadata": {},
          "execution_count": 37
        }
      ]
    },
    {
      "cell_type": "markdown",
      "source": [
        "Además, podemos separar el ```slice``` en un tercer apartado que nos permita definir la longitud de los saltos que damos."
      ],
      "metadata": {
        "id": "BDZJslF3Qa7L"
      }
    },
    {
      "cell_type": "code",
      "source": [
        "l[::2] # recorre toda la lista dando saltos de 2 en 2"
      ],
      "metadata": {
        "colab": {
          "base_uri": "https://localhost:8080/"
        },
        "id": "7TTc3wRIQiEO",
        "outputId": "e982d5b8-2561-493e-8ba4-bfba50198724"
      },
      "execution_count": null,
      "outputs": [
        {
          "output_type": "execute_result",
          "data": {
            "text/plain": [
              "[0, 2, 4, 6, 8]"
            ]
          },
          "metadata": {},
          "execution_count": 50
        }
      ]
    },
    {
      "cell_type": "code",
      "source": [
        "l[::-1] # recorre toda la lista dando saltos de 1 en 1, pero hacia atrás (negativo)"
      ],
      "metadata": {
        "colab": {
          "base_uri": "https://localhost:8080/"
        },
        "id": "m59cdSREQm_P",
        "outputId": "56071b4d-a698-4f77-b70c-56dc9ba8fe76"
      },
      "execution_count": null,
      "outputs": [
        {
          "output_type": "execute_result",
          "data": {
            "text/plain": [
              "[9, 8, 7, 6, 5, 4, 3, 2, 1, 0]"
            ]
          },
          "metadata": {},
          "execution_count": 51
        }
      ]
    },
    {
      "cell_type": "markdown",
      "source": [
        "## ```Slices``` multidimensionales"
      ],
      "metadata": {
        "id": "197yv2h6L3oI"
      }
    },
    {
      "cell_type": "markdown",
      "source": [
        "Como dentro de una lista podemos guardar otra lista, podemos crear listas de listas (ya vistas antes).\n",
        "\n",
        "Si logramos que se mantenga una estructura común genérica, podemos crear matrices (veremos que hay formas muchísimo más eficientes de hacer esto con algunas librerías)."
      ],
      "metadata": {
        "id": "OER4aqd8MA1D"
      }
    },
    {
      "cell_type": "code",
      "source": [
        "l1 = [1, 2, 3]\n",
        "l2 = [3, 4, 5]\n",
        "l3 = [5, 6, 7]\n",
        "matrix = [l1, l2, l3]\n",
        "matrix"
      ],
      "metadata": {
        "colab": {
          "base_uri": "https://localhost:8080/"
        },
        "id": "bDJe5KlhLXtW",
        "outputId": "a642dfc8-5f9a-4c15-84e8-3dc960074f05"
      },
      "execution_count": null,
      "outputs": [
        {
          "output_type": "execute_result",
          "data": {
            "text/plain": [
              "[[1, 2, 3], [3, 4, 5], [5, 6, 7]]"
            ]
          },
          "metadata": {},
          "execution_count": 52
        }
      ]
    },
    {
      "cell_type": "markdown",
      "source": [
        "Ahora, podemos navegar por los elementos de la matriz."
      ],
      "metadata": {
        "id": "aMM1tYAoMMPv"
      }
    },
    {
      "cell_type": "code",
      "source": [
        "matrix[0][0] # coge la primera lista y, de esta, el primer elemento"
      ],
      "metadata": {
        "colab": {
          "base_uri": "https://localhost:8080/"
        },
        "id": "17GfquHnLs5g",
        "outputId": "d9ea9944-682d-4a00-dd50-d3e024d1c08e"
      },
      "execution_count": null,
      "outputs": [
        {
          "output_type": "execute_result",
          "data": {
            "text/plain": [
              "1"
            ]
          },
          "metadata": {},
          "execution_count": 53
        }
      ]
    },
    {
      "cell_type": "markdown",
      "source": [
        "Esta navegación está bastante limitada al tener que separar los corchetes. Por ejemplo, no tenemos una forma sencilla de obtener una submatriz con ciertos elementos.\n",
        "\n",
        "Por cierto, es importante notar que al usar la notación ```:``` se devuelve otro iterable."
      ],
      "metadata": {
        "id": "-CvK8MCJMTbR"
      }
    },
    {
      "cell_type": "code",
      "source": [
        "matrix[:2] # cojo las dos primeras filas"
      ],
      "metadata": {
        "colab": {
          "base_uri": "https://localhost:8080/"
        },
        "id": "9DMmzMiRMP-p",
        "outputId": "629c4784-eadd-49e4-9b73-5ce57a06feed"
      },
      "execution_count": null,
      "outputs": [
        {
          "output_type": "execute_result",
          "data": {
            "text/plain": [
              "[[1, 2, 3], [3, 4, 5]]"
            ]
          },
          "metadata": {},
          "execution_count": 54
        }
      ]
    },
    {
      "cell_type": "markdown",
      "source": [
        "Volveremos en un momento a hablar de esto."
      ],
      "metadata": {
        "id": "qTXIiQmHNVN4"
      }
    },
    {
      "cell_type": "markdown",
      "source": [
        "# Las funciones"
      ],
      "metadata": {
        "id": "VReJZSLZNX7n"
      }
    },
    {
      "cell_type": "markdown",
      "source": [
        "Otros objetos fundamentales en el uso diario de Python son las funciones. Para definir una función, necesitaremos la palabra clave ```def```, el nombre de la función y la cabecera. Debemos notar que el nombre de la función (y esto te va a llevar horas de disgustos) es una **variable** que ahora almacenará una función. Vemamos un ejemplo sencillo."
      ],
      "metadata": {
        "id": "cD37mjurNaRn"
      }
    },
    {
      "cell_type": "code",
      "source": [
        "def square(number):\n",
        "  return number ** 2"
      ],
      "metadata": {
        "id": "84izuE4mMWwX"
      },
      "execution_count": null,
      "outputs": []
    },
    {
      "cell_type": "markdown",
      "source": [
        "A partir de ahora, la función se almacena en la variable ```square``` (literalmente):"
      ],
      "metadata": {
        "id": "k_jJGrBONtIX"
      }
    },
    {
      "cell_type": "code",
      "source": [
        "square"
      ],
      "metadata": {
        "colab": {
          "base_uri": "https://localhost:8080/"
        },
        "id": "Gxv4vvS-NZRs",
        "outputId": "680b21ce-9f3e-420b-e06c-0a1a69bb0e4e"
      },
      "execution_count": null,
      "outputs": [
        {
          "output_type": "execute_result",
          "data": {
            "text/plain": [
              "<function __main__.square(number)>"
            ]
          },
          "metadata": {},
          "execution_count": 56
        }
      ]
    },
    {
      "cell_type": "markdown",
      "source": [
        "Y puede ser llamada en cualquier momento para devolver el cuadrado de un número:"
      ],
      "metadata": {
        "id": "X3mebF8ZNzH5"
      }
    },
    {
      "cell_type": "code",
      "source": [
        "square(5)"
      ],
      "metadata": {
        "colab": {
          "base_uri": "https://localhost:8080/"
        },
        "id": "Pc354XrFNx9W",
        "outputId": "416c8b3f-7a73-41b5-9181-1667873e4cbc"
      },
      "execution_count": null,
      "outputs": [
        {
          "output_type": "execute_result",
          "data": {
            "text/plain": [
              "25"
            ]
          },
          "metadata": {},
          "execution_count": 57
        }
      ]
    },
    {
      "cell_type": "markdown",
      "source": [
        "Si en algún momento se modifica la referencia de la variable ```square```, la función se perderá para siempre."
      ],
      "metadata": {
        "id": "WTkeOiamN5ba"
      }
    },
    {
      "cell_type": "code",
      "source": [
        "square = \"Hola\"\n",
        "square"
      ],
      "metadata": {
        "colab": {
          "base_uri": "https://localhost:8080/",
          "height": 36
        },
        "id": "Ildbe3NnN3zO",
        "outputId": "d44b7896-c3bc-421e-ee3e-322e2c02f7c9"
      },
      "execution_count": null,
      "outputs": [
        {
          "output_type": "execute_result",
          "data": {
            "text/plain": [
              "'Hola'"
            ],
            "application/vnd.google.colaboratory.intrinsic+json": {
              "type": "string"
            }
          },
          "metadata": {},
          "execution_count": 58
        }
      ]
    },
    {
      "cell_type": "markdown",
      "source": [
        "También podemos tipar los datos de la cabecera o darles un valor por defecto."
      ],
      "metadata": {
        "id": "DHDWUSxyOCHD"
      }
    },
    {
      "cell_type": "code",
      "source": [
        "def square(number: int = 5):\n",
        "  return number ** 2\n",
        "\n",
        "square()"
      ],
      "metadata": {
        "colab": {
          "base_uri": "https://localhost:8080/"
        },
        "id": "xdUJMQH6OAXM",
        "outputId": "416505ef-4512-444b-bf42-14f7e31059d9"
      },
      "execution_count": null,
      "outputs": [
        {
          "output_type": "execute_result",
          "data": {
            "text/plain": [
              "25"
            ]
          },
          "metadata": {},
          "execution_count": 59
        }
      ]
    },
    {
      "cell_type": "markdown",
      "source": [
        "Una función puede devolver cualquier número de _outputs_: desde ninguno, como la función ```print``` (siempre será _None_); uno, como la función ```square``` que acabamos de definir; o más de uno (sí, esto en Java no existe). Si devuelve más de un valor, se devolverá en forma de **tupla**."
      ],
      "metadata": {
        "id": "ruSkmzI1OOXe"
      }
    },
    {
      "cell_type": "code",
      "source": [
        "def double_square(number: int):\n",
        "  return number * 2, number ** 2\n",
        "\n",
        "double_square(5)"
      ],
      "metadata": {
        "colab": {
          "base_uri": "https://localhost:8080/"
        },
        "id": "FFlLJSioOGQ8",
        "outputId": "a5ba3bd9-70fa-4d9f-bb3f-b342d7db5016"
      },
      "execution_count": null,
      "outputs": [
        {
          "output_type": "execute_result",
          "data": {
            "text/plain": [
              "(10, 25)"
            ]
          },
          "metadata": {},
          "execution_count": 60
        }
      ]
    },
    {
      "cell_type": "markdown",
      "source": [
        "Como ves, el resultado ahora tiene paréntesis (ni corchetes ni llaves). Las tuplas son un tipo básico de Python muy restrictivo que no permiten la modificación de sus valores.\n",
        "\n",
        "Si llamas a una función que devuelve varios valores, entonces posiblemente estés esperando varios valores en la salida."
      ],
      "metadata": {
        "id": "gMqkXaAeOsB9"
      }
    },
    {
      "cell_type": "code",
      "source": [
        "valor1, valor2 = double_square(5)\n",
        "print(valor1, valor2)"
      ],
      "metadata": {
        "colab": {
          "base_uri": "https://localhost:8080/"
        },
        "id": "RJMsDHASOL5q",
        "outputId": "2e388cfb-fa21-4830-d0ab-6c943d7b784d"
      },
      "execution_count": null,
      "outputs": [
        {
          "output_type": "stream",
          "name": "stdout",
          "text": [
            "10 25\n"
          ]
        }
      ]
    },
    {
      "cell_type": "markdown",
      "source": [
        "De igual forma, una función también puede esperar un número no determinado de argumentos. Si son valores independientes, se llaman ```*args```, si son diccionarios (parámetros con nombre), se llaman ```**kwargs```.\n",
        "\n",
        "No nos vamos a meter con esto ahora mismo, pero que te vaya sonando.\n",
        "\n",
        "Por supuesto, una función puede devolver **cualquier cosa**, incluso otra función, módulo o clase. Además, también pueden llamarse a sí mismas."
      ],
      "metadata": {
        "id": "8qc_ZLb5PDPG"
      }
    },
    {
      "cell_type": "code",
      "source": [
        "def factorial(number: int):\n",
        "  if number < 0:\n",
        "    print(\"Factorial negativo no definido\")\n",
        "  elif number < 3:\n",
        "    return 1 if number in [0, 1] else 2\n",
        "  else:\n",
        "    return number * factorial(number-1)"
      ],
      "metadata": {
        "id": "uFp3hfTpO9or"
      },
      "execution_count": null,
      "outputs": []
    },
    {
      "cell_type": "markdown",
      "source": [
        "Dedica un poco de tiempo a entender la función anterior si no la entiendes a la primera."
      ],
      "metadata": {
        "id": "ju3eyALtPz2t"
      }
    },
    {
      "cell_type": "code",
      "source": [
        "for number in range(-1, 5):\n",
        "  print(factorial(number))"
      ],
      "metadata": {
        "colab": {
          "base_uri": "https://localhost:8080/"
        },
        "id": "YEWHQlriPzJ9",
        "outputId": "e1166945-7fde-4cae-b435-980f0bce50e4"
      },
      "execution_count": null,
      "outputs": [
        {
          "output_type": "stream",
          "name": "stdout",
          "text": [
            "Factorial negativo no definido\n",
            "None\n",
            "1\n",
            "1\n",
            "2\n",
            "6\n",
            "24\n"
          ]
        }
      ]
    },
    {
      "cell_type": "markdown",
      "source": [
        "¿Sabrías decir por qué aparece un _None_ en la salida?"
      ],
      "metadata": {
        "id": "lG_BtFeOQGNN"
      }
    },
    {
      "cell_type": "markdown",
      "source": [
        "# Programación orientada a objetos"
      ],
      "metadata": {
        "id": "21mSbIlpQwqY"
      }
    },
    {
      "cell_type": "markdown",
      "source": [
        "## Las clases"
      ],
      "metadata": {
        "id": "jZhBk-_mGSh7"
      }
    },
    {
      "cell_type": "markdown",
      "source": [
        "Como otros tantísimos lenguajes de programación, Python también admite el paradigma orientado a objetos (y de hecho, como ya hemos ido viendo, es el generalmente utilizado --**todo** son objetos en Python--).\n",
        "\n",
        "Durante esta parte del _cuadernillo_ veremos cómo podemos definir clases y las relaciones que podemos tener entre ellas.\n",
        "\n",
        "Lo primero de todo es la definición. Para definir una nueva clase, necesitamos utilizar la palabra clave ```class```."
      ],
      "metadata": {
        "id": "GXGy2v_PqM03"
      }
    },
    {
      "cell_type": "code",
      "source": [
        "class Ball:\n",
        "  pass"
      ],
      "metadata": {
        "id": "dRd5hxjjQyiq"
      },
      "execution_count": null,
      "outputs": []
    },
    {
      "cell_type": "markdown",
      "source": [
        "Hay otras palabras clave que no hemos comentado todavía y que es buena idea comentar ahora. Estas palabras clave pueden usarse, sobre todo, a la hora de desarrollar nuevo código, para crear componentes vacías.\n",
        "\n",
        "La palabra clave ```pass``` no hace nada, simplemente rellena un espacio que debe estar ya ocupado (si no pusiésemos ```pass``` en la celda anterior, nos daría un error de indentación al no encontrar nada dentro de la definición de la clase).\n",
        "\n",
        "En los bucles ```for```, podemos hacer uso del ya conocido ```break``` para salir del bucle, pero también del ```continue```, para pasar al siguiente elemento sin terminar de ejecutar todas las instrucciones del cuerpo del ```for```.\n",
        "\n",
        "Volviendo al caso que nos ocupa, acabamos de definir una clase ```Ball``` que no tiene métodos. Vamos a añadir, al menos, un constructor."
      ],
      "metadata": {
        "id": "FnNnz_pYqm8L"
      }
    },
    {
      "cell_type": "code",
      "source": [
        "class Ball:\n",
        "  def __init__(self, id: int = 0):\n",
        "    self.id = id"
      ],
      "metadata": {
        "id": "o8OE3nMzqmPF"
      },
      "execution_count": null,
      "outputs": []
    },
    {
      "cell_type": "markdown",
      "source": [
        "Dentro de la clase que ya habíamos definido, hemos sustituído la palabra clave ```pass``` por una función. En este caso, ```__init__``` es una función muy especial. Esta función es el constructor de toda la vida. Fíjate también la diferencia con Java: en Python el propio objeto no es ```this```, sino ```self```. Además, esta referencia debe ser el primer elemento de los métodos que no sean estáticos (por lo que, cualquier método dentro de una clase que no contenga la palabra clave ```self```, será estático).\n",
        "\n",
        "Este constructor recibe un ```int``` como entrada (o le asigna el valor 0 si no recibe ninguno), y lo almacena en un atributo de la clase llamado ```id```.\n",
        "\n",
        "Ahora viene cuando la matan: **en Python todo es público**. No existe el concepto de un método privado (al menos no es imposible acceder a cualquier componente). Por esto mismo, se ha desarrollado cierta nomenclatura que te indica que estás intentando acceder a un método que igual no necesitas acceder. Es como una señal de aviso.\n",
        "\n",
        "En particular, se usa un símbolo ```_``` delante del nombre para indicar que el método es privado. Por otra parte, se usan dos símbolos ```_``` para indicar que el método es **super** privado (generalmente, heredado de otras superclases), y muy raramente son utilizados.\n",
        "\n",
        "Fíjate, por tanto, que al definir el método ```__init__``` estamos definiciendo un método muy especial. Existen otros, como ```__str__``` (```.toString```) o ```__add__```, que nos permiten dar una representación con una cadena de caracteres y definir la suma de esos elemenetos, respectivamente.\n",
        "\n",
        "Huelga decir que la nomenclatura del uso de ```_``` para definir qué debería ser público y qué no también se utiliza con los atributos de la clase. En este caso, nuestro atributo ```id``` es público y es completamente seguro de acceder desde fuera de la clase."
      ],
      "metadata": {
        "id": "CLsnTQ1BrRTm"
      }
    },
    {
      "cell_type": "code",
      "source": [
        "b = Ball(1)\n",
        "b.id"
      ],
      "metadata": {
        "colab": {
          "base_uri": "https://localhost:8080/"
        },
        "id": "OCooxXiQrQbG",
        "outputId": "cba28b5a-62d7-4bd2-ff2e-ea8a5756a75d"
      },
      "execution_count": null,
      "outputs": [
        {
          "output_type": "execute_result",
          "data": {
            "text/plain": [
              "1"
            ]
          },
          "metadata": {},
          "execution_count": 66
        }
      ]
    },
    {
      "cell_type": "markdown",
      "source": [
        "Como hemos dicho, todo es público y modificable desde cualquier sitio (esto puede llegar a ser realmente caótico, pero recuerda que la responsabilidad siempre recae en el programador). Por ejemplo, no es ilegal definir atributos nuevos en métodos secundarios de la clase o incluso fuera.\n",
        "\n",
        "En el caso de acceder a un atributo inexistente, recibirás una excepción.\n",
        "\n",
        "![image.png](data:image/png;base64,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)"
      ],
      "metadata": {
        "id": "RTLXqDz_s8We"
      }
    },
    {
      "cell_type": "code",
      "source": [
        "b.new = \"Hola\"\n",
        "b.new"
      ],
      "metadata": {
        "colab": {
          "base_uri": "https://localhost:8080/",
          "height": 36
        },
        "id": "CxEsghcfs5r5",
        "outputId": "45e62c0c-88c1-4f06-ee81-12541f12e581"
      },
      "execution_count": null,
      "outputs": [
        {
          "output_type": "execute_result",
          "data": {
            "text/plain": [
              "'Hola'"
            ],
            "application/vnd.google.colaboratory.intrinsic+json": {
              "type": "string"
            }
          },
          "metadata": {},
          "execution_count": 67
        }
      ]
    },
    {
      "cell_type": "markdown",
      "source": [
        "Más adelante veremos cómo se trabajan en Python las excepciones.\n",
        "\n",
        "Por ahora, vamos a seguir añadiendo métodos a nuestra clase ```Ball```."
      ],
      "metadata": {
        "id": "IJX-VbJitX0U"
      }
    },
    {
      "cell_type": "code",
      "source": [
        "class Ball:\n",
        "  def __init__(self, id: int = 0):\n",
        "    self.id = id\n",
        "\n",
        "  def __str__(self) -> str:\n",
        "    return str(self.id)"
      ],
      "metadata": {
        "id": "V4YOaZd-tNF3"
      },
      "execution_count": null,
      "outputs": []
    },
    {
      "cell_type": "markdown",
      "source": [
        "En este caso, hemos redefinido el método ```__str__``` (recuerda, el ```toString```). Fíjate que, en el caso de querer anotar los tipos, puedes añadir ```-> int``` al final de un método para determinar que devuelve un tipo entero.\n",
        "\n",
        "Como en Python se pueden devolver varios tipos, esta nomenclatura puede llegar a ser bastante tediosa, pero ahí la tienes.\n",
        "\n",
        "Ahora, si hacemos un ```print``` de ```Ball```, nos mostrará su ```id```."
      ],
      "metadata": {
        "id": "iCoo-nMNtqml"
      }
    },
    {
      "cell_type": "code",
      "source": [
        "b = Ball(1) # tengo que redefinir esto para crear una nueva instancia\n",
        "print(b)"
      ],
      "metadata": {
        "colab": {
          "base_uri": "https://localhost:8080/"
        },
        "id": "71jNbJ8HtPmP",
        "outputId": "b1f3eea2-b4c0-4fe3-8291-710e30269350"
      },
      "execution_count": null,
      "outputs": [
        {
          "output_type": "stream",
          "name": "stdout",
          "text": [
            "1\n"
          ]
        }
      ]
    },
    {
      "cell_type": "code",
      "source": [
        "b"
      ],
      "metadata": {
        "colab": {
          "base_uri": "https://localhost:8080/"
        },
        "id": "UvIvZ5KQuRkw",
        "outputId": "d024b0f5-cca3-42e6-a8d1-269fad240285"
      },
      "execution_count": null,
      "outputs": [
        {
          "output_type": "execute_result",
          "data": {
            "text/plain": [
              "<__main__.Ball at 0x79e192d52e60>"
            ]
          },
          "metadata": {},
          "execution_count": 70
        }
      ]
    },
    {
      "cell_type": "markdown",
      "source": [
        "Fíjate que la salida estandar se modifica si no llamamos al método ```print```, esto es porque si no añadimos esa función, simplemente se utiliza la representación del objeto. Para modificar esta representación, se debe utilizar el método ```__repr__```."
      ],
      "metadata": {
        "id": "jsDprDg7uhXw"
      }
    },
    {
      "cell_type": "code",
      "source": [
        "class Ball:\n",
        "  def __init__(self, id: int = 0):\n",
        "    self.id = id\n",
        "\n",
        "  def __str__(self) -> str:\n",
        "    return str(self.id)\n",
        "\n",
        "  def __repr__(self) -> str:\n",
        "    return str(self.id)"
      ],
      "metadata": {
        "id": "JLvgYxtfufsE"
      },
      "execution_count": null,
      "outputs": []
    },
    {
      "cell_type": "code",
      "source": [
        "b = Ball(1)\n",
        "b"
      ],
      "metadata": {
        "colab": {
          "base_uri": "https://localhost:8080/"
        },
        "id": "XYUh80kuEfNy",
        "outputId": "cfb9100a-1fbc-4ac4-c8b2-f6a7ba5c338b"
      },
      "execution_count": null,
      "outputs": [
        {
          "output_type": "execute_result",
          "data": {
            "text/plain": [
              "1"
            ]
          },
          "metadata": {},
          "execution_count": 72
        }
      ]
    },
    {
      "cell_type": "markdown",
      "source": [
        "Además de los métodos privados y **super** privados, podemos añadir otros métodos que nos pueden ayudar en el desarrollo del objeto. Estos métodos, recuerda, podrán crear nuevos atributos o incluso borrar otros existentes.\n",
        "\n",
        "No lo hemos hablado hasta ahora, pero la memoria en Python es gestionada automáticamente (como en Java). Solo las referencias nulas son eliminadas. Para borrar una referencia (ponerla en nulo), no sirve igualarla a _None_, porque entonces sí tendría un valor (desconocido). Para eliminar una referencia se debe asignar otro valor o usar la palabra clave ```del```.\n",
        "\n",
        "Cuando decimos asignar otro valor nos referimos a los siguiente. Imaginemos que existe el objeto ```b``` de la clase ```Ball```. Podemos igualar esta variable ```b``` a cualquier otra cosa y, entonces, esa referencia al objeto ```Ball``` se perderá, por lo que, en un futuro, será eliminada automáticamente por el recolector de basura."
      ],
      "metadata": {
        "id": "miC7SzuOEiFZ"
      }
    },
    {
      "cell_type": "code",
      "source": [
        "del b # borra la referencia"
      ],
      "metadata": {
        "id": "F8hKlImNEgoy"
      },
      "execution_count": null,
      "outputs": []
    },
    {
      "cell_type": "markdown",
      "source": [
        "Vamos a crear un método ```bounce``` dentro de ```Ball```."
      ],
      "metadata": {
        "id": "mXJOBdNbFR9l"
      }
    },
    {
      "cell_type": "code",
      "source": [
        "class Ball:\n",
        "  def __init__(self, id: int = 0):\n",
        "    self.id = id\n",
        "\n",
        "  def bounce(self, times: int = 1):\n",
        "    for _ in range(times):\n",
        "      self.id += 1\n",
        "      print(f\"Bounce one more time: {self.id}\")\n",
        "\n",
        "  def __str__(self) -> str:\n",
        "    return str(self.id)\n",
        "\n",
        "  def __repr__(self) -> str:\n",
        "    return str(self.id)"
      ],
      "metadata": {
        "id": "L6y2xDKyFPo1"
      },
      "execution_count": null,
      "outputs": []
    },
    {
      "cell_type": "code",
      "source": [
        "b = Ball(0)\n",
        "b.bounce(10)"
      ],
      "metadata": {
        "colab": {
          "base_uri": "https://localhost:8080/"
        },
        "id": "xqvGVtDpFnGw",
        "outputId": "6d7a2472-3b6e-4add-e82a-f2574bfd6f8c"
      },
      "execution_count": null,
      "outputs": [
        {
          "output_type": "stream",
          "name": "stdout",
          "text": [
            "Bounce one more time: 1\n",
            "Bounce one more time: 2\n",
            "Bounce one more time: 3\n",
            "Bounce one more time: 4\n",
            "Bounce one more time: 5\n",
            "Bounce one more time: 6\n",
            "Bounce one more time: 7\n",
            "Bounce one more time: 8\n",
            "Bounce one more time: 9\n",
            "Bounce one more time: 10\n"
          ]
        }
      ]
    },
    {
      "cell_type": "markdown",
      "source": [
        "El método ```bounce``` pretende ser público (fíjate, no se han usado ```_```). Además, recibe un ```int``` como parámetro de entrada, que por defecto toma el valor de 1, y aumenta el valor del atributo ```id``` en esa cantidad.\n",
        "\n",
        "Lo hace de uno en uno, por lo que se usa un ```_dummy_ for```, muy típico en Python (como no se usa el valor de los elementos del iterable, sino que solo se quiere hacer una tarea esa cantidad de veces, se le llama ```_``` a la variable para indicar que no tiene ningún valor importante)."
      ],
      "metadata": {
        "id": "6EEP8vixFqUG"
      }
    },
    {
      "cell_type": "markdown",
      "source": [
        "## Herencia"
      ],
      "metadata": {
        "id": "onEFxCEBGVIt"
      }
    },
    {
      "cell_type": "markdown",
      "source": [
        "Obviamente, el concepto de **herencia** existe y es muy utilizado en Python, lo que permite utilizar todos sus mecanimos. En particular, vamos a ver el polimorfismo y la herencia múltiple (prohibida en Java).\n",
        "\n",
        "Para heredar de una clase, se añade entre paréntesis su nombre. Si hubiera más de una, se separan por comas."
      ],
      "metadata": {
        "id": "t8RrpoVKGWdm"
      }
    },
    {
      "cell_type": "code",
      "source": [
        "class SuperBall(Ball):\n",
        "  pass"
      ],
      "metadata": {
        "id": "wHf5A3EuGJ01"
      },
      "execution_count": null,
      "outputs": []
    },
    {
      "cell_type": "markdown",
      "source": [
        "Ahora que tenemos ```SuperBall```, que hereda de ```Ball```, podemos hacer uso de ```super```, un método que nos permite acceder a la superclase.\n",
        "\n",
        "Por ejemplo, el constructor de ```SuperBall``` podría tener esta pinta."
      ],
      "metadata": {
        "id": "4VdLoTS4GnCN"
      }
    },
    {
      "cell_type": "code",
      "source": [
        "class SuperBall(Ball):\n",
        "  def __init__(self, id: int = 0):\n",
        "    super().__init__(id)"
      ],
      "metadata": {
        "id": "O2NeCVmjGmKP"
      },
      "execution_count": null,
      "outputs": []
    },
    {
      "cell_type": "markdown",
      "source": [
        "Fíjate en cómo se llama a ```super``` y, después, a su constructor.\n",
        "\n",
        "Ahora vamos a crear un método ```bounce``` que haga polimorfismo sobre el ya conocido."
      ],
      "metadata": {
        "id": "ulQBHo38G5nj"
      }
    },
    {
      "cell_type": "code",
      "source": [
        "class SuperBall(Ball):\n",
        "  def __init__(self, id: int = 0):\n",
        "    super().__init__(id)\n",
        "\n",
        "  def bounce(self, times: int = 1):\n",
        "    for _ in range(times):\n",
        "      self.id += 5\n",
        "      print(f\"SUPER BOUNCING one more time: {self.id}\")"
      ],
      "metadata": {
        "id": "0f-QCOFOG40l"
      },
      "execution_count": null,
      "outputs": []
    },
    {
      "cell_type": "code",
      "source": [
        "sb = SuperBall(0)\n",
        "sb.bounce(1)"
      ],
      "metadata": {
        "colab": {
          "base_uri": "https://localhost:8080/"
        },
        "id": "DWFhAt-IHKwk",
        "outputId": "e8ffaf8c-ec96-4e8f-c2a4-d9ffc46ea586"
      },
      "execution_count": null,
      "outputs": [
        {
          "output_type": "stream",
          "name": "stdout",
          "text": [
            "SUPER BOUNCING one more time: 5\n"
          ]
        }
      ]
    },
    {
      "cell_type": "markdown",
      "source": [
        "Obviamente, el resto de métodos modificados (como ```__str__```) pueden utilizarse en la subclase."
      ],
      "metadata": {
        "id": "1IPMCwV0HQ-Q"
      }
    },
    {
      "cell_type": "code",
      "source": [
        "print(sb)"
      ],
      "metadata": {
        "colab": {
          "base_uri": "https://localhost:8080/"
        },
        "id": "YTg9UZHeHN-L",
        "outputId": "e29e0ab7-274e-4453-c57d-001761b63bdc"
      },
      "execution_count": null,
      "outputs": [
        {
          "output_type": "stream",
          "name": "stdout",
          "text": [
            "5\n"
          ]
        }
      ]
    },
    {
      "cell_type": "markdown",
      "source": [
        "En Python no existe el concepto de método abstracto de forma nativa. Tampoco el de interfaz. Una forma sencilla de crearlos es la siguiente."
      ],
      "metadata": {
        "id": "yniOSlALHZEA"
      }
    },
    {
      "cell_type": "code",
      "source": [
        "class IAlive:\n",
        "  def new(self):\n",
        "    self.alive = True\n",
        "\n",
        "  def destroy(self):\n",
        "    self.alive = False"
      ],
      "metadata": {
        "id": "GNr6mfUXHWHl"
      },
      "execution_count": null,
      "outputs": []
    },
    {
      "cell_type": "markdown",
      "source": [
        "Ahora, nuestras clases, como ```SuperBall```, pueden heredar de ```Ball``` y de la _interfaz_ ```IAlive```."
      ],
      "metadata": {
        "id": "k3ZEAnahH1S4"
      }
    },
    {
      "cell_type": "code",
      "source": [
        "class SuperBall(Ball, IAlive):\n",
        "  def __init__(self, id: int = 0):\n",
        "    super().__init__(id)\n",
        "    self.new() # esto creará el atributo alive\n",
        "\n",
        "  def bounce(self, times: int = 1):\n",
        "    for _ in range(times):\n",
        "      self.id += 5\n",
        "      print(f\"SUPER BOUNCING one more time: {self.id}\")"
      ],
      "metadata": {
        "id": "QwnEz1lnH7TZ"
      },
      "execution_count": null,
      "outputs": []
    },
    {
      "cell_type": "code",
      "source": [
        "sb = SuperBall(0)\n",
        "sb.bounce(2)"
      ],
      "metadata": {
        "colab": {
          "base_uri": "https://localhost:8080/"
        },
        "id": "D1Gvx_TNIEiq",
        "outputId": "6b0f88eb-72ed-46eb-9af7-ff84231f7f3c"
      },
      "execution_count": null,
      "outputs": [
        {
          "output_type": "stream",
          "name": "stdout",
          "text": [
            "SUPER BOUNCING one more time: 5\n",
            "SUPER BOUNCING one more time: 10\n"
          ]
        }
      ]
    },
    {
      "cell_type": "code",
      "source": [
        "sb.alive"
      ],
      "metadata": {
        "colab": {
          "base_uri": "https://localhost:8080/"
        },
        "id": "thjd6Ug9IROb",
        "outputId": "12b9f665-9516-4bd7-d443-6de1d180592e"
      },
      "execution_count": null,
      "outputs": [
        {
          "output_type": "execute_result",
          "data": {
            "text/plain": [
              "True"
            ]
          },
          "metadata": {},
          "execution_count": 84
        }
      ]
    },
    {
      "cell_type": "code",
      "source": [
        "sb.destroy()\n",
        "sb.alive"
      ],
      "metadata": {
        "colab": {
          "base_uri": "https://localhost:8080/"
        },
        "id": "CpHZ4CxXISYN",
        "outputId": "6d286040-fae1-4e58-89d9-1b994f62d36f"
      },
      "execution_count": null,
      "outputs": [
        {
          "output_type": "execute_result",
          "data": {
            "text/plain": [
              "False"
            ]
          },
          "metadata": {},
          "execution_count": 85
        }
      ]
    },
    {
      "cell_type": "markdown",
      "source": [
        "Como puedes imaginar, se puede añadir toda la funcionalidad que desees dentro de esta gestión de estados (que es lo que hemos usado para la multiherencia).\n",
        "\n",
        "No vamos a ver el caso extremo en el que se hereda de dos clases que contienen un método llamado igual, porque es una muy mala praxis de la programación, pero Python tiene mecanismos para desambiguar este hecho y permite acceder a todos los métodos, sean de la clase que sean.\n",
        "\n",
        "Existe una excepción muy útil llamada ```NotImplementedMethod``` para hacer referencia a esos métodos definidos pero no implementados (similares a los usados en las clases abstractas). Se usa así:"
      ],
      "metadata": {
        "id": "uyBft98-IYX8"
      }
    },
    {
      "cell_type": "code",
      "source": [
        "class Ball:\n",
        "  def __init__(self, id: int = 0):\n",
        "    self.id = id\n",
        "\n",
        "  def bounce(self, times: int = 1):\n",
        "    for _ in range(times):\n",
        "      self.id += 1\n",
        "      print(f\"Bounce one more time: {self.id}\")\n",
        "\n",
        "  def unbounce(self, times: int = 1):\n",
        "    raise NotImplementedError()\n",
        "\n",
        "  def __str__(self) -> str:\n",
        "    return str(self.id)\n",
        "\n",
        "  def __repr__(self) -> str:\n",
        "    return str(self.id)"
      ],
      "metadata": {
        "id": "13-GUxeyIVST"
      },
      "execution_count": null,
      "outputs": []
    },
    {
      "cell_type": "code",
      "source": [
        "b = Ball(0)\n",
        "# b.unbounce()"
      ],
      "metadata": {
        "id": "XkEJ6uqiJHLs"
      },
      "execution_count": null,
      "outputs": []
    },
    {
      "cell_type": "markdown",
      "source": [
        "![image.png](data:image/png;base64,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)"
      ],
      "metadata": {
        "id": "CeJN-5BmJPBj"
      }
    },
    {
      "cell_type": "markdown",
      "source": [
        "Y ahora, con herencia, podemos definirlo de distinta forma (polimorfismo)."
      ],
      "metadata": {
        "id": "pOrg-NmcJSHz"
      }
    },
    {
      "cell_type": "code",
      "source": [
        "class SuperBall(Ball, IAlive):\n",
        "  def __init__(self, id: int = 0):\n",
        "    super().__init__(id)\n",
        "    self.new() # esto creará el atributo alive\n",
        "\n",
        "  def bounce(self, times: int = 1):\n",
        "    for _ in range(times):\n",
        "      self.id += 5\n",
        "      print(f\"SUPER BOUNCING one more time: {self.id}\")\n",
        "\n",
        "  def unbounce(self, times: int = 1):\n",
        "    self.id -= times\n",
        "    print(self) # podemos hacer esto, y tiene sentido, porque hemos redefinido __str__"
      ],
      "metadata": {
        "id": "rsduKFlVJJZB"
      },
      "execution_count": null,
      "outputs": []
    },
    {
      "cell_type": "code",
      "source": [
        "sb = SuperBall(0)\n",
        "sb.bounce(5)\n",
        "sb.unbounce(5)"
      ],
      "metadata": {
        "colab": {
          "base_uri": "https://localhost:8080/"
        },
        "id": "lKzhLInIJetE",
        "outputId": "f211db15-2771-438f-d414-9b56fb0a512a"
      },
      "execution_count": null,
      "outputs": [
        {
          "output_type": "stream",
          "name": "stdout",
          "text": [
            "SUPER BOUNCING one more time: 5\n",
            "SUPER BOUNCING one more time: 10\n",
            "SUPER BOUNCING one more time: 15\n",
            "SUPER BOUNCING one more time: 20\n",
            "SUPER BOUNCING one more time: 25\n",
            "20\n"
          ]
        }
      ]
    },
    {
      "cell_type": "markdown",
      "source": [
        "# Programación funcional"
      ],
      "metadata": {
        "id": "rLSmetcVJ0XT"
      }
    },
    {
      "cell_type": "markdown",
      "source": [
        "Para finalizar este _cuadernillo_ de iniciación vamos a abrir el melón de la programación funcional.\n",
        "\n",
        "Como todo en Python son objetos, incluso las funciones, la programación funcional está implementada de forma nativa (al menos, lo más básico).\n",
        "\n",
        "Para este ejemplo, volveremos a crear la función de los cuadrados."
      ],
      "metadata": {
        "id": "SUonQW7BJ2mX"
      }
    },
    {
      "cell_type": "code",
      "source": [
        "def square(number):\n",
        "  return number ** 2"
      ],
      "metadata": {
        "id": "5njd4exvJiGn"
      },
      "execution_count": null,
      "outputs": []
    },
    {
      "cell_type": "markdown",
      "source": [
        "Ahora, necesitamos explicar las funciones anónimas ```lambda```, funciones _sin nombre_, porque se usan para definir funciones en una sola línea:"
      ],
      "metadata": {
        "id": "VPSQIcoeKNyI"
      }
    },
    {
      "cell_type": "code",
      "source": [
        "lambda e: e ** 2"
      ],
      "metadata": {
        "colab": {
          "base_uri": "https://localhost:8080/"
        },
        "id": "tj124MULKMr-",
        "outputId": "155a0e3b-4e9e-4c64-a673-03d5176d9dfc"
      },
      "execution_count": null,
      "outputs": [
        {
          "output_type": "execute_result",
          "data": {
            "text/plain": [
              "<function __main__.<lambda>(e)>"
            ]
          },
          "metadata": {},
          "execution_count": 91
        }
      ]
    },
    {
      "cell_type": "markdown",
      "source": [
        "Como no tiene nombre, no podemos usarla fuera del contexto para el que fue definida.\n",
        "\n",
        "La función anterior también genera el cuadrado de un número, fíjate que el ```return``` no se indica, dado que se entiende que es el único contenido que hay dentro de la función ```lambda```.\n",
        "\n",
        "¿En qué contextos se pueden usar estasa funciones? Por ejemplo, en funciones que tienen funciones como parámetro de entrada."
      ],
      "metadata": {
        "id": "InBfM-eNKfnB"
      }
    },
    {
      "cell_type": "code",
      "source": [
        "def pow(number, function):\n",
        "  return function(number)"
      ],
      "metadata": {
        "id": "uGOcIowtKecb"
      },
      "execution_count": null,
      "outputs": []
    },
    {
      "cell_type": "markdown",
      "source": [
        "Ahora, podemos llamar a ```pow``` definiendo una función ```lambda```."
      ],
      "metadata": {
        "id": "g_mu-erBK9L6"
      }
    },
    {
      "cell_type": "code",
      "source": [
        "pow(5, lambda e: e ** 2)"
      ],
      "metadata": {
        "colab": {
          "base_uri": "https://localhost:8080/"
        },
        "id": "cPtXo3JKK71r",
        "outputId": "7cf6a8ff-ab21-4ac7-fb0d-27d4e2615e8d"
      },
      "execution_count": null,
      "outputs": [
        {
          "output_type": "execute_result",
          "data": {
            "text/plain": [
              "25"
            ]
          },
          "metadata": {},
          "execution_count": 93
        }
      ]
    },
    {
      "cell_type": "markdown",
      "source": [
        "Y esta función se ejecutará (por cómo hemos definido ```pow```), tomando como parámetro de entrada el número."
      ],
      "metadata": {
        "id": "NNc5A6ENLDKc"
      }
    },
    {
      "cell_type": "code",
      "source": [
        "pow(5, lambda e: e ** 3)"
      ],
      "metadata": {
        "colab": {
          "base_uri": "https://localhost:8080/"
        },
        "id": "8hdIdX1WLCIn",
        "outputId": "0dc521ff-046a-40fd-b744-8f6f74d94d1f"
      },
      "execution_count": null,
      "outputs": [
        {
          "output_type": "execute_result",
          "data": {
            "text/plain": [
              "125"
            ]
          },
          "metadata": {},
          "execution_count": 94
        }
      ]
    },
    {
      "cell_type": "markdown",
      "source": [
        "Si cambiamos la función anónima, entonces cambia el resultado obtenido."
      ],
      "metadata": {
        "id": "l0_R58RrLMqQ"
      }
    },
    {
      "cell_type": "code",
      "source": [
        "pow(25, lambda e: e ** (1/2))"
      ],
      "metadata": {
        "colab": {
          "base_uri": "https://localhost:8080/"
        },
        "id": "IL-v9Wq_LJ20",
        "outputId": "e8dec80c-3866-4d14-a807-7fe48b2f65a9"
      },
      "execution_count": null,
      "outputs": [
        {
          "output_type": "execute_result",
          "data": {
            "text/plain": [
              "5.0"
            ]
          },
          "metadata": {},
          "execution_count": 95
        }
      ]
    },
    {
      "cell_type": "markdown",
      "source": [
        "Por las propiedades de las potencias, elevar a 1/2 es lo mismo que hacer la raíz cuadrada, por lo que la función anterior ha calculado la raíz cuadrada de 25. Fíjate, por tanto, que el resultado devuelto no es un ```int```, sino un ```float```.\n",
        "\n",
        "Existen un conjunto muy importante de funciones que nos facilitan el trabajo de listas usando programación funcional. La primera es ```map```, que nos permite generar un iterable aplicando una función a cada elemento del iterable. Por ejemplo:"
      ],
      "metadata": {
        "id": "khnm9eX0LSW6"
      }
    },
    {
      "cell_type": "code",
      "source": [
        "l = range(10)\n",
        "l"
      ],
      "metadata": {
        "colab": {
          "base_uri": "https://localhost:8080/"
        },
        "id": "xywEIvtTLRku",
        "outputId": "eb3c0bea-b027-4c2d-877a-2ae06f7cea23"
      },
      "execution_count": null,
      "outputs": [
        {
          "output_type": "execute_result",
          "data": {
            "text/plain": [
              "range(0, 10)"
            ]
          },
          "metadata": {},
          "execution_count": 96
        }
      ]
    },
    {
      "cell_type": "code",
      "source": [
        "l = map(lambda e: e + 5, l)\n",
        "l"
      ],
      "metadata": {
        "colab": {
          "base_uri": "https://localhost:8080/"
        },
        "id": "CtDxdwuFLehh",
        "outputId": "972a6218-92fb-42bc-86cb-6104b9987f12"
      },
      "execution_count": null,
      "outputs": [
        {
          "output_type": "execute_result",
          "data": {
            "text/plain": [
              "<map at 0x79e192cebe50>"
            ]
          },
          "metadata": {},
          "execution_count": 97
        }
      ]
    },
    {
      "cell_type": "markdown",
      "source": [
        "Para resolver el resultado, debemos volver a convertir el ```map``` a ```list```."
      ],
      "metadata": {
        "id": "vlWRilIyL_0o"
      }
    },
    {
      "cell_type": "code",
      "source": [
        "list(l)"
      ],
      "metadata": {
        "colab": {
          "base_uri": "https://localhost:8080/"
        },
        "id": "YVUAfL6rL1lp",
        "outputId": "eb571358-bd6c-4f93-f29e-ab43dc1495f6"
      },
      "execution_count": null,
      "outputs": [
        {
          "output_type": "execute_result",
          "data": {
            "text/plain": [
              "[5, 6, 7, 8, 9, 10, 11, 12, 13, 14]"
            ]
          },
          "metadata": {},
          "execution_count": 98
        }
      ]
    },
    {
      "cell_type": "markdown",
      "source": [
        "En este caso, hemos sumado 5 unidades a todos los elementos del rango [0, 10).\n",
        "\n",
        "Otra operación muy común que podemos hacer es filtrar la información de un iterable. Esto es equivalente a hacer un ```for``` y después eliminar los elementos indeseados.\n",
        "\n",
        "Para filtrar, usaremos la función ```filter```, que como ```map```, recibe una función y un iterable como parámetros de entrada."
      ],
      "metadata": {
        "id": "7kY2U9F5MF4E"
      }
    },
    {
      "cell_type": "code",
      "source": [
        "l = range(10)\n",
        "f = filter(lambda e: e % 2 == 0, l)\n",
        "list(f)"
      ],
      "metadata": {
        "id": "qbTQ1Ue4L9hO",
        "colab": {
          "base_uri": "https://localhost:8080/"
        },
        "outputId": "1a7d2649-376d-4ec7-a4a9-7f0c48f65d12"
      },
      "execution_count": null,
      "outputs": [
        {
          "output_type": "execute_result",
          "data": {
            "text/plain": [
              "[0, 2, 4, 6, 8]"
            ]
          },
          "metadata": {},
          "execution_count": 100
        }
      ]
    },
    {
      "cell_type": "markdown",
      "source": [
        "Como ves, el resultado es igual al que habíamos obtenido anteriormente con una lista por compresión. Esta función puede ser muy útil a la hora de trabajar con objetos, porque se puede filtrar por el valor de algunos atributos.\n",
        "\n",
        "Finalmente, otra función muy interesante de conocer es la función ```reduce```, que no es nativa de Python (necesitamos importar un módulo especial).\n",
        "\n",
        "Esta función nos permite reducir un iterable a un solo valor, dependiendo de una condición. De esta forma, por ejemplo, podríamos calcular el valor más grande de una lista, entre otros."
      ],
      "metadata": {
        "id": "bQgDs6lh2Q6W"
      }
    },
    {
      "cell_type": "code",
      "source": [
        "import functools # así se importan módulos en Python: import + nombre_del_módulo\n",
        "\n",
        "l = range(10)\n",
        "functools.reduce(lambda acc, ele: acc if acc > ele else ele, l) # calcula el máximo del iterable"
      ],
      "metadata": {
        "colab": {
          "base_uri": "https://localhost:8080/"
        },
        "id": "FG_BuKPu1UBR",
        "outputId": "63bab2bb-837e-4068-b6af-e31271eeb1ff"
      },
      "execution_count": null,
      "outputs": [
        {
          "output_type": "execute_result",
          "data": {
            "text/plain": [
              "9"
            ]
          },
          "metadata": {},
          "execution_count": 104
        }
      ]
    },
    {
      "cell_type": "markdown",
      "source": [
        "Ya que estamos, vamos a ver las tres formas que tenemos de importar funcionalidad en Python.\n",
        "\n",
        "La primera ya la hemos visto, podemos importar **todo el módulo** en la variable que toma su mismo nombre con la instrucción ```import```.\n",
        "\n",
        "Si solo nos interesa una función del módulo, o nos interesa acceder a algunas funciones sin utilizar el álias (el nombre del módulo + punto + función ```functools.reduce```), podemos utilizar la siguiente instrucción:"
      ],
      "metadata": {
        "id": "e4e2nCZ93Pdv"
      }
    },
    {
      "cell_type": "code",
      "source": [
        "from functools import reduce\n",
        "\n",
        "l = range(10)\n",
        "reduce(lambda acc, ele: acc if acc > ele else ele, l)"
      ],
      "metadata": {
        "colab": {
          "base_uri": "https://localhost:8080/"
        },
        "id": "1mSTtR0G27bl",
        "outputId": "2b53064c-6240-4d8f-866a-b165fe4bd581"
      },
      "execution_count": null,
      "outputs": [
        {
          "output_type": "execute_result",
          "data": {
            "text/plain": [
              "9"
            ]
          },
          "metadata": {},
          "execution_count": 105
        }
      ]
    },
    {
      "cell_type": "markdown",
      "source": [
        "Al haber usado ```from + import```, podemos utilizar la función sin hacer mención al módulo al que pertenece.\n",
        "\n",
        "Finalmente, si queremos cambiar el nombre en el que se almacenará la información del módulo, podemos darle un nuevo álias usando el nombre clave ```as``` en cualquiera de las dos formas anteriores."
      ],
      "metadata": {
        "id": "QYDVSskt3pfE"
      }
    },
    {
      "cell_type": "code",
      "source": [
        "import functools as f\n",
        "from functools import reduce as r"
      ],
      "metadata": {
        "id": "ddFXXlWQ3ojr"
      },
      "execution_count": null,
      "outputs": []
    },
    {
      "cell_type": "code",
      "source": [
        "f.reduce"
      ],
      "metadata": {
        "colab": {
          "base_uri": "https://localhost:8080/"
        },
        "id": "nOblWd7n39HX",
        "outputId": "b3ee0fb8-d81d-42c1-8bdf-33080186fa14"
      },
      "execution_count": null,
      "outputs": [
        {
          "output_type": "execute_result",
          "data": {
            "text/plain": [
              "<function _functools.reduce>"
            ]
          },
          "metadata": {},
          "execution_count": 107
        }
      ]
    },
    {
      "cell_type": "code",
      "source": [
        "r"
      ],
      "metadata": {
        "colab": {
          "base_uri": "https://localhost:8080/"
        },
        "id": "6JcPJ5IK3976",
        "outputId": "24ff7c2f-628c-4ba5-a492-e0a582d654fc"
      },
      "execution_count": null,
      "outputs": [
        {
          "output_type": "execute_result",
          "data": {
            "text/plain": [
              "<function _functools.reduce>"
            ]
          },
          "metadata": {},
          "execution_count": 108
        }
      ]
    },
    {
      "cell_type": "markdown",
      "source": [
        "Aquí termina este _cuadernillo_ de iniciación, que no deja de ser un baño sobre distintas cosas útiles de conocer en Python.\n",
        "\n",
        "En los siguientes cuadernillo veremos dos de los módulos más importantes a la hora de trabajar con Inteligencia Artificial (básica, al menos): ```numpy``` y ```pandas```."
      ],
      "metadata": {
        "id": "o2puH8iu3__P"
      }
    }
  ]
}